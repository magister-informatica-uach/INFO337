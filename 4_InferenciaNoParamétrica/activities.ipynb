{
 "cells": [
  {
   "cell_type": "code",
   "execution_count": null,
   "metadata": {},
   "outputs": [],
   "source": [
    "%matplotlib notebook\n",
    "import numpy as np\n",
    "import pandas as pd\n",
    "import scipy.stats\n",
    "import matplotlib.pyplot as plt"
   ]
  },
  {
   "cell_type": "markdown",
   "metadata": {},
   "source": [
    "**Instrucciones**\n",
    "\n",
    "- Trabaje este cuadernillo en grupos de dos. Sugiero un estilo peer-programming donde un estudiante escribe y el otro guia y discute. Pueden intercambiar los roles durante la actividad\n",
    "- Discuta sus resultados. No se aceptarán respuestas sin argumentación. \n",
    "- Al final de la clase suba el cuadernillo a un repositorio privado de github o envíelo al correo phuijse at inf dot uach dot cl"
   ]
  },
  {
   "cell_type": "markdown",
   "metadata": {},
   "source": [
    "# Actividad: Normalidad"
   ]
  },
  {
   "cell_type": "markdown",
   "metadata": {},
   "source": [
    "Pruebe si los siguientes datos son **normales**. Seleccione un test adecuado y discuta sobre los resultados que obtenga"
   ]
  },
  {
   "cell_type": "code",
   "execution_count": null,
   "metadata": {},
   "outputs": [],
   "source": [
    "data = np.loadtxt('data/mistery_data.txt')"
   ]
  },
  {
   "cell_type": "markdown",
   "metadata": {},
   "source": [
    "Ahora aplique la función logaritmo a los datos y repita el procedimiento. ¿A que distribución corresponden entonces estos datos?"
   ]
  },
  {
   "cell_type": "markdown",
   "metadata": {},
   "source": [
    "# Actividad: Comparación de muestras"
   ]
  },
  {
   "cell_type": "markdown",
   "metadata": {},
   "source": [
    "Se tiene una base de datos de gasto energético de personas en [kJ] y un indicador binario que clasifica a la persona como Obeso (0) o Delgado (1)\n",
    "\n",
    "\n",
    "Compare ambas muestras en base a test de hipótesis\n",
    "- ¿Son estas muestras independientes o dependientes? ¿Son los datos normales? \n",
    "- En base a lo anterior seleccione un test adecuado y compare las muestras. ¿Es la diferencia entre las muestras significativa? Discuta sobre sus hallazgos"
   ]
  },
  {
   "cell_type": "code",
   "execution_count": null,
   "metadata": {},
   "outputs": [],
   "source": [
    "energy = np.load('data/gasto_energético.npy')\n",
    "# Primera columna: gasto energético\n",
    "# Segunda columna: Delgado (1) y Obeso (0)"
   ]
  },
  {
   "cell_type": "markdown",
   "metadata": {},
   "source": [
    "# Actividad: Más comparación de muestras"
   ]
  },
  {
   "cell_type": "markdown",
   "metadata": {},
   "source": [
    "Se tiene una base de datos de presión sanguinea de pacientes antes y después de una intervención\n",
    "\n",
    "Compare ambas muestras en base a test de hipótesis\n",
    "- ¿Son estas muestras independientes o dependientes? ¿Son los datos normales? \n",
    "- En base a lo anterior seleccione un test adecuado y compare las muestras. ¿Es la diferencia entre las muestras significativa? Discuta sobre sus hallazgos\n",
    "\n"
   ]
  },
  {
   "cell_type": "code",
   "execution_count": null,
   "metadata": {},
   "outputs": [],
   "source": [
    "df = pd.read_csv('data/blood_pressure.csv', index_col=0)\n",
    "df.head(5)"
   ]
  },
  {
   "cell_type": "code",
   "execution_count": null,
   "metadata": {},
   "outputs": [],
   "source": []
  }
 ],
 "metadata": {
  "kernelspec": {
   "display_name": "Python3 (astro)",
   "language": "python",
   "name": "astro"
  },
  "language_info": {
   "codemirror_mode": {
    "name": "ipython",
    "version": 3
   },
   "file_extension": ".py",
   "mimetype": "text/x-python",
   "name": "python",
   "nbconvert_exporter": "python",
   "pygments_lexer": "ipython3",
   "version": "3.7.5"
  },
  "toc": {
   "base_numbering": 1,
   "nav_menu": {},
   "number_sections": true,
   "sideBar": true,
   "skip_h1_title": false,
   "title_cell": "Table of Contents",
   "title_sidebar": "Contents",
   "toc_cell": false,
   "toc_position": {},
   "toc_section_display": true,
   "toc_window_display": false
  }
 },
 "nbformat": 4,
 "nbformat_minor": 4
}
