{
 "cells": [
  {
   "cell_type": "code",
   "execution_count": null,
   "metadata": {},
   "outputs": [],
   "source": [
    "%matplotlib notebook\n",
    "import numpy as np\n",
    "import pandas as pd\n",
    "from sklearn.linear_model import Ridge\n",
    "from sklearn.preprocessing import PolynomialFeatures\n",
    "from sklearn.pipeline import make_pipeline\n",
    "import matplotlib.pylab as plt"
   ]
  },
  {
   "cell_type": "markdown",
   "metadata": {},
   "source": [
    "# Practical activity\n",
    "\n",
    "In this activity you will explore and analyze a dataset of car gasoline consumption in miles per gallon (MPG) for different brands and types of cars\n",
    "\n",
    "We will use data from the [UCI](https://archive.ics.uci.edu/ml/) repository \n",
    "\n",
    "We will use the following libraries: \n",
    "\n",
    "- Python [pandas](https://pandas.pydata.org) to handle data tables\n",
    "- matplotlib for visualization\n",
    "- Scikit-learn for the modeling\n",
    "\n",
    "## Instructions\n",
    "\n",
    "1. Follow the steps in this notebook, complete the activities and answer the questions marked with a **Q**\n",
    "1. Pre-process the data and inspect it\n",
    "1. Train a linear model to predict MPG as a function of other relevant features\n",
    "1. Work in groups of two. \n",
    "1. Upload you this notebook with your answers to github using a private repository. "
   ]
  },
  {
   "cell_type": "markdown",
   "metadata": {},
   "source": [
    "## Pre-process the data\n",
    "\n",
    "- Import the table as a pandas dataframe and explore it\n",
    "- **Q:** How many features and samples are in the table?\n",
    "- **Q:** Which variables are continuous and which are categorical?\n",
    "\n",
    "In this case\n",
    "\n",
    "- MPG (Miles per gallon) is the variable we want to model (dependent variable) \n",
    "- car_name is the index column\n",
    "- In the original table (auto-mpg.data) there are missing values expressed as \"?\" that are converted to NaN by pandas\n",
    "    - **Q:** What features have missing values?\n",
    "    - **Q:** Give two cars with missing values"
   ]
  },
  {
   "cell_type": "code",
   "execution_count": null,
   "metadata": {},
   "outputs": [],
   "source": [
    "# Use help(pd.read_table) to understand de parameters of read_table\n",
    "\n",
    "df = pd.read_csv(\"data/auto-mpg.data\", delim_whitespace=True, index_col=\"car_name\",  na_values=\"?\",\n",
    "                   names= [\"MPG\", \"cylinders\", \"displacement\", \"horsepower\", \n",
    "                           \"weight\", \"acceleration\", \"model year\", \"origin\", \"car_name\"])\n",
    "df.head()\n",
    "\n",
    "# You can grab a particular column as: df[\"MPG\"]\n",
    "# You can obtain a numpy array from it as: df[\"MPG\"].values"
   ]
  },
  {
   "cell_type": "markdown",
   "metadata": {},
   "source": [
    "## Data inspection\n",
    "\n",
    "- Inspect the histogram of MPG\n",
    "- **Q:** Is MPG normal/Gaussian distributed? Why?\n",
    "- **Q:** Compute and report the mean, standard deviation and skewness (statistical moments) of MPG \n",
    "    - You can use `np.mean()` and `np.std()`\n",
    "    - You can use `scipy.stats.skew()` for the skewness "
   ]
  },
  {
   "cell_type": "code",
   "execution_count": null,
   "metadata": {},
   "outputs": [],
   "source": []
  },
  {
   "cell_type": "markdown",
   "metadata": {},
   "source": [
    "- Plot MPG as a function of weight, acceleration and horsepower\n",
    "- **Q:** Describe qualitatively the type of relation between MPG and the other variables (proportional, inversely proportional, linear, polynomial, exponential, etc)\n",
    "- **Q:** Compute the correlation coefficient $r^2$ for each case (you can use `np.corrcoef(x, y)`)\n",
    "- **Q:** Which feature has the highest correlation with MPG? Which one has the lowest correlation?"
   ]
  },
  {
   "cell_type": "code",
   "execution_count": null,
   "metadata": {},
   "outputs": [],
   "source": []
  },
  {
   "cell_type": "markdown",
   "metadata": {},
   "source": [
    "## Single independant variable regression\n",
    "\n",
    "- **Q:** Find the parameters of a simple linear model to predict MPG given weight using MLE assuming a Gaussian likelihood\n",
    "- **Q:** Propose a polynomial basis of a given degree and find the best regressor for MPG given weight\n",
    "- **Q:** Find the MAP parameters of a linear model to predict MPG from weight assuming a Gaussian likelihood and Gaussian prior (ridge regression)\n",
    "- **Q:** Extend using the best polynomial found in the previous step\n",
    "- In all cases: Plot and study the residuals (errors) between data and your model"
   ]
  },
  {
   "cell_type": "code",
   "execution_count": null,
   "metadata": {},
   "outputs": [],
   "source": []
  }
 ],
 "metadata": {
  "kernelspec": {
   "display_name": "Python3 (astro)",
   "language": "python",
   "name": "astro"
  },
  "language_info": {
   "codemirror_mode": {
    "name": "ipython",
    "version": 3
   },
   "file_extension": ".py",
   "mimetype": "text/x-python",
   "name": "python",
   "nbconvert_exporter": "python",
   "pygments_lexer": "ipython3",
   "version": "3.7.5"
  }
 },
 "nbformat": 4,
 "nbformat_minor": 2
}
