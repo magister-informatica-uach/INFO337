{
 "cells": [
  {
   "cell_type": "code",
   "execution_count": null,
   "metadata": {},
   "outputs": [],
   "source": [
    "%matplotlib notebook\n",
    "import numpy as np\n",
    "import pandas as pd\n",
    "from sklearn.linear_model import Ridge\n",
    "from sklearn.preprocessing import PolynomialFeatures\n",
    "from sklearn.pipeline import make_pipeline\n",
    "import matplotlib.pylab as plt"
   ]
  },
  {
   "cell_type": "markdown",
   "metadata": {},
   "source": [
    "# Actividad práctica\n",
    "\n",
    "En esta actividad exploraremos y analizaremos un dataset de consumo de gasolina en automóbiles medido en millas por galón (MPG) para distintas marcas y tipos de auto\n",
    "\n",
    "Utilizaremos datos del repositorio [UCI](https://archive.ics.uci.edu/ml/) y las siguientes librerías de Python\n",
    "\n",
    "- pandas\n",
    "- matplotlib\n",
    "- Scikit-learn\n",
    "\n",
    "## Instrucciones\n",
    "\n",
    "1. Trabaje en grupos de dos. Se recomienda una metodología peer-programming. Puede subir este cuadernillo a google colab para facilitar la interacción\n",
    "1. Siga los pasos en este cuadernillo, complete las actividades y responda las preguntas \n",
    "1. Envíe su cuadernillo completo (uno por grupo) por correo o súbalo a un repositorio de github privado"
   ]
  },
  {
   "cell_type": "markdown",
   "metadata": {},
   "source": [
    "El siguiente bloque importa los datos que están precargados en la carpeta `data`"
   ]
  },
  {
   "cell_type": "code",
   "execution_count": null,
   "metadata": {},
   "outputs": [],
   "source": [
    "# Puede usar help(pd.read_table) o pd.read_table? para entender lo que hace la siguiente función\n",
    "\n",
    "df = pd.read_csv(\"data/auto-mpg.data\", \n",
    "                 delim_whitespace=True, index_col=\"car_name\",  na_values=\"?\",\n",
    "                 names= [\"MPG\", \"cylinders\", \"displacement\", \"horsepower\",\n",
    "                         \"weight\", \"acceleration\", \"model year\", \"origin\", \"car_name\"])\n",
    "df.head()\n"
   ]
  },
  {
   "cell_type": "markdown",
   "metadata": {},
   "source": [
    "### Tutorial rápido de pandas\n",
    "\n",
    "Puede usar\n",
    "- `df[\"MPG\"]` para recuperar la columna con etiqueta MPG\n",
    "- `df[\"MPG\"].values` para convertir dicha columna en una arreglo de NumPy\n",
    "\n",
    "## Preprocesamiento e inspección\n",
    "\n",
    "- ¿Cúantos atributos y muestras hay en la tabla? Describa las variables\n",
    "- Construya un histograma de MPG y reporte los tres primeros momentos estadísticos\n",
    "- ¿MPG se distribuye gaussiano? Justifique\n",
    "- Construya tres gráficas de MPG como una función del peso, la aceleración y los caballos de fuerza, respectivamente. Calcule el coeficiente de correlación para cada caso\n",
    "- ¿Cúal atributo tiene la correlación más alta y más baja con MPG? Describa cualitativamente el tipo de relación entre MPG y las otras variables (proporcional, inversamente proporcional, lineal, polinomial, ...)"
   ]
  },
  {
   "cell_type": "code",
   "execution_count": null,
   "metadata": {},
   "outputs": [],
   "source": []
  },
  {
   "cell_type": "markdown",
   "metadata": {},
   "source": [
    "## Análisis de regresión\n",
    "\n",
    "- Asuma una verosimilitud Gaussian, prior Gaussiano y un modelo polinomial. Encuentre el MAP de un modelo de regresión lineal que prediga MPG en función de peso. \n",
    "- Calibre usando validación cruzada el hiperparámetro $\\lambda$ y el grado del polinomio en cada caso\n",
    "- Para el mejor caso grafique y estudie los residuos de su modelo\n",
    "- Repita para MPG en función de la aceleración"
   ]
  },
  {
   "cell_type": "code",
   "execution_count": null,
   "metadata": {},
   "outputs": [],
   "source": []
  }
 ],
 "metadata": {
  "kernelspec": {
   "display_name": "Python3 (astro)",
   "language": "python",
   "name": "astro"
  },
  "language_info": {
   "codemirror_mode": {
    "name": "ipython",
    "version": 3
   },
   "file_extension": ".py",
   "mimetype": "text/x-python",
   "name": "python",
   "nbconvert_exporter": "python",
   "pygments_lexer": "ipython3",
   "version": "3.7.5"
  }
 },
 "nbformat": 4,
 "nbformat_minor": 2
}
