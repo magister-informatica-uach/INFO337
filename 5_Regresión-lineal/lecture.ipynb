{
 "cells": [
  {
   "cell_type": "code",
   "execution_count": 2,
   "metadata": {
    "slideshow": {
     "slide_type": "skip"
    }
   },
   "outputs": [],
   "source": [
    "%matplotlib notebook\n",
    "import numpy as np\n",
    "import scipy.stats\n",
    "import matplotlib.pylab as plt\n",
    "from ipywidgets import interact, Button, Output, Box, IntSlider, SelectionSlider\n",
    "from IPython.display import YouTubeVideo"
   ]
  },
  {
   "cell_type": "markdown",
   "metadata": {
    "slideshow": {
     "slide_type": "slide"
    }
   },
   "source": [
    "# Linear regression\n",
    "\n",
    "References for today's lecture:\n",
    "\n",
    "1. Bishop, \"Pattern recognition and machine learning\", **Chapter 3**\n",
    "1. Hastie, Tibshirani and Friedman, \"The elements of statistical learning\" 2nd Ed., *Springer*, **Chapter 3**\n",
    "1. Murphy, \"Machine Learning: A Probabilistic Perspective\", *MIT Press*, 2012, **Chapter 7**\n"
   ]
  },
  {
   "cell_type": "markdown",
   "metadata": {
    "slideshow": {
     "slide_type": "slide"
    }
   },
   "source": [
    "## Introduction\n",
    "\n",
    "Many problems can be posed as \"finding a relation\" between factors/variables\n",
    "\n",
    "This can be interpreted as predicting and/or explaining a variable given others\n",
    "- Sales given money spent in advertising\n",
    "- Chance to rain in Valdivia given temperature, pressure and humidity\n",
    "- Gasoline consumption of a car given acceleration, weight and number of cylinders\n",
    "- Chance to get lung cancer given number of smoked cigarettes per day, age and gender\n",
    "\n",
    "We could ask\n",
    "- Are these variable related?\n",
    "- How strong/significant is the relationship?\n",
    "- What is the nature of the relationship?\n",
    "\n",
    "Answering these helps us **understand the underlying processes behind the data**"
   ]
  },
  {
   "cell_type": "markdown",
   "metadata": {
    "slideshow": {
     "slide_type": "subslide"
    }
   },
   "source": [
    "## Defining regression\n",
    "\n",
    "**Regression** refers to a family of statistical methods to find **relationships** between **variables**\n",
    "\n",
    "In general the relation is modeled as a function $g(\\cdot)$ that maps two types of variables\n",
    "- The input variable $X$ is called **independent variable** or feature\n",
    "- The output variable $Y$ is called **dependent variable**, response or target\n",
    "\n",
    "The mapping or function $g$ is called **predictor** or **regressor**\n",
    "\n",
    "$$\n",
    "g: X \\to Y\n",
    "$$\n",
    "\n",
    "The objective is to learn $g$ such that we can predict $Y$ given $X$, *i.e.* $\\mathbb{E}[Y|X]$ \n",
    "\n",
    "### A context for regression\n",
    "\n",
    "- **Regression** can be defined from an statistical perspective as a special case of model fitting (parameter estimation)\n",
    "- In many books **Regression** is defined from a pure-optimization perspective (deterministic)\n",
    "- **Regression** is considered part of the *supervised learning* paradigm. The difference between **Regression** and *classification* is the nature of the dependent variable (continuous vs categorical)"
   ]
  },
  {
   "cell_type": "markdown",
   "metadata": {
    "slideshow": {
     "slide_type": "subslide"
    }
   },
   "source": [
    "### Parametric vs non-parametric  regression\n",
    "\n",
    "Regression methods can be broadly classified as either parametric or non-parametric \n",
    "\n",
    "In parametric regression (**this lecture**)\n",
    "\n",
    "- We know the model of the regressor\n",
    "- The model has a finite number of parameters\n",
    "- The parameters of the model are all we need to do predictions \n",
    "- Simpler but with bigger assumptions (inductive bias)\n",
    "\n",
    "\n",
    "In nonparametric regression\n",
    "\n",
    "- There is no functional form for the regressor\n",
    "- It can have an infinite number of parameters (and a finite number of hyperparameters)\n",
    "- The regressor is defined from the training data\n",
    "- More flexible but requires more data to fit it\n",
    "- Examples: Splines, Support vector regression, Gaussian processes\n"
   ]
  },
  {
   "cell_type": "markdown",
   "metadata": {
    "slideshow": {
     "slide_type": "slide"
    }
   },
   "source": [
    "## Parametric models for regression\n",
    "\n",
    "Let $X$ be a continuous D-dimensional variable (feature) and $Y$ be a continuous unidimensional variable (target) \n",
    "\n",
    "Let $\\{x_i, y_i\\}$ with $i=1,\\ldots,N$ be a set of $N$ *iid* observations of $X$ and $Y$\n",
    "\n",
    "Let $g_\\theta$ be a model with a M-dimensional parameter $\\theta$ \n",
    "\n",
    "Then we can define parametric regression as finding a value of $\\theta$ such that \n",
    "\n",
    "$$\n",
    "y_i \\approx g_\\theta(x_i),\\quad i=1,\\ldots, N\n",
    "$$\n",
    "\n",
    "### Linear models for regression\n",
    "\n",
    "The simplest parametric model is the **linear model**. A linear model gives rise to **linear regression**\n",
    "\n",
    "The linear model is linear on $\\theta$ but not necessarily on $X$\n",
    "\n",
    "For example a model with unidimensional input\n",
    "\n",
    "$$\n",
    "g_\\theta \\left(x_i \\right) = \\theta_0 + \\theta_1 x_i  + \\theta_2 x_i^2,\n",
    "$$\n",
    "\n",
    "is a linear model and\n",
    "\n",
    "$$\n",
    "g_\\theta(x_i) = \\theta_0 + \\theta_1 \\log(x_i),\n",
    "$$\n",
    "\n",
    "is also a linear model but\n",
    "\n",
    "$$\n",
    "g_\\theta(x_i) = \\theta_0 + \\log(x_i + \\theta_1),\n",
    "$$\n",
    "\n",
    "is not a linear model"
   ]
  },
  {
   "cell_type": "markdown",
   "metadata": {
    "slideshow": {
     "slide_type": "slide"
    }
   },
   "source": [
    "## The simplest linear model (two-dimensions)\n",
    "\n",
    "If we consider a one-dimensional variable $x_i \\in \\mathbb{R}, i=1,\\ldots,N$, then the simplest linear model is\n",
    "\n",
    "$$\n",
    "g_\\theta(x_i) = \\theta_0 + \\theta_1 x_i\n",
    "$$\n",
    "\n",
    "which has $M=2$ parameters. \n",
    "\n",
    "This corresponds to a line in $\\mathbb{R}^2$ and we recognize\n",
    "\n",
    "- $\\theta_0$ as the intercept\n",
    "- $\\theta_1$ as the slope\n",
    "\n",
    "If we consider a two-dimensional variable $x_i = (x_{i1}, x_{i2}) \\in \\mathbb{R}^2, i=1,\\ldots,N$ then we obtain\n",
    "\n",
    "$$\n",
    "g_\\theta(x_i) = \\theta_0 + \\theta_1 x_{i1} + \\theta_2 x_{i2}\n",
    "$$\n",
    "\n",
    "which has $M=3$ parameters. This corresponds to a plane in $\\mathbb{R}^3$\n",
    "\n",
    "\n",
    "The most general form assumes a D-dimensional variable $x_i = (x_{i1}, x_{i2}, \\ldots, x_{iD}), i=1,\\ldots,N$ \n",
    "\n",
    "$$\n",
    "g_\\theta(x_i) = \\theta_0 + \\sum_{j=1}^D \\theta_j x_{ij}\n",
    "$$\n",
    "\n",
    "which has $M=D+1$ parameters, which corresponds to an hyperplane in $\\mathbb{R}^M$"
   ]
  },
  {
   "cell_type": "markdown",
   "metadata": {
    "slideshow": {
     "slide_type": "subslide"
    }
   },
   "source": [
    "### Fitting the simplest linear model\n",
    "\n",
    "Assuming that we have $\\{x_i, y_i\\}_{i=1,\\ldots,N}$ *iid* observations from unidimensional variables X and Y\n",
    "\n",
    "> How do we find $\\theta_0$ and $\\theta_1$ such that $y_i \\approx \\theta_0 + \\theta_1 x_i, \\forall i$?\n",
    "\n",
    "We can start by writing the squared residual (error) as \n",
    "\n",
    "$$\n",
    "E_i^2 = (y_i - \\theta_0 - \\theta_1 x_i)^2\n",
    "$$\n",
    "\n",
    "We would like to make the sum of squared errors as small as we possible so we seek\n",
    "\n",
    "$$\n",
    "\\min_{\\theta} L = \\sum_{i=1}^N E_i^2 = \\sum_{i=1}^N (y_i - \\theta_0 - \\theta_1 x_i)^2,\n",
    "$$\n",
    "\n",
    "where $L$, the sum of squares errors, is a our loss/cost function"
   ]
  },
  {
   "cell_type": "markdown",
   "metadata": {},
   "source": [
    "From here we can do\n",
    "\n",
    "$$\n",
    "\\begin{align}\n",
    "\\frac{dL}{d\\theta_0} &= -2 \\sum_{i=1}^N (y_i - \\theta_0 - \\theta_1 x_i) \\nonumber \\\\\n",
    "&= -2 \\sum_{i=1}^N y_i +  2 N\\theta_0 + 2 \\theta_1 \\sum_{i=1}^N x_i = 0 \\nonumber\n",
    "\\end{align}\n",
    "$$\n",
    "\n",
    "and\n",
    "\n",
    "$$\n",
    "\\begin{align}\n",
    "\\frac{dL}{d\\theta_1} &= -2 \\sum_{i=1}^N (y_i - \\theta_0 - \\theta_1 x_i) x_i \\nonumber \\\\\n",
    "&= -2 \\sum_{i=1}^N y_i x_i +  2 \\theta_0 \\sum_{i=1}^N x_i + 2 \\theta_1 \\sum_{i=1}^N x_i^2 = 0 \\nonumber\n",
    "\\end{align}\n",
    "$$\n",
    "\n",
    "a system of two equations and two unknowns\n",
    "\n",
    "$$\n",
    "\\begin{pmatrix} N & \\sum_i x_i \\\\ \\sum_i x_i & \\sum_i x_i^2\\\\\\end{pmatrix} \\begin{pmatrix} \\theta_0 \\\\ \\theta_1 \\end{pmatrix}  = \\begin{pmatrix} \\sum_i y_i \\\\ \\sum_i x_i y_i \\end{pmatrix} \n",
    "$$\n",
    "\n",
    "whose solution is \n",
    "\n",
    "$$\n",
    "\\begin{pmatrix} \\hat \\theta_0 \\\\ \\hat \\theta_1 \\end{pmatrix}  = \n",
    "\\frac{1}{N\\sum_i x_i^2 - (\\sum_i x_i)^2}\\begin{pmatrix} \\sum_i x_i^2 & -\\sum_i x_i \\\\ -\\sum_i x_i & N\\\\\\end{pmatrix}  \n",
    "\\begin{pmatrix} \\sum_i y_i \\\\ \\sum_i x_i y_i \\end{pmatrix} \n",
    "$$\n",
    "\n",
    "where we assume that the determinant complies with: $N\\sum_i x_i^2 - (\\sum_i x_i)^2 \\neq 0$\n",
    "\n",
    "Note that in this case\n",
    "\n",
    "$$\n",
    "\\hat \\theta_1 = \\frac{\\text{Cov}[x, y]}{\\text{Var}[x]}, \\hat \\theta_0 = \\bar y - \\hat \\theta_1 \\bar x\n",
    "$$"
   ]
  },
  {
   "cell_type": "markdown",
   "metadata": {},
   "source": [
    "### Fitting a line using `scipy.stats.linregress`\n",
    "\n",
    "For unidimensional $x$ and $y$ we can use `scipy` to fit a line "
   ]
  },
  {
   "cell_type": "code",
   "execution_count": null,
   "metadata": {},
   "outputs": [],
   "source": [
    "x = np.linspace(-5, 5, num=10);\n",
    "sigma = 2.\n",
    "theta = np.random.randn(2); \n",
    "print(f\"theta0: {theta[0]:0.5f}, theta1: {theta[1]:0.5f}\")\n",
    "y = theta[0] + theta[1]*x + sigma*np.random.randn(len(x))\n",
    "res = scipy.stats.linregress(x,y)\n",
    "theta_hat = np.array([res.intercept, res.slope])\n",
    "print(f\"hat theta0: {theta_hat[0]:0.5f}, hat theta1: {theta_hat[1]:0.5f}\")\n",
    "print(f\"r: {res.rvalue}\")\n",
    "\n",
    "fig = plt.figure(figsize=(6, 4), tight_layout=True)\n",
    "ax1 = plt.subplot2grid((3, 1), (0, 0), rowspan=2)\n",
    "ax1.plot(x, theta[0] + theta[1]*x, 'b-', linewidth=3, alpha=0.5, label='underlying'); \n",
    "ax1.plot(x, theta_hat[0] + theta_hat[1]*x, 'g-', linewidth=3, alpha=0.5, label='model'); \n",
    "ax1.scatter(x, y, c='k', s=30, label='data')\n",
    "ax1.vlines(x, theta_hat[0] + theta_hat[1]*x, y, 'k', linestyles='dashed')\n",
    "plt.legend();\n",
    "ax2 = plt.subplot2grid((3, 1), (2, 0))\n",
    "ax2.scatter(x, y - theta_hat[0] - theta_hat[1]*x, c='k', s=30);"
   ]
  },
  {
   "cell_type": "markdown",
   "metadata": {},
   "source": [
    "This is equivalent to the formulas we derived:"
   ]
  },
  {
   "cell_type": "code",
   "execution_count": null,
   "metadata": {
    "slideshow": {
     "slide_type": "subslide"
    }
   },
   "outputs": [],
   "source": [
    "def fit_line_model(x, y):\n",
    "    sum_x2 = np.sum(x**2); \n",
    "    sum_x = np.sum(x)\n",
    "    sum_xy = np.sum(x*y); \n",
    "    sum_y = np.sum(y)\n",
    "    Phi = [[sum_x2, -sum_x],[-sum_x, len(x)]]\n",
    "    Y = [sum_y, sum_xy]\n",
    "    return np.dot(Phi, Y)/(len(x)*sum_x2 - sum_x**2)\n",
    "\n",
    "fit_line_model(x, y)"
   ]
  },
  {
   "cell_type": "markdown",
   "metadata": {
    "slideshow": {
     "slide_type": "subslide"
    }
   },
   "source": [
    "### Quality of the linear fit\n",
    "\n",
    "Can we measure how strong is $y$ related to $\\hat y = \\hat \\theta_0 + \\hat \\theta_1 x$?\n",
    "\n",
    "YES: **Coefficient of determination** or $r^2$\n",
    "$$\n",
    "r^2 = 1 - \\frac{\\sum_i (y_i - \\hat y_i)^2}{\\sum_i (y_i - \\bar y_i)^2}\n",
    "$$\n",
    "- one minus the Sum of residuals divided by the variance of y\n",
    "- $r$ is equivalent to Pearson's correlation coefficient\n",
    "- $r^2 \\in [0, 1]$\n",
    "- If $r^2 = 1$, the data points are fitted perfectly by the model. The regressor accounts for all of the variation in y\n",
    "- If $r^2 = 0$, the regression line is horizontal. The regressor accounts for none of the variation in y\n",
    "- If the relation is strong but non-linear it will not be detected by $r^2$"
   ]
  },
  {
   "cell_type": "markdown",
   "metadata": {
    "slideshow": {
     "slide_type": "slide"
    }
   },
   "source": [
    "## Ordinary Least Squares (OLS)\n",
    "\n",
    "Now we will generalize the previous solution assuming that we have $\\{x_i, y_i\\}_{i=1,\\ldots,N}$ *iid* observations from unidimensional  Y and **D-dimensional variable** X\n",
    "\n",
    "> How do we find $\\theta$  such that $y_i \\approx \\theta_0 + \\sum_{j=1}^D \\theta_j x_{ij}, \\forall i$?\n",
    "\n",
    "We can write the sum of squared errors (residuals) as\n",
    "\n",
    "$$\n",
    "\\min_\\theta L = \\sum_{i=1}^N (y_i - \\theta_0 - \\sum_{j=1}^D \\theta_j x_{ij})^2\n",
    "$$\n",
    "\n",
    "For simplicity consider the matrices\n",
    "$$\n",
    "X = \\begin{pmatrix} 1 & x_{11} & x_{12} & \\ldots & x_{1D} \\\\ \n",
    "1 & x_{21} & x_{22} & \\ldots & x_{2D} \\\\\n",
    "1 & \\vdots & \\vdots & \\ddots & \\vdots \\\\\n",
    "1 & x_{N1} & x_{N2} & \\ldots & x_{ND} \\end{pmatrix},  Y = \\begin{pmatrix} y_1 \\\\ y_2 \\\\ \\vdots \\\\ y_N \\end{pmatrix}, \\theta =  \\begin{pmatrix} \\theta_0 \\\\ \\theta_1 \\\\ \\vdots \\\\ \\theta_D \\end{pmatrix}\n",
    "$$\n",
    "\n",
    "With these we can write the cost function in matrix form as\n",
    "\n",
    "$$\n",
    "\\min_\\theta  L = \\| Y - X \\theta \\|^2 = (Y - X \\theta)^T (Y - X \\theta)\n",
    "$$\n",
    "\n",
    "From here we can do\n",
    "\n",
    "$$\n",
    "\\frac{dL}{d\\theta} = -(Y - X \\theta)^T X =  -X^T (Y - X \\theta) = 0\n",
    "$$\n",
    "\n",
    "to obtain the **normal equations**\n",
    "\n",
    "$$\n",
    "X^T X \\theta  = X^T Y\n",
    "$$\n",
    "\n",
    "and if $X^T X$ is invertible then\n",
    "\n",
    "$$\n",
    "\\hat \\theta = (X^T X)^{-1} X^T Y\n",
    "$$\n",
    "\n",
    "which  is called the **least squares (LS) estimator** of $\\theta$"
   ]
  },
  {
   "cell_type": "markdown",
   "metadata": {},
   "source": [
    "### Fitting an hyperplane using `np.linalg`\n",
    "\n",
    "We can find $\\theta$ by solving the normal equations with `np.linalg.lstsq`\n",
    "\n",
    "```python\n",
    ">>> theta_hat = np.linalg.lstsq(X, Y)\n",
    "```"
   ]
  },
  {
   "cell_type": "code",
   "execution_count": null,
   "metadata": {
    "slideshow": {
     "slide_type": "subslide"
    }
   },
   "outputs": [],
   "source": [
    "from mpl_toolkits.mplot3d import Axes3D\n",
    "\n",
    "theta = [4, 3, 2];\n",
    "sigma = 10.\n",
    "X1, X2 = np.meshgrid(np.linspace(-5, 5, num=10), np.linspace(-5, 5, num=10))\n",
    "XY1 = np.stack((np.ones_like(X1.ravel()), X1.ravel(), X2.ravel())).T\n",
    "\n",
    "Y_clean = theta[0] + theta[1]*X1 + theta[2]*X2 \n",
    "Y = Y_clean + sigma*np.random.randn(*Y_clean.shape)\n",
    "param, MSE, rank, singval = np.linalg.lstsq(XY1, Y.ravel(), rcond=None)\n",
    "\n",
    "fig = plt.figure(figsize=(5.5, 5), tight_layout=True)\n",
    "ax = fig.add_subplot(111, projection='3d')\n",
    "ax.scatter(X1, X2, Y, s=50, c='k', label='data')\n",
    "ax.plot_wireframe(X1, X2, Y_clean, color='g', label='underlying')\n",
    "ax.plot_wireframe(X1, X2, param[0] + param[1]*X1 + param[2]*X2, color='b', label='model')\n",
    "plt.legend()"
   ]
  },
  {
   "cell_type": "markdown",
   "metadata": {
    "slideshow": {
     "slide_type": "subslide"
    }
   },
   "source": [
    "For the two-dim linear model we found these normal equations\n",
    "\n",
    "$$\n",
    "\\begin{pmatrix} N & \\sum_i x_i \\\\ \\sum_i x_i & \\sum_i x_i^2\\\\\\end{pmatrix} \\begin{pmatrix} \\theta_0 \\\\ \\theta_1 \\end{pmatrix}  = \\begin{pmatrix} \\sum_i y_i \\\\ \\sum_i x_i y_i \\end{pmatrix} \n",
    "$$\n",
    "\n",
    "and they can be written as\n",
    "$$\n",
    "\\begin{align}\n",
    "\\begin{pmatrix} 1 & 1 & \\ldots & 1 \\\\ x_1 & x_2 & \\ldots & x_N \\end{pmatrix} \n",
    "\\begin{pmatrix} 1 & x_1 \\\\ 1 & x_2 \\\\ \\vdots & \\vdots \\\\ 1 & x_N \\end{pmatrix} \n",
    "\\begin{pmatrix} \\theta_0 \\\\ \\theta_1 \\end{pmatrix}  &= \n",
    "\\begin{pmatrix} 1 & 1 & \\ldots & 1 \\\\ x_1 & x_2 & \\ldots & x_N \\end{pmatrix} \n",
    "\\begin{pmatrix} y_1 \\\\ y_2 \\\\ \\vdots \\\\ y_N \\end{pmatrix} \\nonumber \\\\\n",
    "X^T X \\theta &= X^T Y \\nonumber\n",
    "\\end{align}\n",
    "$$\n",
    "the same form as the general case\n"
   ]
  },
  {
   "cell_type": "markdown",
   "metadata": {
    "slideshow": {
     "slide_type": "subslide"
    }
   },
   "source": [
    "### Numerical considerations of the LS solution\n",
    "\n",
    "The LS estimator is\n",
    "\n",
    "$$\n",
    "\\hat \\theta = (X^T X)^{-1} X^T Y\n",
    "$$\n",
    "\n",
    "The LS estimator is a batch solution, *i.e.* it uses all observations at once\n",
    "- If N is large it might be impossible to obtain it\n",
    "- In that case it might be better to use stochastic gradient descent \n",
    "\n",
    "$X^{\\dagger} = (X^T X)^{-1} X^T $ is known as the [*Moore-Penrose*](https://en.wikipedia.org/wiki/Moore%E2%80%93Penrose_inverse) pseudo-inverse:\n",
    "- $X^{\\dagger}$ is the inverse for matrices that are not squared\n",
    "- If X is squared and invertible then $X^{\\dagger} = (X^T X)^{-1} X^T  = X^{-1} (X^T)^{-1} X^T = X^{-1}$\n",
    "\n",
    "The LS estimator is valid only if we can invert $X^T X$:\n",
    "- $X^T X$ is a squared symmetric $M\\times M$ matrix\n",
    "- If $(X^T X)^{-1}$ exists the LS solution is unique and the problem is *well-posed*\n",
    "- If $X^T X$ is positive definite, *i.e.* $z^T X^T X z > 0, \\forall z$ then its inverse exist\n",
    "- $X^T X$ being positive definite is equivalent to each of the following\n",
    "    - The columns of $X$ are Linearly Independent (LI)\n",
    "    - All the eigenvalues of $X^T X$ are positive\n",
    "    - The Cholesky decomposition of $X^T X$ exists\n",
    "\n",
    "**Trick of the trade:** Add a small value to the diagonal of $X^T X$ to make it invertible. We will see later that this is equivalent to regularization"
   ]
  },
  {
   "cell_type": "markdown",
   "metadata": {
    "slideshow": {
     "slide_type": "subslide"
    }
   },
   "source": [
    "### Quality of D-dimensional linear fit\n",
    "\n",
    "In this case the **Coefficient of determination** or $r^2$ can be written as\n",
    "$$\n",
    "\\begin{align}\n",
    "r^2 &= 1 - \\frac{\\sum_i (y_i - \\hat y_i)^2}{\\sum_i (y_i - \\bar y_i)^2} \\nonumber \\\\\n",
    "&= 1 - \\frac{Y^T(I-X(X^TX)^{-1}X^T)Y}{Y^T (I - \\frac{1}{N} \\mathbb{1}^T \\mathbb{1} ) Y} \\nonumber \\\\\n",
    "&= 1 - \\frac{SS_{res}}{SS_{total}} \\nonumber\n",
    "\\end{align}\n",
    "$$\n",
    "where $\\mathbb{1} = (1, 1, \\ldots, 1)$\n",
    "- It has the same interpretation as explained before\n",
    "- Review the previous class on ANOVA and reflect on the similarities, How do we get F distributions from $SS_{res}$ and $SS_{total}$?\n"
   ]
  },
  {
   "cell_type": "markdown",
   "metadata": {
    "slideshow": {
     "slide_type": "subslide"
    }
   },
   "source": [
    "## Statistical view of OLS\n",
    "\n",
    "Up to now we have viewed regression from a deterministic (optimization) perspective\n",
    "\n",
    "To understand the properties and do inference we seek an statistical interpretation\n",
    "\n",
    "Assuming that we have $\\{x_i, y_i\\}_{i=1,\\ldots,N}$ iid observations from unidimensional  Y and **D-dimensional variable** X\n",
    "\n",
    "Let's assume that our measurements of $Y$ consists of the **true model** plus **white Gaussian noise**, *i.e.*\n",
    "\n",
    "$$\n",
    "y_i = \\theta_0 + \\sum_{j=1}^D \\theta_j x_{ij} + \\varepsilon_i, \\forall i \\quad \\text{and} \\quad \\varepsilon_i \\sim \\mathcal{N}(0, \\sigma^2)\n",
    "$$\n",
    "\n",
    "Then we can write the log likelihood of $\\theta$ as \n",
    "\n",
    "$$\n",
    "\\begin{align}\n",
    "\\log L(\\theta) &= \\log \\prod_{i=1}^N \\mathcal{N}(y_i | (1, x_{i1}, \\ldots, x_{iD}) \\theta, \\sigma^2) \\nonumber \\\\\n",
    "&= \\sum_{i=1}^N \\log \\mathcal{N}(y_i | (1, x_{i1}, \\ldots, x_{iD}) \\theta, \\sigma^2) \\nonumber \\\\\n",
    "&= -\\frac{N}{2} \\log(2\\pi \\sigma^2) - \\frac{1}{2\\sigma^2} \\sum_{i=1}^N (y_i - (1, x_{i1}, \\ldots, x_{iD}) \\theta)^2,\\nonumber \\\\\n",
    "&= -\\frac{N}{2} \\log(2\\pi \\sigma^2) - \\frac{1}{2\\sigma^2} (Y-X\\theta)^T (Y - X\\theta) \\nonumber \n",
    "\\end{align}\n",
    "$$\n",
    "\n",
    "\n",
    "### Maximum Likelihood of Spherical Gaussian and Least Squares\n",
    "\n",
    "Given that we know $\\sigma > 0$ then\n",
    "\n",
    "$$\n",
    "\\begin{align}\n",
    "\\max_\\theta \\log L(\\theta) &= -\\frac{N}{2} \\log(2\\pi \\sigma^2) - \\frac{1}{2\\sigma^2} (Y-X\\theta)^T (Y - X\\theta) \\nonumber \\\\\n",
    "&= - \\frac{1}{2\\sigma^2} (Y-X\\theta)^T (Y - X\\theta) \\nonumber \n",
    "\\end{align}\n",
    "$$\n",
    "\n",
    "We can change the sign and transform *max* to *min*:\n",
    "\n",
    "$$\n",
    "\\begin{align}\n",
    "\\min_\\theta \\log L(\\theta) &=  \\frac{1}{2\\sigma^2} (Y-X\\theta)^T (Y - X\\theta) \\nonumber \\\\\n",
    "\\implies \\hat \\theta &= (X^T X)^{-1} X^T Y \\nonumber \n",
    "\\end{align}\n",
    "$$\n",
    "\n",
    "> In this case the **MLE solution is equivalent to least squares**\n"
   ]
  },
  {
   "cell_type": "markdown",
   "metadata": {
    "slideshow": {
     "slide_type": "subslide"
    }
   },
   "source": [
    "### Statistical properties of OLS\n",
    "\n",
    "Let $\\varepsilon = (\\varepsilon_1, \\varepsilon_2, \\ldots, \\varepsilon_N)$, where $\\varepsilon_i \\sim \\mathcal{N}(0, \\sigma^2) \\forall i$ and assume that X is not random\n",
    "\n",
    "Is the estimator unbiased?\n",
    "\n",
    "$$\n",
    "\\begin{align}\n",
    "\\mathbb{E}[\\hat \\theta] &= \\mathbb{E}[(X^T X)^{-1} X^T Y] \\nonumber \\\\\n",
    "&= \\mathbb{E}[(X^T X)^{-1} X^T (X \\theta + \\varepsilon)] \\nonumber \\\\\n",
    "&= \\mathbb{E}[\\theta] + (X^T X)^{-1} X^T \\mathbb{E}[\\varepsilon] \\\\\n",
    "& = \\mathbb{E}[\\theta]\n",
    "\\end{align}\n",
    "$$\n",
    "\n",
    "YES! \n",
    "\n",
    "What is the variance of the estimator? \n",
    "\n",
    "$$\n",
    "\\begin{align}\n",
    "\\mathbb{E}[(\\hat \\theta - \\mathbb{E}[\\hat\\theta])(\\hat \\theta - \\mathbb{E}[\\hat\\theta])^T] &= \\mathbb{E}[((X^T X)^{-1} X^T \\varepsilon) ((X^T X)^{-1} X^T \\varepsilon)^T] \\nonumber \\\\\n",
    "&= (X^T X)^{-1} X^T  \\mathbb{E}[\\varepsilon \\varepsilon^T] X ((X^T X)^{-1})^T  \\nonumber \\\\\n",
    "&= (X^T X)^{-1} X^T  \\mathbb{E}[(\\varepsilon-0) (\\varepsilon-0)^T] X (X^T X)^{-1}  \\nonumber \\\\\n",
    "& =\\sigma^2 (X^T X)^{-1}\n",
    "\\end{align}\n",
    "$$\n",
    "\n",
    "because the variance of $\\varepsilon$ is $I\\sigma^2$\n",
    "\n",
    "Typically we estimate the variance of the noise using the unbiased estimator\n",
    "\n",
    "$$\n",
    "\\begin{align}\n",
    "\\hat \\sigma^2 &= \\frac{1}{N-D-1} \\sum_{i=1}^N (y_i - \\theta_0 - \\sum_{j=1}^D \\theta_j x_{ij})^2 \\nonumber \\\\\n",
    "& = \\frac{1}{N-D-1} (Y-X\\theta)^T (Y-X\\theta)\n",
    "\\end{align}\n",
    "$$\n",
    "\n",
    "(Hastie, 3.2.2) **The Gauss-Markov Theorem:** The least squares estimate of $\\theta$ have the smallest variance among all unbiased estimators"
   ]
  },
  {
   "cell_type": "markdown",
   "metadata": {
    "slideshow": {
     "slide_type": "subslide"
    }
   },
   "source": [
    "### Inference with OLS\n",
    "\n",
    "We found the expected value and the variance of $\\theta$\n",
    "\n",
    "From the properties of MLE we know that\n",
    "\n",
    "$$\n",
    "\\hat \\theta \\sim \\mathcal{N}(\\theta, \\sigma^2 (X^T X)^{-1})\n",
    "$$\n",
    "\n",
    "and the estimator of the variance will be proportional to\n",
    "\n",
    "$$\n",
    "\\hat \\sigma^2 \\sim  \\frac{1}{(N-M)}\\sigma^2 \\chi_{N-M}^2\n",
    "$$\n",
    "\n",
    "With this we have all the ingredients to find confidence intervals and do hypothesis test on $\\hat \\theta$"
   ]
  },
  {
   "cell_type": "markdown",
   "metadata": {
    "slideshow": {
     "slide_type": "fragment"
    }
   },
   "source": [
    "### Hypothesis test on the regression coefficients\n",
    "\n",
    "To assess the significance of our model we might try to reject the following *hypotheses*\n",
    "\n",
    "- One of the parameters (slopes) is zero\n",
    "\n",
    "    $\\mathcal{H}_0: \\theta_i = 0$\n",
    "    \n",
    "    $\\mathcal{H}_A: \\theta_i \\neq 0$\n",
    "    \n",
    "    \n",
    "- All parameters are zero \n",
    "\n",
    "    $\\mathcal{H}_0: \\theta_1 = \\theta_2 = \\ldots = \\theta_D = 0$\n",
    "\n",
    "    $\\mathcal{H}_A:$ At least one parameter is not zero\n",
    "\n",
    "\n",
    "- A subset of the parameters are zero \n",
    "\n",
    "    $\\mathcal{H}_0: \\theta_i = \\theta_j =0 $\n",
    "\n",
    "    $\\mathcal{H}_A:$ $\\theta_i \\neq 0 $ or $\\theta_j \\neq 0 $\n",
    "\n",
    "\n",
    "> We can do this using t-test, f-test or ANOVA"
   ]
  },
  {
   "cell_type": "markdown",
   "metadata": {
    "slideshow": {
     "slide_type": "fragment"
    }
   },
   "source": [
    "We can trust the test only if our assumptions are true\n",
    "\n",
    "- Relation between X and Y is linear\n",
    "- Errors/noise are *iid* \n",
    "- Errors/noise follows a multivariate normal with covariance $I\\sigma^2$"
   ]
  },
  {
   "cell_type": "markdown",
   "metadata": {
    "slideshow": {
     "slide_type": "subslide"
    }
   },
   "source": [
    "### Checking assumptions\n",
    "\n",
    "1. Check the residuals for normality, Are there outliers that we should remove?\n",
    "1. Check for absence of correlation in the residuals\n",
    "1. Do the errors have different variance?\n",
    "\n",
    "\n",
    "\n",
    "For the latter we can use the  **Weighted Least Squares** \n"
   ]
  },
  {
   "cell_type": "markdown",
   "metadata": {
    "slideshow": {
     "slide_type": "subslide"
    }
   },
   "source": [
    "## Weighted Least Squares (WLS)\n",
    "\n",
    "\n",
    "Before we assumed that the noise was homoscedastic (constant variance). We will generalize to the heteroscedastic case\n",
    "\n",
    "Assuming that we have $\\{x_i, y_i\\}_{i=1,\\ldots,N}$ *iid* observations from unidimensional  Y and **D-dimensional variable** X\n",
    "\n",
    "How do we find $\\theta$  such that $y_i \\approx \\theta_0 + \\sum_{j=1}^D \\theta_j x_{ij}, \\forall i$?\n",
    "\n",
    "Let's assume that our measurements of $Y$ consists of the **true model** plus **Gaussian noise** with changing variance, *i.e.*\n",
    "\n",
    "$$\n",
    "y_i = \\theta_0 + \\sum_{j=1}^D \\theta_j x_{ij} + \\varepsilon_i, \\forall i \\quad \\text{and} \\quad \\varepsilon_i \\sim \\mathcal{N}(0, \\sigma_i^2)\n",
    "$$\n",
    "\n",
    "In this case the maximum likelihood solution is \n",
    "\n",
    "$$\n",
    "\\hat \\theta = (X^T \\Sigma^{-1}X)^{-1} X^T \\Sigma^{-1} Y\n",
    "$$\n",
    "\n",
    "where\n",
    "\n",
    "$$\n",
    "\\Sigma = \\begin{pmatrix} \n",
    "\\sigma_1^2 & 0 &\\ldots & 0 \\\\\n",
    "0 & \\sigma_2^2 &\\ldots & 0 \\\\\n",
    "\\vdots & \\vdots &\\ddots & \\vdots \\\\\n",
    "0 & 0 &\\ldots & \\sigma_N^2 \\\\\n",
    "\\end{pmatrix}\n",
    "$$\n",
    "\n",
    "Note that in this case\n",
    "\n",
    "$$\n",
    "\\hat \\theta \\sim \\mathcal{N}( \\theta,  (X^T X)^{-1} X^T  \\Sigma X (X^T X)^{-1} )\n",
    "$$\n"
   ]
  },
  {
   "cell_type": "markdown",
   "metadata": {
    "slideshow": {
     "slide_type": "subslide"
    }
   },
   "source": [
    "## Linear models and Basis functions\n",
    "\n",
    "Can we estimate a model that is not an hyperplane? YES!\n",
    "\n",
    "The most general form of a linear model is\n",
    "\n",
    "$$\n",
    "g_\\theta(x_i) = \\sum_{j=0}^M \\theta_j \\phi_j(x_i),\n",
    "$$\n",
    "\n",
    "where $\\phi_j: \\mathbb{R}^D \\to \\mathbb{R}$ is a set of basis functions\n",
    "\n",
    "Note that M and D are not related as before"
   ]
  },
  {
   "cell_type": "markdown",
   "metadata": {},
   "source": [
    "### Example: Polynomials\n",
    "\n",
    "Unidimensional variable $x_i \\in \\mathbb{R}, i=1,\\ldots,N$\n",
    "\n",
    "Basis function is \n",
    "$$\n",
    "\\begin{align}\n",
    "\\phi_0 (x) &= 1 \\nonumber \\\\\n",
    "\\phi_1 (x) &= x \\nonumber \\\\\n",
    "\\phi_2 (x) &= x^2 \\nonumber \\\\\n",
    "& \\vdots \\nonumber \\\\\n",
    "\\phi_M (x) &= x^M \\nonumber \\\\\n",
    "\\end{align}\n",
    "$$\n",
    "\n",
    "This yields a M-degree polynomial model\n",
    "\n",
    "$$\n",
    "g_\\theta(x_i) = \\theta_0 + \\theta_1 x_i + \\theta_2 x_i^2 + \\ldots + \\theta_M x_i^M, \\forall i\n",
    "$$\n",
    "\n",
    "It is linear in the parameters but non-linear in the input"
   ]
  },
  {
   "cell_type": "markdown",
   "metadata": {},
   "source": [
    "### Example: Transformations\n",
    "\n",
    "Unidimensional variable $x_i \\in \\mathbb{R}, i=1,\\ldots,N$\n",
    "\n",
    "Basis function is \n",
    "\n",
    "$$\n",
    "\\phi_j(x_i) = \\cos(2\\pi j x_i/P)\n",
    "$$\n",
    "\n",
    "This yields\n",
    "\n",
    "$$\n",
    "g_\\theta(x_i) = \\theta_0 + \\theta_1 \\cos(2\\pi x_{i}/P) + \\theta_2 \\cos(4\\pi x_{i}/P) + \\ldots + \\theta_M \\cos(2M\\pi x_{i}/P), \\forall i\n",
    "$$\n",
    "\n",
    "A periodic model that is linear on $\\theta$"
   ]
  },
  {
   "cell_type": "markdown",
   "metadata": {},
   "source": [
    "### Example: Interactions between variables\n",
    "\n",
    "Bidimensional variable $x_i = (x_{i1}, x_{i2}), i=1,\\ldots,N$\n",
    "\n",
    "Basis function is \n",
    "\n",
    "$$\n",
    "\\phi_j(x_i) = \n",
    "\\begin{cases} \n",
    "1 & j=0 \\\\ x_{i1} & j=1 \\\\ \n",
    "x_{i2} & j=2 \\\\ x_{i1} x_{i2} & j=3 \\\\ \n",
    "x_{i1}^2 & j=4 \\\\ x_{i2}^2 & j=5 \\\\\n",
    "\\end{cases}\n",
    "$$\n",
    "\n",
    "A basis with interactions between variables up to second-degree"
   ]
  },
  {
   "cell_type": "markdown",
   "metadata": {},
   "source": [
    "### Example: The simplest linear model\n",
    "\n",
    "D-dimensional variable $x_i = (x_{i1}, x_{i2}, \\ldots, x_{iD}), i=1,\\ldots,N$\n",
    "\n",
    "Basis function is \n",
    "\n",
    "$$\n",
    "\\phi_j(x_i) = \\begin{cases} 1 & j=0 \\\\ x_{ij} & j \\in [1,D] \\end{cases}\n",
    "$$\n",
    "\n",
    "This yields\n",
    "\n",
    "$$\n",
    "g_\\theta(x_i) = \\theta_0 + \\theta_1 x_{i1} + \\theta_2 x_{i2} + \\ldots + \\theta_M x_{iD}, \\forall i\n",
    "$$\n",
    "\n",
    "Which is the simplest linear model we reviewed before"
   ]
  },
  {
   "cell_type": "markdown",
   "metadata": {
    "slideshow": {
     "slide_type": "subslide"
    }
   },
   "source": [
    "## Polynomial regression\n",
    "\n",
    "We can create a polynomial basis easily using `sklearn.preprocessing.PolynomialFeatures` \n",
    "\n",
    "In the following example we fit an $M$ degree polynomial model. \n",
    "\n",
    "- What happens when $M > N$?\n",
    "- What happens to the prediction on the test data point?"
   ]
  },
  {
   "cell_type": "code",
   "execution_count": null,
   "metadata": {
    "slideshow": {
     "slide_type": "fragment"
    }
   },
   "outputs": [],
   "source": [
    "from sklearn.preprocessing import PolynomialFeatures\n",
    "\n",
    "x = np.linspace(-5, 6, num=10); \n",
    "x_plot = np.linspace(np.amin(x), np.amax(x), num=100);\n",
    "theta = [10, -2, -0.3, 0.1]\n",
    "Phi = PolynomialFeatures(len(theta)-1).fit_transform(x.reshape(-1, 1))\n",
    "Y_clean = np.dot(Phi, theta)\n",
    "Y = Y_clean + np.random.randn(len(x))\n",
    "\n",
    "fig = plt.figure(figsize=(6, 4), tight_layout=True)\n",
    "\n",
    "def update(M):\n",
    "    Phi = PolynomialFeatures(M-1).fit_transform(x.reshape(-1, 1))\n",
    "    theta_hat, _, _, _ =  np.linalg.lstsq(Phi, Y, rcond=None)\n",
    "    Y_hat = np.dot(Phi, theta_hat)\n",
    "    \n",
    "    ax = plt.subplot2grid((3, 1), (0, 0), rowspan=2)\n",
    "    ax.scatter(x, Y, c='k', s=50, label='data')\n",
    "    ax.vlines(x, Y_hat, Y, 'k', linestyles='dashed')  \n",
    "    ax.plot(x, Y_clean, 'g--', linewidth=3, alpha=0.5, label='underlying')\n",
    "    Phi_plot = PolynomialFeatures(M-1).fit_transform(x_plot.reshape(-1, 1))\n",
    "    ax.plot(x_plot, np.dot(Phi_plot, theta_hat), 'b-', alpha=0.5, linewidth=3, label='model')\n",
    "    ax.set_ylim([-5, 20]); \n",
    "    plt.legend()\n",
    "    ax = plt.subplot2grid((3, 1), (2, 0))\n",
    "    ax.plot(x, np.zeros_like(x), 'k--', alpha=0.5)\n",
    "    ax.scatter(x, Y - Y_hat, c='k', s=50); \n",
    "    ax.set_title('Residuals')\n",
    "    \n",
    "interact(update, M=SelectionSlider(options=[1, 2, 3, 4, 5, 7, 10, 12]));"
   ]
  },
  {
   "cell_type": "markdown",
   "metadata": {
    "slideshow": {
     "slide_type": "subslide"
    }
   },
   "source": [
    "## Overfitting and regularization\n",
    "\n",
    "\n",
    "In the previous example $M$ represents the complexity of the model\n",
    "\n",
    "In general, more complex models give more flexibility to fit the data\n",
    "\n",
    "But too much complexity causes **overfitting**\n",
    "- the model fits the noise\n",
    "- we can't extract the underlying behavior \n",
    "- the model **does not generalize** to new data\n",
    "\n",
    "Ways to avoid overfitting\n",
    "- Using low complexity models\n",
    "- Set complexity using cross-validation \n",
    "- Regularization"
   ]
  },
  {
   "cell_type": "markdown",
   "metadata": {
    "slideshow": {
     "slide_type": "subslide"
    }
   },
   "source": [
    "### The Bias-Variance trade-off\n",
    "\n",
    "Let's assume that the data is $y = f(x) + \\varepsilon$ (true model + Gaussian noise) and that we use a linear model to find $f(x)$ as $\\hat y = \\sum_j \\theta_j \\phi_j(x)$\n",
    "\n",
    "We can measure the quality of our model with the Mean Square Error (MSE)\n",
    "\n",
    "$$\n",
    "\\begin{align}\n",
    "\\mathbb{E}[(y - \\hat y)^2] &= \\mathbb{E}[y^2 -2 y \\hat y +\\hat y^2] \\nonumber \\\\\n",
    "&= \\mathbb{E}[(f+\\varepsilon)^2 -2 (f+\\varepsilon) \\hat y +\\hat y^2] \\nonumber \\\\\n",
    "&= \\mathbb{E}[(f^2 +2 f \\varepsilon + \\varepsilon^2 -2 (f+\\varepsilon) \\hat y +\\hat y^2] \\nonumber \\\\\n",
    "&= \\mathbb{E}[\\varepsilon^2] + f^2  -2 f \\mathbb{E}[\\hat y]  +\\mathbb{E}[\\hat y^2]  \\pm \\mathbb{E}[\\hat y]^2  \\nonumber \\\\\n",
    "&= \\mathbb{E}[\\varepsilon^2] + (f - \\mathbb{E}[\\hat y])^2  +\\mathbb{E}[(\\hat y - \\mathbb{E}[\\hat y])^2]  \\nonumber \\\\\n",
    "&= \\sigma^2 + (f - \\mathbb{E}[\\hat y])^2  + \\text{Var}[\\hat y]  \\nonumber \n",
    "\\end{align}\n",
    "$$\n",
    "\n",
    "> The MSE can be decomposed as irreducible error + squared bias of the estimator + variance of the estimator\n",
    "\n",
    "- The MSE can be small if either the bias or the variance are small. The more complex the model the lower the bias and the higher the variance it attains \n",
    "- The Gauss-Markov theorem says that OLS has the minimum variance of the unbiased estimator. \n",
    "- Zero bias models are not necessarily good (overfit). In some cases we may want to trade bias for variance. This is achieved by penalizing the complexity of the model: **Regularization**\n"
   ]
  },
  {
   "cell_type": "markdown",
   "metadata": {
    "slideshow": {
     "slide_type": "slide"
    }
   },
   "source": [
    "## Bayesian (MAP) Least Squares and Ridge regression\n",
    "\n",
    "\n",
    "If we assume a Gaussian likelihood and a Gaussian prior we can write the log joint as\n",
    "\n",
    "$$\n",
    "\\begin{align}\n",
    "\\log p({x}, \\theta) &= \\log \\prod_{i=1}^N \\mathcal{N}(y_i | (1, x_{i1}, \\ldots, x_{iD}) \\theta, \\sigma^2) + \\log \\prod_{j=1}^M \\mathcal{N}(\\theta_j | 0, \\sigma_0^2) \\nonumber \\\\\n",
    "&= -\\frac{N}{2} \\log(2\\pi \\sigma^2) - \\frac{1}{2\\sigma^2} (Y-X\\theta)^T (Y - X\\theta) -\\frac{M}{2} \\log(2\\pi \\sigma_0^2) - \\frac{1}{2\\sigma_0^2} \\|\\theta\\|^2 \\nonumber \n",
    "\\end{align}\n",
    "$$\n",
    "\n",
    "The MAP estimator of $\\theta$ is given by\n",
    "$$\n",
    "\\begin{align}\n",
    "\\hat \\theta &= \\text{arg}\\max_\\theta \\log p({x}, \\theta) \\nonumber  \\\\\n",
    "&= \\text{arg}\\max_\\theta  - \\frac{1}{2\\sigma^2} (Y-X\\theta)^T (Y - X\\theta) - \\frac{1}{2\\sigma_0^2} \\|\\theta\\|^2 \\nonumber \\\\\n",
    "&= \\text{arg}\\min_\\theta  (Y-X\\theta)^T (Y - X\\theta) + \\lambda \\|\\theta\\|^2 \\nonumber\n",
    "\\end{align}\n",
    "$$\n",
    "where $\\lambda = \\frac{\\sigma^2}{\\sigma_0^2}$\n",
    "\n",
    "The solution is obtained by taking the derivative on $\\theta$\n",
    "\n",
    "$$\n",
    "\\frac{d}{d\\theta} (Y-X\\theta)^T (Y - X\\theta) + \\lambda \\|\\theta\\|^2  = -X^T (Y - X\\theta) + \\lambda \\theta = 0\n",
    "$$\n",
    "\n",
    "and finally\n",
    "\n",
    "$$\n",
    "\\hat \\theta = (X^T X + \\lambda I)^{-1} X^T Y\n",
    "$$\n",
    "\n",
    "> This is known as Ridge regression and Tikhonov regularization\n",
    "\n",
    "We are forcing the solution to be smooth (have small L2 norm)\n",
    "\n",
    "This can help to avoid overfitting with complex models. It can also help when $X^T X$ is not invertible\n",
    "- Adding a $\\lambda$ to the diagonal of $X^T X$ makes the eigenvalues positive (unique solution)\n",
    "\n",
    "(There is no free lunch) How to choose $\\lambda$?\n",
    "- Cross-validation: minimize validation error\n",
    "- L-curve: Plot $ \\log (Y-X\\theta)^T (Y - X\\theta)$ vs $ \\log \\|\\theta\\|^2$ and find the elbow\n",
    "\n",
    "Note that different priors yield different regularization schemes\n",
    "- A Laplacian prior yields a L1 norm which forces the solution to be sparse (LASSO)"
   ]
  },
  {
   "cell_type": "markdown",
   "metadata": {},
   "source": [
    "### Example: Ridge Regression with sklearn"
   ]
  },
  {
   "cell_type": "code",
   "execution_count": null,
   "metadata": {
    "slideshow": {
     "slide_type": "subslide"
    }
   },
   "outputs": [],
   "source": [
    "from sklearn.linear_model import Ridge\n",
    "from sklearn.pipeline import make_pipeline\n",
    "from sklearn.preprocessing import PolynomialFeatures\n",
    "x = np.linspace(-5, 6, num=50); \n",
    "x_plot = np.linspace(-5, 6, num=200); \n",
    "model = np.sin(x)*x + 0.1*x**2\n",
    "Y = model + np.random.randn(len(x))    \n",
    "\n",
    "fig, ax = plt.subplots(figsize=(7, 4), tight_layout=True)\n",
    "def update(lamb, M):\n",
    "    regressor = make_pipeline(PolynomialFeatures(M), \n",
    "                              Ridge(normalize=True, alpha=lamb))\n",
    "    regressor.fit(x.reshape(-1, 1), Y)\n",
    "    ax.cla(); \n",
    "    ax.plot(x, model, 'g--', linewidth=3, alpha=0.5, label='underlying')\n",
    "    ax.plot(x_plot , regressor.predict(x_plot.reshape(-1, 1)), \n",
    "            'b-', linewidth=4, alpha=0.5, label='model')\n",
    "    ax.scatter(x, Y, c='k', s=50, label='data', zorder=100); \n",
    "    plt.legend()\n",
    "\n",
    "    \n",
    "interact(update, M=SelectionSlider(options=[1, 2, 3, 5, 10, 20]), \n",
    "         lamb=SelectionSlider(options=[0.0, 1e-5, 1e-4, 1e-3, 1e-2, 1e-1, 1., 100000.]));"
   ]
  },
  {
   "cell_type": "markdown",
   "metadata": {
    "slideshow": {
     "slide_type": "slide"
    }
   },
   "source": [
    "## Independence and correlation\n",
    "\n",
    ">  Independence implies uncorrelatedness, but the reverse is not true.\n",
    "\n",
    "Two variables can have zero correlation but still be dependent\n",
    "\n",
    "> Linear regression (correlation) is sensitive to linear relationships\n",
    "\n",
    "More generally, to test indepedence we could use:\n",
    "\n",
    "$$\n",
    "p(x,y) = p(x)p(y)\n",
    "$$\n",
    "\n",
    "Several methods are based on this\n",
    "- Shannon's **Mutual Information**\n",
    "$$\n",
    "I(X,Y) = \\int \\int f_{XY}(x,y) \\log \\frac{f_{XY}(x,y)}{f_{X}(x) f_Y(y)} dx dy\n",
    "$$\n",
    "- [Correlation distance](https://arxiv.org/pdf/0803.4101.pdf)\n",
    "$$\n",
    "R(X,Y) = \\int \\int |f_{XY}(x,y)  - f_{X}(x) f_Y(y)| dx dy\n",
    "$$\n",
    "\n",
    "Although these require that we estimate the joint and the marginals (KDE, Histogram, Parametric)\n",
    "\n",
    "For categorical variables we can use the **chi square test**\n",
    "\n"
   ]
  },
  {
   "cell_type": "markdown",
   "metadata": {},
   "source": [
    "## Extra topics\n",
    "\n",
    "Suggestions if you want to go deeper \n",
    "\n",
    "- (Hastie 3.4 and 3.8) L1 regularization and Least Absolute Shrinkage and Selection Operator (LASSO)\n",
    "- Robust regression: Least absolute regression and M-estimators for data with outliers (non-Gaussian)\n",
    "- (Hastie 6 & Bishop 6) Kernel (non-parametric) regression  \n",
    "- Some of these topics can be found at [Huijse, Regresión](https://docs.google.com/presentation/d/1UUpK4zSdzRcS79V7_wU9nXe-sR7qYLEWhbmid-Rfp1k/edit#slide=id.g28044c0f85_0_34)"
   ]
  },
  {
   "cell_type": "markdown",
   "metadata": {},
   "source": [
    "# Causality: Beyond correlation\n",
    "\n",
    "## Judea Pearl - The New Science of Cause and Effect\n",
    "\n"
   ]
  },
  {
   "cell_type": "code",
   "execution_count": 3,
   "metadata": {},
   "outputs": [
    {
     "data": {
      "image/jpeg": "[encoded data removed]",
      "text/html": [
       "\n",
       "        <iframe\n",
       "            width=\"400\"\n",
       "            height=\"300\"\n",
       "            src=\"https://www.youtube.com/embed/ZaPV1OSEpHw\"\n",
       "            frameborder=\"0\"\n",
       "            allowfullscreen\n",
       "        ></iframe>\n",
       "        "
      ],
      "text/plain": [
       "<IPython.lib.display.YouTubeVideo at 0x1eccb6b2cf8>"
      ]
     },
     "execution_count": 3,
     "metadata": {},
     "output_type": "execute_result"
    }
   ],
   "source": [
    "YouTubeVideo('ZaPV1OSEpHw')"
   ]
  },
  {
   "cell_type": "markdown",
   "metadata": {},
   "source": [
    "## Do Why\n",
    "\n",
    "Library for causal reasoning: https://github.com/microsoft/dowhy"
   ]
  },
  {
   "cell_type": "code",
   "execution_count": null,
   "metadata": {},
   "outputs": [],
   "source": []
  }
 ],
 "metadata": {
  "kernelspec": {
   "display_name": "Python 3",
   "language": "python",
   "name": "python3"
  },
  "language_info": {
   "codemirror_mode": {
    "name": "ipython",
    "version": 3
   },
   "file_extension": ".py",
   "mimetype": "text/x-python",
   "name": "python",
   "nbconvert_exporter": "python",
   "pygments_lexer": "ipython3",
   "version": "3.7.3"
  },
  "toc": {
   "base_numbering": 1,
   "nav_menu": {},
   "number_sections": true,
   "sideBar": true,
   "skip_h1_title": false,
   "title_cell": "Table of Contents",
   "title_sidebar": "Contents",
   "toc_cell": false,
   "toc_position": {
    "height": "calc(100% - 180px)",
    "left": "10px",
    "top": "150px",
    "width": "366px"
   },
   "toc_section_display": true,
   "toc_window_display": true
  }
 },
 "nbformat": 4,
 "nbformat_minor": 2
}
