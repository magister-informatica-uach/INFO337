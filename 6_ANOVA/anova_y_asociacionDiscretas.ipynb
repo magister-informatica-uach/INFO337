{
 "cells": [
  {
   "cell_type": "markdown",
   "metadata": {},
   "source": [
    "## 1. ANOVA: Análisis de Varianza\n",
    "(basado en apuntes de Dra. Yun Huang, versión 2018 curso INFO337)\n",
    "\n",
    "- ¿Por qué ANOVA?\n",
    "- Algunas distribuciones de interés: $\\chi^2$, $F$, $t$ y Normal.\n",
    "- ANOVA unidireccional (one-way):\n",
    "    - Derivación y supuestos\n",
    "    - Caso con distintos tamaños de muestra\n",
    "    - Comparaciones múltiples\n",
    "    - Robustez ANOVA\n",
    "- Otro tópicos\n",
    "\n",
    "\n",
    "### ¿Por qué ANOVA?\n",
    "En los test de hipótesis estudiados en sesiones anteriores, consideramos el uso de la distribución $t$- student para analizar las medias muestrales.\n",
    "En lo que sigue utilizaremos el Análisis de Varianza o  también llamado análisis de factores, para estudiar el efecto de uno o más factores (cada uno con dos o más niveles) sobre la media de una variable continua, que es el foco del \n",
    "\n"
   ]
  },
  {
   "cell_type": "markdown",
   "metadata": {},
   "source": [
    "### Test de igualdad de medias para dos poblaciones normales, considerando muestras independientes, con la misma varianza pero desconocida.\n",
    "\n",
    "Sean $X_1,\\cdots,X_n$ e $Y_1,\\cdots,Y_m$ muestras independientes de poblaciones normales con medias desconocidas $\\mu_x$ y $\\mu_y$ y misma varianza desconocida $\\sigma^2$.\n",
    "Consideremos el test de hipótesis:\n",
    "\n",
    "$$H_0: \\mu_x = \\mu_y$$\n",
    "$$H_1: \\mu_x \\neq \\mu_y$$\n",
    "\n",
    "del Corolario del Teo de Fisher-Cochran se cumple:\n",
    "\n",
    "$$ \\frac{\\bar{X} - \\bar{Y} - (\\mu_x - \\mu_y)}{\\sqrt{S_p^2(\\frac{1}{n}+ \\frac{1}{m})}} \\sim t_{(n+m-2)}$$\n",
    "\n",
    "donde $$S_p^2 = \\frac{(n-1)S_X^2 + (m-1)S_Y^2}{n+m-2}$$\n",
    "\n",
    "de manera que se rechaza $H_0$ si\n",
    "$$\\frac{\\bar{X} - \\bar{Y}}{\\sqrt{S_p^2(\\frac{1}{n}+ \\frac{1}{m})}} >  t_{\\frac{\\alpha}{2},(n+m-2)}$$\n"
   ]
  },
  {
   "cell_type": "markdown",
   "metadata": {},
   "source": [
    "En el caso en que se requiera comparar más de 2 grupos, o examinar el efecto de 1, 2 o mas factores, este procedimiento se vuelve ineficiente y es mas directo de abordar con el modelo del Análisis de la Varianza (ANOVA).\n",
    "En efecto, si realizaramos el t-test con cada par de grupos, no tenemos una manera sencilla de calcular el error de tipo I de todos los grupos simultáneamente, el denominado Familywise error (error global), que para c tests se calcula como:\n",
    "\n",
    "$$\\bar{\\alpha} = 1-(1-\\alpha)^c$$\n",
    "- con c=2 tests, el error de tipo I es 0.0975 (alrededor del 10%)\n",
    "- con c=3 tests, el error de tipo I es 0.143 (alrededor del 14%)\n",
    "- con c=10 tests, el error de tipo I es 0.40 (alrededor del 40%)"
   ]
  },
  {
   "cell_type": "markdown",
   "metadata": {},
   "source": [
    "### Repaso: la distribución chi-cuadrado\n",
    "\n",
    "Sean $Z_1,\\cdots, Z_n\\, v.a.i.i.d. \\, \\sim {\\it N}(0,1)$ entonces \n",
    "\n",
    "$$ Y = Z_1^2+\\cdots+Z_n^2 \\sim \\chi_{(n)}^2$$\n",
    "\n",
    "donde $n$ son los grados de libertad de la distribución. \n",
    "\n",
    "Propiedades de la distribución $\\chi^2$:\n",
    "\n",
    "(i) Propiedad aditiva: si $X_1$ y $X_2$ son dos v.a. independientes distribuidas $\\chi^2$ de $n_1$ y $n_2$ grados de libertad, entonces\n",
    "\n",
    "$$X_1+X_2 \\sim \\chi_{(n_1+n_2)}^2$$\n",
    "(ii) Esperanza y Varianza:\n",
    "$$ E[X]= n,  \\qquad Var[X]= 2n$$\n",
    "\n",
    "\n"
   ]
  },
  {
   "cell_type": "markdown",
   "metadata": {},
   "source": [
    "### Repaso: la distribución F\n",
    "\n",
    "Sean $X \\sim \\chi_n^2$ e $Y \\sim \\chi_m^2$  dos v.a. independientes $\\chi^2$ de grados de libertad $n$ y $m$ respectivamente, entoncese se define:\n",
    "$$F = \\frac{\\frac{X}{n}}{\\frac{Y}{m}} \\sim F_{n,m}$$\n",
    "\n",
    "donde $F_{n,m}$ es la distribución $F$ de $n$ y $m$ grados de libertad.\n",
    "También se nota $F(n,m)$.\n",
    "\n"
   ]
  },
  {
   "cell_type": "code",
   "execution_count": 34,
   "metadata": {},
   "outputs": [
    {
     "data": {
      "image/png": "[encoded data removed]",
      "text/plain": [
       "Plot with title \"Densidad de Probabilidad\n",
       "F\""
      ]
     },
     "metadata": {},
     "output_type": "display_data"
    }
   ],
   "source": [
    "options(repr.plot.width=4, repr.plot.height=4)\n",
    "vec <- seq(0,5,by=0.01)\n",
    "par(cex=0.8)\n",
    "plot(vec,df(vec,df1=1,df2=1,ncp=0),type=\"l\", col=\"#3300FFFF\",xlab=\"x\",ylim=c(0,2.5), ylab= \"Densidad de Probabilidad\", main = \"Densidad de Probabilidad\n",
    "F\")\n",
    "lines(vec,df(vec,df1=2,df2=1,ncp=0),col=\"#B300FFFF\")\n",
    "lines(vec,df(vec,df1=5,df2=2, ncp=0),col=\"#FF00CCFF\")\n",
    "lines(vec,df(vec,df1=10,df2 = 2, ncp=0),col=\"#FF004DFF\")\n",
    "lines(vec,df(vec,df1=20,df2=20, ncp=0),col=\"#FF3300FF\")\n",
    "lines(vec,df(vec,df1=100,df2=100, ncp=0),col=\"#FFB300FF\")\n",
    "lines(vec,df(vec,df1=5,df2=100, ncp=0),col=\"#CCFF00FF\")\n",
    "\n",
    "legend(2, 2, legend=c(\"df1=1, df2=1\", \"df1=2, df2=1\",\"df1=5, df2=2\", \"df1=10,df2=2\",\n",
    "                        \"df1=20, df2=20\", \"df1=100, df2=100\",  \"df1=5, df2=100\" ),\n",
    "       col=rainbow(n=7,start=.7, end=.2),lty=rep(1,5),y.intersp=3,cex=0.8,text.width=2,text.col=rainbow(n=7,start=.7, end=.2))\n"
   ]
  },
  {
   "cell_type": "markdown",
   "metadata": {},
   "source": [
    "Sea $F_{\\alpha,n,m}$ tal que\n",
    "\n",
    "$$P\\{F > F_{\\alpha,n,m} \\} = \\alpha$$\n",
    "\n",
    "$F_{\\alpha,n,m}$ es el percentil  $100(1-\\alpha)$ de la distribución $F_{n,m}$.\n",
    "\n",
    "#### Relación entre las distribuciones F y t\n",
    "Si $X \\sim t_{n}$ entonces $X^2 \\sim F_{1,n}$\n",
    "\n",
    "#### Demostración:\n",
    "\n",
    "Por construcción, si $X \\sim t_{n}$, entonces \n",
    "$$X = \\frac{Z}{\\sqrt{\\frac{Y}{n}}}, \\qquad con \\, Z \\sim {\\cal N}(0,1) \\,e \\,Y \\sim \\chi_n^2$$\n",
    "\n",
    "Entonces\n",
    "$$X^2 = \\frac{\\frac{Z^2}{1}}{\\frac{Y}{n}}, \\qquad con \\, Z^2 \\sim \\chi_1^2 \\,e \\,Y \\sim \\chi_n^2$$"
   ]
  },
  {
   "cell_type": "markdown",
   "metadata": {},
   "source": [
    "### 1.1 ANOVA unidireccional\n",
    "\n",
    "Suponga que tenemos $m$ tratamientos distintos, donde el resultado de aplicar el tratamiento $i$ a un individuo es una v.a. normal. Estamos interesados en probar la hipótesis de que todos los tratamientos tienen el mismo efecto. Para ello se aplica cada tratamiento a una muestra distinta de $n$ individuos y se analizan los resultados. \n",
    "\n",
    "Formalmente, sean $m$ muestras independientes de tamaño $n$: \n",
    "\n",
    "$$X_{i1},\\cdots,X_{in} \\sim i.i.d \\,{\\cal N}(\\mu_i,\\sigma^2), \\qquad i=1,\\cdots, m$$\n",
    "\n",
    "Estamos interesados en probar:\n",
    "\n",
    "$$H_0: \\mu_1 = \\mu_2 =\\cdots =\\mu_m\\qquad$$\n",
    "$$H_1: \\exists i,j \\in \\{1,\\cdots m \\},\\,  \\mu_i \\neq \\mu_j$$\n",
    "\n",
    "#### Supuestos ANOVA unidireccional:\n",
    "\n",
    "- Observaciones independientes. Este supuesto no puede ser probado con ningún estadístico, es una consideración de diseño\n",
    "- Normalidad: cada muestra debe provenir de una distribución normal. Utilizar por ejemplo, test de Shapiro-Wilk. Utilizar Q-Q plot para descartar la presencia de outliers.\n",
    "- Varianza común (homogeneidad): misma varianza en los  grupos. Se puede probar con el test de Levene o con el test de Brown-Forsythe.\n",
    "\n",
    "#### Idea general de la derivación ANOVA\n",
    "Se trata de construir dos estimadores de la varianza común, el primer estimador no depende de si $H_0$ es cierto o no. En cambio, el segundo estimador asume que $H_0$ es cierto, en caso contrario este estimador sobreestima a $\\sigma^2$.\n",
    "El test compara ambos estimadores y rechaza $H_0$ cuando la tasa entre el segundo y primer estimador es suficientemente grande.\n",
    "\n",
    "#### Derivando el primer estimador de $\\sigma^2$\n",
    "Consideremos la suma de la cuadrados de las versiones estandarizadas de las v.a. involucradas:\n",
    "\n",
    "$$\\sum_{i=1}^m \\sum_{j=1}^n \\frac{(X_{ij} - \\mu_i)^2}{\\sigma^2} \\sim \\chi^2_{nm}$$\n",
    "\n",
    "Pero no conocemos $\\mu_i$, entonces podemos utilizar sus estimadores de máxima verosimilitud:\n",
    "\n",
    "$$X_{i.} = \\frac{\\sum_{j=1}^n X_{ij}}{n}$$\n",
    "\n",
    "Recordemos que:\n",
    "$$ \\sum_{j=1}^n \\frac{(X_{ij} - X_{i.})^2}{\\sigma^2} \\sim \\chi^2_{n-1}$$\n",
    "\n",
    "\n",
    "entonces por la propiedad de aditividad de la chi-cuadrado:\n",
    "\n",
    "$$\\sum_{i=1}^m \\sum_{j=1}^n \\frac{(X_{ij} -  X_{i.})^2}{\\sigma^2} \\sim \\chi^2_{nm-m}$$\n",
    "\n",
    "\n",
    "Denominaremos \n",
    "\n",
    "$$ SS_W = \\sum_{i=1}^m \\sum_{j=1}^n (X_{ij} -  X_{i.})^2$$\n",
    "\n",
    "Entonces \n",
    "$$ \\frac{E[SS_w]}{\\sigma^2} = nm-m$$\n",
    "\n",
    "y luego\n",
    "\n",
    "$$ \\frac{E[SS_w]}{nm-m} = \\sigma^2$$\n",
    "\n",
    "\n",
    "con lo cual tenemos nuestro primer estimador insesgado de $\\sigma^2$:\n",
    "$$MSE = \\frac{SS_w}{nm-m}$$\n",
    "que se conoce como \"cuadrado de la media de los residuos\" o \"error cuadrático medio\" o \"varianza intragrupos\". Notar que no considera ningun supuesto sobre $H_0$.\n",
    "\n"
   ]
  },
  {
   "cell_type": "markdown",
   "metadata": {},
   "source": [
    "\n",
    "#### Derivando el segundo estimador de $\\sigma^2$\n",
    "\n",
    "En este caso suponemos que se cumple $H_0$, es decir\n",
    "\n",
    "$$\\mu = \\mu_1 = \\mu_2 = \\cdots = \\mu_m$$\n",
    "\n",
    "De manera de que las medias muestrales cumplen:\n",
    "$$X_{1.},X_{2.},\\cdots,X_{m.} \\sim i.i.d. \\, {\\cal N}\\left(\\mu, \\frac{\\sigma^2}{n} \\right)$$\n",
    "\n",
    "de donde se pueden derivar distribuciones normales estandarizadas \n",
    "\n",
    "$$Z_i = \\frac{X_{i.}-\\mu}{\\sqrt{\\frac{\\sigma^2}{n}}} \\sim {\\cal N}(0,1) \\qquad i=1,\\cdots,m$$\n",
    "\n",
    "de manera que:\n",
    "\n",
    "$$\\sum_{i=1}^m Z_i^2 = \\sum_{i=1}^m \\frac{(X_{i.}-\\mu)^2}{\\frac{\\sigma^2}{n}} \\sim \\chi^2_{m}$$ \n",
    "\n",
    "Pero no conocemos $\\mu$. Si lo reemplazamos por su estimador de máxima verosimilitud:\n",
    "\n",
    "$$X_{..} = \\frac{\\sum_{i=1}^m X_{i.}}{m} = \\frac{\\sum_{i=1}^m \\sum_{j=1}^n X_{ij}}{nm}$$\n",
    "\n",
    "entonces\n",
    "$$\\sum_{i=1}^m Z_i^2 = \\sum_{i=1}^m \\frac{(X_{i.}-X_{..})^2}{\\frac{\\sigma^2}{n}} \\sim \\chi^2_{m-1}$$\n",
    "\n",
    "\n",
    "Denominaremos \n",
    "\n",
    "$$ SS_b = n\\sum_{i=1}^m  (X_{i.} -  X_{..})^2$$\n",
    "\n",
    "Entonces, si $H_0$ es cierto, se cumple \n",
    "$$ \\frac{E[SS_b]}{\\sigma^2} = m-1$$\n",
    "\n",
    "y luego\n",
    "\n",
    "$$ \\frac{E[SS_b]}{m-1} = \\sigma^2$$\n",
    "\n",
    "\n",
    "con lo cual tenemos nuestro segundo estimador insesgado de $\\sigma^2$:\n",
    "$$MSB = \\frac{SS_b}{m-1}$$\n",
    "que se conoce como \"cuadrado de la media del modelo\" o  \"varianza entregrupos\".\n"
   ]
  },
  {
   "cell_type": "markdown",
   "metadata": {},
   "source": [
    "#### Test estadístico para ANOVA unidireccional\n",
    "\n",
    "Se define como estadístico:\n",
    "$$TS = \\frac{MSB}{MSE} = \\frac{varianza \\, entregrupos}{varianza \\, intragrupos}$$\n",
    "\n",
    "Se rechazará la hipótesis nula cuando TS sea suficientemente grande.\n",
    "\n",
    "#### ¿Cuál es la distribución de TS?\n",
    "\n",
    "$$ TS \\sim F_{m-1,nm-m}$$\n",
    "\n",
    "#### Demostración\n",
    "\n",
    "\\begin{eqnarray}\n",
    "TS & = & \\frac{MSB}{MSE} = \\frac{\\frac{SS_b}{(m-1)}}{\\frac{SS_W}{(nm-m)}}\\\\\n",
    "&&\\\\\n",
    "& = & \\frac{\\frac{n}{m-1}\\sum_{i=1}^m  (X_{i.} -  X_{..})^2}{\\frac{1}{nm-m}\\sum_{i=1}^m \\sum_{j=1}^n (X_{ij} -  X_{i.})^2} = \n",
    "\\frac{\\frac{1}{(m-1)}\\sum_{i=1}^m  \\frac{(X_{i.} -  X_{..})^2}{\\sigma^2 /n}}{\\frac{1}{(nm-m)}\\sum_{i=1}^m \\sum_{j=1}^n \\frac{ (X_{ij} -  X_{i.})^2}{\\sigma^2}}\n",
    "\\end{eqnarray}"
   ]
  },
  {
   "cell_type": "markdown",
   "metadata": {},
   "source": [
    "Sea entonces $F\\sim F_{m-1,nm-m}$ y $F_{m-1,nm-m,\\alpha}$ tal que:\n",
    "\n",
    "$$P\\{F > F_{m-1,nm-m,\\alpha}\\} = \\alpha$$\n",
    "\n",
    "Se calcula entonces el valor de $TS$, si $TS > F_{m-1,nm-m,\\alpha}$ se rechaza $H_0$"
   ]
  },
  {
   "cell_type": "markdown",
   "metadata": {},
   "source": [
    "#### Identidad de suma de cuadrados\n",
    "\n",
    "Notar que \n",
    "$$SS_{total} = SS_{intragrupos} + SS_{entregrupos}$$ \n",
    "$$SS_{T} = SS_{W} + SS_{b}$$ \n",
    "En efecto\n",
    "\n",
    "$$\\sum_{i=1}^m \\sum_{j=1}^n  (X_{ij} -  X_{..})^2 = \n",
    "\\sum_{i=1}^m \\sum_{j=1}^n  (X_{ij} -  X_{i.})^2 +\n",
    "\\sum_{i=1}^m \\sum_{j=1}^n  (X_{i.} -  X_{..})^2$$\n",
    "y además\n",
    "\n",
    "$$\\sum_{i=1}^m \\sum_{j=1}^n  X_{ij}^2 = nmX_{..}^2 + SS_b + SS_W $$\n"
   ]
  },
  {
   "cell_type": "markdown",
   "metadata": {},
   "source": [
    "### Ejemplo\n",
    "Una industria de automóviles desea probar la calidad de 3 tipos de combustibles. Para ello observa el rendimiento de los tres tipos de combustibles en 15 vehículos idénticos (5 con cada tipo de combustible). Los resultados (en millas por 10 galones de combustible) se describen a continuación:"
   ]
  },
  {
   "cell_type": "code",
   "execution_count": 9,
   "metadata": {},
   "outputs": [
    {
     "data": {
      "text/html": [
       "<dl class=dl-horizontal>\n",
       "\t<dt>gas1</dt>\n",
       "\t\t<dd>240.6</dd>\n",
       "\t<dt>gas2</dt>\n",
       "\t\t<dd>235.6</dd>\n",
       "\t<dt>gas3</dt>\n",
       "\t\t<dd>253.6</dd>\n",
       "</dl>\n"
      ],
      "text/latex": [
       "\\begin{description*}\n",
       "\\item[gas1] 240.6\n",
       "\\item[gas2] 235.6\n",
       "\\item[gas3] 253.6\n",
       "\\end{description*}\n"
      ],
      "text/markdown": [
       "gas1\n",
       ":   240.6gas2\n",
       ":   235.6gas3\n",
       ":   253.6\n",
       "\n"
      ],
      "text/plain": [
       " gas1  gas2  gas3 \n",
       "240.6 235.6 253.6 "
      ]
     },
     "metadata": {},
     "output_type": "display_data"
    },
    {
     "data": {
      "text/plain": [
       "             Df Sum Sq Mean Sq F value Pr(>F)\n",
       "combustibles  2  863.3   431.7   2.601  0.115\n",
       "Residuals    12 1991.6   166.0               "
      ]
     },
     "metadata": {},
     "output_type": "display_data"
    },
    {
     "name": "stdout",
     "output_type": "stream",
     "text": [
      "[1] 3.885294\n"
     ]
    },
    {
     "data": {
      "image/png": "[encoded data removed]",
      "text/plain": [
       "plot without title"
      ]
     },
     "metadata": {},
     "output_type": "display_data"
    }
   ],
   "source": [
    "options(repr.plot.width=4, repr.plot.height=4)\n",
    "gas1 <- c(220,251,226,246,260)\n",
    "gas2 <- c(244,235,232,242,225)\n",
    "gas3 <- c(252,272,250,238,256)\n",
    "rendimiento <- c(gas1,gas2,gas3)\n",
    "combustibles <- as.factor(c(rep(c(\"gas1\", \"gas2\", \"gas3\"), each =5)))\n",
    "boxplot(rendimiento ~ combustibles, col = c(\"blue\", \"white\",\"green\"), ylab = \"Rendimiento\")\n",
    "tapply(rendimiento, combustibles, mean)\n",
    "fm <- aov(lm(rendimiento ~ combustibles))\n",
    "summary(fm)\n",
    "print (qf(0.95,2,12))\n",
    "\n"
   ]
  },
  {
   "cell_type": "markdown",
   "metadata": {},
   "source": [
    "#### Ejercicio 1\n",
    "Desarrolle el ANOVA manualmente y compruebe los resultados entregados con R.\n"
   ]
  },
  {
   "cell_type": "markdown",
   "metadata": {},
   "source": [
    "### ¿Qué ocurre si las muestras no son del mismo tamaño?\n",
    "\n",
    "$$\\sum_{i=1}^m \\sum_{j=1}^{n_i} \\frac{(X_{ij} -  X_{i.})^2}{\\sigma^2} \\sim \\chi^2_{N}$$\n",
    "\n",
    "donde $N = \\sum_{i=1}^m n_i - m$. Y entonces,\n",
    "\n",
    "$$ SS_W = \\sum_{i=1}^m \\sum_{j=1}^{n_i} (X_{ij} -  X_{i.})^2$$\n",
    "\n",
    "por otra parte\n",
    "$$\\sum_{i=1}^m \\frac{(X_{i.}-X_{..})^2}{\\frac{\\sigma^2}{n_i}} \\sim \\chi^2_{m-1}$$\n",
    "\n",
    "y se definen\n",
    "\n",
    "$$ SS_b = \\sum_{i=1}^m n_i(X_{i.}-X_{..})^2$$\n",
    "\n",
    "$$ TS = \\frac{\\frac{SS_b}{m-1}}{\\frac{SS_W}{N}} \\sim F_{m-1,N},\\qquad N= \\sum_{i=1}^m n_i - m$$\n",
    "\n",
    "\n",
    "Finalmente, si $TS > F_{m-1,N,\\alpha}$ se rechaza $H_0$.\n"
   ]
  },
  {
   "cell_type": "markdown",
   "metadata": {},
   "source": [
    "#### Ejercicio 2\n",
    "Desarrolle un ejemplo de ANOVA en R con muestras de tamaños distintos. Interprete sus resultados."
   ]
  },
  {
   "cell_type": "markdown",
   "metadata": {},
   "source": [
    "### Comparaciones múltiples\n",
    "Si el test ANOVA es estadísticamente significativo, lo único que podemos concluir es que una o mas de las diferencias entre grupos es significativa, pero no sabemos que grupos son los que difirien. Para ello es necesario realizar \"Comparaciones múltiples\". Se trata de comparar cada grupo respecto de los otros grupos, o promedios de grupos. Se consideran dos posibilidades: \n",
    "\n",
    "- Comparaciones planeadas: existe interés por algunos grupos en particular\n",
    "- Comparaciones Post hoc: no existen hipótesis específicas\n",
    "\n",
    "#### Algunas preguntas\n",
    "- Si el test ANOVA es estadísticamente significativo, implica que ¿existe al menos un grupo cuyo comportamiento difiere de los otros?\n",
    "\n",
    "No necesariamente, podría ocurrir que sea la combinación de grupos que provoque las diferencias.\n",
    "El test de Scheffe permite pesquisar las diferencias subyacentes.\n",
    "\n",
    "- ¿Es posible encontrar diferencias siginificativas con las comparaciones múltiples, aunque ANOVA no haya sido significativo?\n",
    "\n",
    "Si, es posible, debido a que los test de comparaciones múltiples están mas enfocados que ANOVA.\n",
    "\n",
    "- ¿Es útil el resultado del test ANOVA?\n",
    "\n",
    "Claro, cuando corresponde a la hipótesis en estudio!\n",
    "\n",
    "## 1.2 Métodos de comparaciones múltiples\n",
    "\n",
    "### Diferencias menos significativas (LSD)\n",
    "Se define el siguiente estadístico cuya distribución es t-student, bajo \n",
    "$$H_0: \\mu_1 = \\mu_2 = \\cdots = \\mu_m$$\n",
    "$$H_1: \\exists i,j, \\mu_i \\neq \\mu_j$$\n",
    "Para cada par de grupos i,j se calcula \n",
    "$$t_N = \\frac{X_{i.} - X_{j.}}{\\sqrt{MSE \\left(\\frac{1}{n_i}+ \\frac{1}{n_j}\\right)}}, \\qquad df =N = \\sum_{i=1}^m n_i - m$$\n",
    "\n",
    "Si $|t_N| > t_{N,\\alpha/2}$ se rechaza $H_0$ en favor de $H_1: \\mu_i \\neq \\mu_j$\n",
    "\n",
    "Este enfoque presenta problemas con el error de tipo I, en función del número de comparaciones posibles.\n",
    "\n",
    "### Tukey y Tukey-Kramer\n",
    "#### Tukey, mismo tamaño muestral n\n",
    "Se define el siguiente estadístico:\n",
    "$$q_N =\\frac{X_{i.} - X_{j.}}{\\sqrt{MSE/n }}, \\qquad df = N = nm-m$$\n",
    "\n",
    "\n",
    "#### Tukey-Kramer, distintos tamaños muestrales\n",
    "$$q_N = \\frac{X_{i.} - X_{j.}}{\\sqrt{\\frac{1}{2} MSE \\left(\\frac{1}{n_i}+ \\frac{1}{n_j}\\right)}}, \\qquad df =N = \\sum_{i=1}^m n_i - m$$\n",
    "\n",
    "En ambos casos $q_N$ sigue una distribución de rangos student\n",
    "\n",
    "### Bonferroni\n",
    "Utiliza el mismo estadístico que LSD, pero calcula la significancia $\\alpha$ considerando que se realizan c comparaciones.\n",
    "\n",
    "Dos posibilidades:\n",
    "\n",
    "- Para un valor fijo de $\\alpha$, se corrige el p-value multiplicando por el número de comparaciones:\n",
    "$$p_{Bonferroni} = c* p_{LSD} = \\frac{m(m-1)}{2} *p_{LSD}$$\n",
    "\n",
    "- Se calcula un nuevo valor de $\\alpha$ para mantener el error de tipo I global:\n",
    "$$ \\alpha_{nuevo} = \\frac{\\alpha}{c} = \\frac{\\alpha}{\\frac{m(m-1)}{2}}$$\n",
    "Por ejemplo, si $m=4, c=6$ y $\\alpha=0.05$, entonces $\\alpha_{nuevo} = 0.0083$\n",
    "\n",
    "\n",
    "\n",
    "\n"
   ]
  },
  {
   "cell_type": "markdown",
   "metadata": {},
   "source": [
    "#### Ejercicio 3\n",
    "Considere datos de cesantía del INE: https://www.ine.cl/estadisticas/sociales/mercado-laboral/ocupacion-y-desocupacion, escoja 3 o más regiones y realice un ANOVA para determinar si el porcentaje de cesantìa se comporta igual  o no (en términos de valores medios) en dichas regiones, en el curso de los últimos 12 meses (promedios trimestres móviles).\n",
    "Si rechaza $H_0$ desarrolle comparaciones múltiples para determinar como difieren."
   ]
  },
  {
   "cell_type": "markdown",
   "metadata": {},
   "source": [
    "## 2. Análisis de asociación en v.a. discretas\n",
    "En esta sección se presentan algunos tests que permiten analizar la asociación entre variables aleatorias discretas."
   ]
  },
  {
   "cell_type": "markdown",
   "metadata": {},
   "source": [
    "### 2.1 Tablas de contingencia\n",
    "Consideremos que tenemos observaciones de dos variables discretas (o bien variables continuas agrupadas en clases). La tabla de contingencia contiene los efectivos correspondientes a cada pareja de valores (o clases) de ambas variables: \n",
    "\n",
    "$$\\begin{array}{|c||c|c|c|c|c||c|}\n",
    "\\hline\n",
    "\\bf{X\\mid Y}& \\bf{d_1} &\\cdots &\\bf{d_k}& \\cdots&\\bf{d_s}& \\text{total}\\\\\n",
    "\\hline\\hline\n",
    "\\bf{c_1} & n_{11} & \\cdots & n_{1k}& \\cdots& n_{1s} &\\bf { n_{1\\bullet}}\\\\\n",
    "\\hline\n",
    "\\vdots & \\vdots &&\\vdots&&\\vdots&\\vdots\\\\\n",
    "\\hline\n",
    "\\bf{c_h} & n_{h1} & \\cdots & n_{hk}& \\cdots& n_{hs} & \\bf{n_{h\\bullet}}\\\\\n",
    "\\hline\n",
    "\\vdots & \\vdots &&\\vdots&&\\vdots&\\vdots\\\\\n",
    "\\hline\n",
    "\\bf{c_r} & n_{r1} & \\cdots & n_{rk}& \\cdots& n_{rs} & \\bf{n_{r\\bullet}}\\\\\n",
    "\\hline\n",
    "\\hline\n",
    "\\text{total} &\\bf{n_{\\bullet 1}}&\\cdots& \\bf{n_{\\bullet k}}&\\cdots&\\bf{n_{\\bullet s}}&\\bf{n}\\\\ \n",
    "\\hline \\end{array}$$\n",
    "\n",
    "Cada linea y cada columna corresponden  a una submuestra particular. La fila de índice $h$ es la distribución sobre  $ d_1,\\ldots,d_s$ de los individuos para los cuales la variable $X$ toma el valor $c_h$. La columna de índice $k$ es la distribución sobre  $ c_1,\\ldots,c_r$ de los  individuos para los cuales las variable $ Y$ toma el valor $ d_k$. Dividiendo las filas y columnas por sus sumas, se obtienen las distribuciones empíricas calculadas como las frecuencias condicionales. Para $ h=1,\\ldots,r$ y  $ k=1,\\ldots,s$, se notará :\n",
    "\n",
    "$$ f_{k\\mid h} = \\frac{n_{hk}}{ n_{h\\bullet}} \\qquad \\text{y} \\qquad f_{h\\mid k} = \\frac{n_{hk}}{ n_{\\bullet k}}$$\n",
    "\n",
    "Estas distribuciones empíricas se denominan perfiles-fila y perfiles-columna respectivamente.\n",
    "\n",
    "De acuerdo al  modelo probabilista generador de datos, la muestra: \n",
    "$ ((X_1,Y_1),\\ldots,(X_n,Y_n))$ proviene de una distribución bidimensional. La hipótesis a probar es que las dos distribuciones marginales de dicha ley son independientes. Si este es el caso, los perfiles-fila serán todos muy similares a la distribución empírica de $Y$ asi como los perfiles-columna cercanos a la distribución de $X$: \n",
    "\n",
    "$$ f_{k\\mid h} = \\frac{n_{hk}}{n_{h\\bullet}}\\approx f_{\\bullet k} = \\frac{n_{\\bullet k}}{ n}\\qquad \\text{y} \\qquad f_{h\\mid k} = \\frac{n_{hk}}{n_{\\bullet k}}\\approx f_{h\\bullet} = \\frac{n_{h\\bullet}}{n}$$\n",
    "\n",
    "Lo que es lo mismo que decir que las frecuencias conjuntas deben ser cercanas al producto de las frecuencias marginales: \n",
    "\n",
    "$$f_{hk} = \\frac{n_{hk}}{n} \\approx f_{h\\bullet}\\, f_{\\bullet k} =\\frac{n_{h\\bullet}}{n}\\,\\frac{n_{\\bullet k}}{n}$$\n",
    "\n",
    "Las frecuencias conjuntas (distribución observada) y los productos de frecuencas marginales (distribución teórica) representan dos distribuciones de probabilidad sobre el conjunto producto $ \\{c_1,\\ldots,c_r\\}\\times\\{d_1,\\ldots,d_s\\}$. Y entonces podemos calcular la distancia de $\\chi^2$ entre ellas. \n"
   ]
  },
  {
   "cell_type": "markdown",
   "metadata": {},
   "source": [
    "### 2.2 Test de Chi-cuadrado\n",
    "Este test ha sido diseñado para comparar distribuciones de probabilidad discretas, peros se puede utilizar para datos continuos, si estos se agrupan en clases. Supongamos que tenemos una muestra aleatoria  $ (X_1,\\ldots,X_n)$ de una ley desconocida. Las clases  $ c_1,\\ldots,c_r$ son una partición del conjunto de valores posibles de la v.a. La hipótesis a probar se refiere a la distribución de estas clases. Sean $ P_0(c_1)\\ldots,P_0(c_r)$ las probabilidades teóricas de cada clase, la hipótesis nula se escribe como:\n",
    "\n",
    "$${\\cal H}_0\\;:\\; \\mathbb{P}[ X_i\\in c_k] = P_0(c_k)\\,,\\;\\forall k=1,\\ldots,r$$\n",
    "\n",
    "Bajo $ {\\cal H}_0$, la distribución empírica de las clases de las muestra debe ser cercana a la teórica, siendo la distribución empírica simplemente la frecuencia de observaciones en cada clase  disponibles en la muestra:  \n",
    "\n",
    "$$\\widehat{P}(c_k) = \\frac{1}{n}\\sum_{i=1}^n {\\mathbb 1} _{c_k}(X_i)$$\n",
    "\n",
    "Una medida de la similitud entre la distribución empírica y la teórica será la \"distancia\" de $\\chi^2$: \n",
    "\n",
    "#### Definición:\n",
    "Se denomina distancia de $\\chi^2$ entre dos distribuciones de probabilidad discretas $P_0$ y $\\widehat{P}$ a la expresión siguiente: \n",
    "\n",
    "$$D_{\\chi^2}(P_0,\\widehat{P}) = \\sum_{h=1}^r \\frac{(P_0(c_h)-\\widehat{P}(c_h))^2}{P_0(c_h)}$$\n",
    "\n",
    "La \"distancia\" de $\\chi^2$ es entonces la media ponderada de las diferencias al cuadrado entre los valores de \n",
    "$ P_0$ y $ \\widehat{P}$. No es una distancia en el sentido usual del término, porque ni siquiera cumple con ser simétrica. Su distribución de probabilidad no tiene una expersión explícita en general, pero existe un resultado de comportamiento en el límite:\n",
    "#### Teorema:\n",
    "Bajo la hipótesis $ {\\cal H}_0$, la ley de la variable aleatoria $T =  nD_{\\chi^2}(P_0,\\widehat{P})$ converge cuando $ n$ tiende al infinito hacia una ley  $\\chi^2_{r-1}$.\n",
    "\n",
    "Si la hipótesis nula es falsa, entonces $ T= nD_{\\chi^2}(P_0,\\widehat{P})$ tenderá hacia el infinito. Este es entonces un test unileateral a la derecha, por lo que para valores \"grandes\" de $T$ se rechazará $ {\\cal H}_0$. \n",
    "\n"
   ]
  },
  {
   "cell_type": "markdown",
   "metadata": {},
   "source": [
    "### 2.3 Test Chi-cuadrado para tablas de contingencia\n",
    "\n",
    "#### Proposición: \n",
    "La distancia de $\\chi^2$ de contingencia entre la distribución empírica $ (f_{hk})$ y la distribución teórica $ (f_{h\\bullet}f_{\\bullet k})$ es igual a:\n",
    "\n",
    "$$ D_{\\chi^2} = \\sum_{h=1}^r\\sum_{k=1}^s \\frac{(f_{hk} - f_{h \\bullet} f_{\\bullet k})^2}{f_{h \\bullet} f_{\\bullet k}} = -1 +  \\sum_{h=1}^r\\sum_{k=1}^s \\frac{n_{hk}^2}{n_{h\\bullet}\\, n_{\\bullet k}}$$\n",
    "\n",
    "\n",
    "#### Demostración:\n",
    "La primera expresión proviene directamente de la definición de la distancia  $\\chi^2$. Luego se expande el cuadrado y se obtiene\n",
    "$$D_{\\chi^2} =  -1 +  \\sum_{h=1}^r\\sum_{k=1}^s \\frac{n_{hk}^2}{n_{h\\bullet}\\, n_{\\bullet k}}$$\n",
    "\n",
    "De acuerdo a lo indicado en la sección anterior, es posible aproximar la ley de  $ nD_{\\chi^2}$ por una $\\chi^2$ cuyos grados de libertad es el número de clases menos 1 y disminuído por los parámetros estimados, que en este caso son las frecuencias de merginales $f_{h\\bullet}$ y $f_{\\bullet k}$. Es decir: \n",
    "$$rs-1-(r-1)-(s-1) = (r-1)(s-1)$$\n",
    "\n"
   ]
  },
  {
   "cell_type": "markdown",
   "metadata": {},
   "source": [
    "#### Ejemplo:\n",
    "Consideremos dos variables binarias referidas a una muestra de pacientes, una de las cuales ($X$) indica si la persona tiene tendencia suicida o no, y la otra clasifica sus enfermedades en \"psicosis\" o \"neurosis\" ($Y$). Se trata de analizar si existe una dependencia entre las tendencias suicidas y la clasificación de las enefermedades. Supongamos que la tabla de contingencia observada es la siguiente: \n",
    "$$\\begin{array}{|c||c|c|c|}\n",
    "\\hline\n",
    "\\bf{X\\mid Y}& \\text{psicosis } & \\text{neurosis} &\\text{total}\\\\\n",
    "\\hline\\hline\n",
    "\\text{con tendencia suicida} & 20 & 60 & 80\\\\\n",
    "\\hline\n",
    "\\text{sin tendencia suicida} & 180 & 140 &320\\\\\n",
    "\\hline\n",
    "\\text{total} &200&200&400\\\\ \n",
    "\\hline \\end{array}$$\n",
    "\n",
    "La distancia de $\\chi^2$ de contingencia queda:\n",
    "$$D_{\\chi^2} =  -1 +  \\sum_{h=1}^r\\sum_{k=1}^s \\frac{n_{hk}^2}{n_{h\\bullet}\\, n_{\\bullet k}} = -1 + \\frac{200}{200*80} + \\frac{3600}{200*80} + \\frac{180*180}{200*320} + \\frac{140*140}{200*320} = -1 + \\frac{170}{160} = 0.0625$$\n",
    "Asi: \n",
    "\n",
    "$nD_{\\chi^2} = 400*0.0625= 25$ que debemos comparar con la ley $\\chi^2_{1}$. De donde el p-value se calcula como\n",
    "\n",
    "$$p= 1- F_{\\chi^2_{1}}(25) =5.733031e-07$$\n",
    "\n",
    "\n",
    "por lo que se rechaza la hipótesis de independencia y se concluye que existe dependencia entre ambas variables"
   ]
  },
  {
   "cell_type": "code",
   "execution_count": 25,
   "metadata": {},
   "outputs": [
    {
     "name": "stdout",
     "output_type": "stream",
     "text": [
      "[1] 5.733031e-07\n"
     ]
    }
   ],
   "source": [
    "p <- 1-pchisq(25,1)\n",
    "print(p)"
   ]
  },
  {
   "cell_type": "code",
   "execution_count": 26,
   "metadata": {},
   "outputs": [
    {
     "data": {
      "text/plain": [
       "\n",
       "\tPearson's Chi-squared test\n",
       "\n",
       "data:  table\n",
       "X-squared = 25, df = 1, p-value = 5.733e-07\n"
      ]
     },
     "metadata": {},
     "output_type": "display_data"
    }
   ],
   "source": [
    "#usando el test predifinido en R\n",
    "table <- rbind(c(20,60),c(180,140))\n",
    "chisq.test(table,correct=FALSE)"
   ]
  },
  {
   "cell_type": "markdown",
   "metadata": {},
   "source": [
    "### 2.4 Test de Bowker\n",
    "Este test se utiliza para analizar la simetría en una tabla de contingencia construida a partir de dos muestras dependientes, típicamente pre y post un tratamiento.\n",
    "El estadístico del test de Bowker se construye como:\n",
    "$$ B= \\sum_{j>i} \\frac{(n_{ij} - n_{ji})^2}{n_{ij} + n_{ji}}$$\n",
    "\n",
    "De manera que bajo la hipotesis nula de simetría en la tabla de contingencia, es decir que no hay efecto del tratamiento, se cumple asintóticamente que:\n",
    "$$B \\sim \\chi^2_{\\frac{n(n-1)}{2}}$$\n",
    "\n",
    "Si se rechaza la hipótesis nula, y además se observan mas efectivos sobre la diagonal que bajo la diagonal se puede concluir que hay un efecto positivo del tratamiento en el criterio en análisis.\n",
    "\n",
    "#### Ejemplo\n",
    "Considere los datos de 54 estudiantes sometidos a una evaluación sobre sus habilidad de cohesión en la redacción de textos, antes y después de una intervención didáctica. La evaluación utiliza una escala de 4 niveles desde no logrado a totalmente logrado. \n",
    "Se pide evaluar si a intervención ha tenido efecto o no en la habilidad estudiada.\n",
    "\n"
   ]
  },
  {
   "cell_type": "code",
   "execution_count": 24,
   "metadata": {},
   "outputs": [
    {
     "name": "stdout",
     "output_type": "stream",
     "text": [
      "     [,1] [,2] [,3] [,4]\n",
      "[1,]    0    2    3    2\n",
      "[2,]    2    2    3    7\n",
      "[3,]    3    4    6   19\n",
      "[4,]    0    0    1    2\n",
      "[1] 25.34286\n",
      "[1] 36 10\n",
      "[1] 12.59159\n",
      "[1] 0.000294974\n"
     ]
    }
   ],
   "source": [
    "tabla <- rbind(c(0,2,3,2), c(2,2,3,7), c(3,4,6,19), c(0,0,1,2))\n",
    "print(tabla)\n",
    "B=0\n",
    "efsd=efbd=0\n",
    "for (i in 1:3){\n",
    "    for (j in (i+1):4){\n",
    "        B= B + (tabla[i,j]-tabla[j,i])^2/(tabla[i,j]+tabla[j,i])\n",
    "        efsd =efsd + tabla[i,j]\n",
    "        efbd = efbd + tabla[j,i]\n",
    "    }\n",
    "}\n",
    "print(B)\n",
    "print(c(efsd,efbd))\n",
    "n = 4*3/2\n",
    "q = qchisq(0.95,n)\n",
    "print(q)\n",
    "p <- 1-pchisq(B,n)\n",
    "print(p)"
   ]
  },
  {
   "cell_type": "markdown",
   "metadata": {},
   "source": [
    "Se rechaza la hipótesis nula de simetría en favor de un efecto positivo de la intervención didáctica."
   ]
  },
  {
   "cell_type": "code",
   "execution_count": 28,
   "metadata": {},
   "outputs": [
    {
     "data": {
      "text/plain": [
       "\n",
       "\tMcNemar's Chi-squared test\n",
       "\n",
       "data:  tabla\n",
       "McNemar's chi-squared = 25.343, df = 6, p-value = 0.000295\n"
      ]
     },
     "metadata": {},
     "output_type": "display_data"
    }
   ],
   "source": [
    "##usando el test predefinido en R\n",
    "mcnemar.test(tabla)"
   ]
  },
  {
   "cell_type": "code",
   "execution_count": null,
   "metadata": {},
   "outputs": [],
   "source": []
  }
 ],
 "metadata": {
  "kernelspec": {
   "display_name": "R",
   "language": "R",
   "name": "ir"
  },
  "language_info": {
   "codemirror_mode": "r",
   "file_extension": ".r",
   "mimetype": "text/x-r-source",
   "name": "R",
   "pygments_lexer": "r",
   "version": "3.6.1"
  }
 },
 "nbformat": 4,
 "nbformat_minor": 2
}
