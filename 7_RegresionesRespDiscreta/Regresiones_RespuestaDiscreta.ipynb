{
 "cells": [
  {
   "cell_type": "code",
   "execution_count": 22,
   "metadata": {},
   "outputs": [],
   "source": [
    "help(glm)"
   ]
  },
  {
   "cell_type": "markdown",
   "metadata": {},
   "source": [
    "# Regresiones para Respuestas Discretas\n",
    "En esta sesión vamos a analizar una generalización del modelo de regresion lineal que permite modelar un conjunto de datos,  en que la variable a explicar es discreta y las variables explicativas son numéricas o categóricas. Dos ejemplos de ello son los  modelos de regresión logística y regresión de Poisson, que estimaremos en R con ayuda de la función `glm`.\n",
    "\n",
    "\n",
    "## 1. Regresión Logística\n",
    "En este caso la variable a explicar es **binaria** y las variables explicativas son numéricas o categóricas. \n",
    "\n",
    "### Formalmente hablando\n",
    "\n",
    "Sea $y \\in \\{0,1\\}$ la variable a explicar y $\\textbf{x} \\in \\mathbb{R}^k$ las variables explicativas.\n",
    "\n",
    "Dos cambios respecto de la regresión lineal: \n",
    "\n",
    "- El primero es que $y |\\textbf{x}$ se modela como una v.a. con distribución $\\textbf{Bernoulli}$ en lugar de una Normal, es decir:\n",
    "\n",
    "$$p(y |\\textbf{x},\\beta)= Ber(\\mu(\\textbf{x}))$$\n",
    "\n",
    "dónde $$\\mathbb{E}[y|\\textbf{x}] = p(y=1|\\textbf{x}) = \\mu(\\textbf{x})$$\n",
    "\n",
    "- Y lo segundo es que, al igual que en la regresión lineal, se considera una combinación lineal de las variables explicativas, pero esta combinación lineal es pasada como parámetro a una función $\\mu$ que toma valores en el intervalo $[0,1]$, de manera que:\n",
    "\n",
    "$$\\mu(x) = \\sigma(\\beta^T\\textbf{x})$$\n",
    "\n",
    "dónde $\\sigma$ es la función sigmoidal definida por:\n",
    "\n",
    "$$\\sigma(\\eta) = \\frac{1}{1+exp(-\\eta)} = \\frac{e^{\\eta}}{e^{\\eta}+1}$$\n",
    "\n",
    "y su inversa conocida también como $\\textbf{logística}$ o $\\textbf{logit}$ es: \n",
    "\n",
    "$$\\text{logit}(p) = ln\\left(\\frac{p}{1- p}\\right)$$\n",
    "\n",
    "entonces se cumple que \n",
    "\n",
    "$$ \\text{logit}(\\mu(\\textbf{x}))= \\text{logit}(\\sigma(\\beta^T\\textbf{x})) = \\beta^T\\textbf{x}$$\n",
    "\n",
    "Asi, se obtiene el modelo:\n",
    "\n",
    "\n",
    "\n",
    "$$\\text{logit}(\\mathbb{E}[y|\\textbf{x}]) = \\beta^T\\textbf{x}$$\n",
    "\n",
    "denominado regresión logística, por su similitud con la regresión lineal, aunque es una forma de clasificación mas que una regresión.\n",
    "\n",
    "El coeficiente $\\frac{p}{1-p}$ se denomina suele denominar riesgo (odd en inglés) pues es la tasa entre las probabilidades de respuesta \"positiva\" y \"negativa\".\n"
   ]
  },
  {
   "cell_type": "code",
   "execution_count": 23,
   "metadata": {},
   "outputs": [
    {
     "data": {
      "image/png": "[encoded data removed]",
      "text/plain": [
       "plot without title"
      ]
     },
     "metadata": {
      "image/png": {
       "height": 420,
       "width": 420
      },
      "text/plain": {
       "height": 420,
       "width": 420
      }
     },
     "output_type": "display_data"
    }
   ],
   "source": [
    "#gráfica de la función sigmoide\n",
    "eta = seq(-10,10,by=0.01)\n",
    "sigma <- function(x){return( exp(x)/(exp(x)+1))}\n",
    "plot(eta,sigma(eta),type=\"l\")\n"
   ]
  },
  {
   "cell_type": "markdown",
   "metadata": {},
   "source": [
    "### Estimación de parámetros $\\beta$\n",
    "Los parámetros $\\beta$ se pueden estimar por máxima verosimilitud.\n",
    "En efecto, sea la muestra $\\{(y_i,\\textbf{x}_i), i=1,\\cdots,n\\}$, se tiene:\n",
    "\n",
    "$$\\begin{array}{lll}\n",
    "\\log \\mathcal{L} (\\beta) & = &  {\\displaystyle \\sum_{i=1}^n} y_i \\log \\sigma(\\beta^T \\textbf{x}_i) + {\\displaystyle \\sum_{i=1}^n}  (1-y_i) \\log (1- \\sigma(\\beta^T \\textbf{x}_i))\\\\\n",
    "&  = &{\\displaystyle \\sum_{i=1}^n} y_i \\log \\left(\\frac{\\sigma(\\beta^T \\textbf{x}_i)}{1- \\sigma(\\beta^T \\textbf{x}_i)}\\right) + {\\displaystyle \\sum_{i=1}^n}  \\log (1- \\sigma(\\beta^T \\textbf{x}_i))\\\\\n",
    "& = & {\\displaystyle \\sum_{i=1}^n}  y_i \\beta^T \\textbf{x}_i + {\\displaystyle \\sum_{i=1}^n}  \\log (1- e^{\\beta^T \\textbf{x}_i})\n",
    "\\end{array}$$\n",
    "\n",
    "A partir de esta función de verosimilitud no es posible obtener de manera analítica los  estimadores máximo verosímiles de $\\beta$. Se requiere utilizar algún algoritmo de aproximación como Newton-Raphson para las raices del gradiente de $\\log \\mathcal{L}(\\beta)$ o utilizar directamente el algoritmo del gradiente descendente. \n",
    "\n",
    "En el caso de Newton-Raphson las ecuaciones de aproximación quedan:\n",
    "$$\\hat{\\beta}^{nuevo} = \\hat{\\beta}^{viejo} + (X^TW X)^{-1}X^T(\\textbf{y} - \\hat{\\mu})$$\n",
    "\n",
    "donde $X \\in M_{nxk}$ es la matriz de valores de las $k$ variables explicativas en las $n$ observaciones, \n",
    "\n",
    "$$\\hat{\\mu}_i = \\frac{e^{X_{i}\\hat{\\beta}^{viejo}}}{e^{X_{i}\\beta^{viejo}}+1}$$\n",
    "\n",
    "y $W \\in M_{nxn}$ es la matriz diagonal con:\n",
    "\n",
    "$$ w_{ii} = \\hat{\\mu}_i ( 1- \\hat{\\mu}_i)$$\n",
    "\n",
    "Lo criterios de convergencia del método iterativo utilizado para estimar los parámetros pueden ser varios, pero en todos ellos la idea subyacente es que $\\hat{\\beta}^{nuevo} \\approx \\hat{\\beta}^{viejo}$ o $\\,\\log \\mathcal{L}(\\hat{\\beta}^{viejo}) \\approx log \\mathcal{L} (\\hat{\\beta}^{nuevo})$ o $\\,\\hat{\\mu}^{viejo} \\approx \\hat{\\mu}^{nuevo}$. "
   ]
  },
  {
   "cell_type": "code",
   "execution_count": 24,
   "metadata": {},
   "outputs": [
    {
     "data": {
      "text/plain": [
       "    TrLevel         SAT       \n",
       " Min.   :0.0   Min.   :463.0  \n",
       " 1st Qu.:0.0   1st Qu.:543.5  \n",
       " Median :1.0   Median :567.5  \n",
       " Mean   :0.7   Mean   :559.5  \n",
       " 3rd Qu.:1.0   3rd Qu.:582.0  \n",
       " Max.   :1.0   Max.   :649.0  "
      ]
     },
     "metadata": {},
     "output_type": "display_data"
    },
    {
     "data": {
      "text/plain": [
       "\n",
       "Call:\n",
       "glm(formula = TrLevel ~ SAT, family = binomial(link = \"logit\"), \n",
       "    data = datos)\n",
       "\n",
       "Deviance Residuals: \n",
       "    Min       1Q   Median       3Q      Max  \n",
       "-2.2918  -0.1830   0.3662   0.5057   1.5301  \n",
       "\n",
       "Coefficients:\n",
       "             Estimate Std. Error z value Pr(>|z|)  \n",
       "(Intercept) -31.65827   12.69071  -2.495   0.0126 *\n",
       "SAT           0.05878    0.02296   2.560   0.0105 *\n",
       "---\n",
       "Signif. codes:  0 '***' 0.001 '**' 0.01 '*' 0.05 '.' 0.1 ' ' 1\n",
       "\n",
       "(Dispersion parameter for binomial family taken to be 1)\n",
       "\n",
       "    Null deviance: 36.652  on 29  degrees of freedom\n",
       "Residual deviance: 21.993  on 28  degrees of freedom\n",
       "AIC: 25.993\n",
       "\n",
       "Number of Fisher Scoring iterations: 5\n"
      ]
     },
     "metadata": {},
     "output_type": "display_data"
    }
   ],
   "source": [
    "#Ejemplo de regresión logística para datos SAT\n",
    "datos <- read.csv(\"datosSAT.csv\",header=TRUE,sep=\";\")\n",
    "summary(datos)\n",
    "#TrLevel es el nivel alcanzado: 1 si pasó el curso 0 si no\n",
    "#SAT es el puntaje obtenido en el test de Lenguaje\n",
    "res<- glm(TrLevel ~ SAT, data=datos,family = binomial(link = \"logit\"))\n",
    "summary(res)"
   ]
  },
  {
   "cell_type": "code",
   "execution_count": 25,
   "metadata": {},
   "outputs": [
    {
     "data": {
      "image/png": "[encoded data removed]",
      "text/plain": [
       "plot without title"
      ]
     },
     "metadata": {
      "image/png": {
       "height": 420,
       "width": 420
      },
      "text/plain": {
       "height": 420,
       "width": 420
      }
     },
     "output_type": "display_data"
    }
   ],
   "source": [
    "#graficamos los resultados\n",
    "dat <-cbind(rep(1,30),datos$SAT)\n",
    "prob <- sigma(dat%*%res$coefficients)\n",
    "plot(datos$SAT,prob,col=\"red\",ylim=c(0,1))\n",
    "points(datos$SAT,datos$TrLevel)"
   ]
  },
  {
   "cell_type": "markdown",
   "metadata": {},
   "source": [
    "**Ejercicio 1:**\n",
    "\n",
    "a) Interprete los resultados\n",
    "\n",
    "b) Indage en la función glm el método de estimación del modelo logit que utiliza y los principales parámetros disponibles.\n",
    "\n",
    "c) Describa formalmente el método de estimación del modelo logit que usa glm y haga una comparación con los otros métodos disponibles. Para ello use como referencia el Cap. 8 de \"Machine Learning, a Probabilistic Perspective\", K. Murphy."
   ]
  },
  {
   "cell_type": "code",
   "execution_count": 26,
   "metadata": {},
   "outputs": [
    {
     "data": {
      "text/html": [
       "<table>\n",
       "<caption>A data.frame: 103 × 4</caption>\n",
       "<thead>\n",
       "\t<tr><th scope=col>Elaborativo</th><th scope=col>MAT</th><th scope=col>LENG</th><th scope=col>CIENCIA</th></tr>\n",
       "\t<tr><th scope=col>&lt;int&gt;</th><th scope=col>&lt;int&gt;</th><th scope=col>&lt;int&gt;</th><th scope=col>&lt;int&gt;</th></tr>\n",
       "</thead>\n",
       "<tbody>\n",
       "\t<tr><td>0</td><td>429</td><td>573</td><td>443</td></tr>\n",
       "\t<tr><td>0</td><td>572</td><td>534</td><td>497</td></tr>\n",
       "\t<tr><td>1</td><td>631</td><td>692</td><td>611</td></tr>\n",
       "\t<tr><td>0</td><td>713</td><td>654</td><td>694</td></tr>\n",
       "\t<tr><td>1</td><td>591</td><td>523</td><td>537</td></tr>\n",
       "\t<tr><td>0</td><td>610</td><td>530</td><td>558</td></tr>\n",
       "\t<tr><td>1</td><td>619</td><td>628</td><td>409</td></tr>\n",
       "\t<tr><td>0</td><td>596</td><td>628</td><td>625</td></tr>\n",
       "\t<tr><td>1</td><td>644</td><td>466</td><td>523</td></tr>\n",
       "\t<tr><td>0</td><td>644</td><td>628</td><td>591</td></tr>\n",
       "\t<tr><td>1</td><td>586</td><td>573</td><td>591</td></tr>\n",
       "\t<tr><td>1</td><td>631</td><td>620</td><td>611</td></tr>\n",
       "\t<tr><td>1</td><td>652</td><td>510</td><td>564</td></tr>\n",
       "\t<tr><td>1</td><td>619</td><td>573</td><td>570</td></tr>\n",
       "\t<tr><td>1</td><td>636</td><td>604</td><td>611</td></tr>\n",
       "\t<tr><td>0</td><td>591</td><td>566</td><td>611</td></tr>\n",
       "\t<tr><td>1</td><td>581</td><td>604</td><td>591</td></tr>\n",
       "\t<tr><td>1</td><td>581</td><td>558</td><td>537</td></tr>\n",
       "\t<tr><td>1</td><td>611</td><td>516</td><td>505</td></tr>\n",
       "\t<tr><td>0</td><td>685</td><td>596</td><td>570</td></tr>\n",
       "\t<tr><td>1</td><td>586</td><td>523</td><td>443</td></tr>\n",
       "\t<tr><td>0</td><td>636</td><td>558</td><td>576</td></tr>\n",
       "\t<tr><td>1</td><td>652</td><td>530</td><td>620</td></tr>\n",
       "\t<tr><td>1</td><td>605</td><td>537</td><td>570</td></tr>\n",
       "\t<tr><td>1</td><td>591</td><td>663</td><td>506</td></tr>\n",
       "\t<tr><td>0</td><td>482</td><td>508</td><td>480</td></tr>\n",
       "\t<tr><td>1</td><td>605</td><td>674</td><td>629</td></tr>\n",
       "\t<tr><td>1</td><td>527</td><td>628</td><td>558</td></tr>\n",
       "\t<tr><td>1</td><td>558</td><td>573</td><td>409</td></tr>\n",
       "\t<tr><td>0</td><td>625</td><td>612</td><td>639</td></tr>\n",
       "\t<tr><td>...</td><td>...</td><td>...</td><td>...</td></tr>\n",
       "\t<tr><td>1</td><td>527</td><td>489</td><td>506</td></tr>\n",
       "\t<tr><td>1</td><td>636</td><td>620</td><td>611</td></tr>\n",
       "\t<tr><td>1</td><td>581</td><td>566</td><td>558</td></tr>\n",
       "\t<tr><td>1</td><td>668</td><td>596</td><td>558</td></tr>\n",
       "\t<tr><td>0</td><td>605</td><td>510</td><td>371</td></tr>\n",
       "\t<tr><td>0</td><td>575</td><td>551</td><td>514</td></tr>\n",
       "\t<tr><td>1</td><td>570</td><td>566</td><td>529</td></tr>\n",
       "\t<tr><td>0</td><td>591</td><td>530</td><td>457</td></tr>\n",
       "\t<tr><td>1</td><td>601</td><td>620</td><td>564</td></tr>\n",
       "\t<tr><td>1</td><td>627</td><td>573</td><td>537</td></tr>\n",
       "\t<tr><td>1</td><td>575</td><td>530</td><td>495</td></tr>\n",
       "\t<tr><td>1</td><td>586</td><td>588</td><td>601</td></tr>\n",
       "\t<tr><td>0</td><td>636</td><td>530</td><td>601</td></tr>\n",
       "\t<tr><td>1</td><td>578</td><td>650</td><td>546</td></tr>\n",
       "\t<tr><td>1</td><td>623</td><td>654</td><td>637</td></tr>\n",
       "\t<tr><td>0</td><td>481</td><td>481</td><td>409</td></tr>\n",
       "\t<tr><td>1</td><td>536</td><td>489</td><td>443</td></tr>\n",
       "\t<tr><td>0</td><td>570</td><td>517</td><td>576</td></tr>\n",
       "\t<tr><td>1</td><td>558</td><td>551</td><td>529</td></tr>\n",
       "\t<tr><td>1</td><td>586</td><td>654</td><td>646</td></tr>\n",
       "\t<tr><td>0</td><td>551</td><td>544</td><td>425</td></tr>\n",
       "\t<tr><td>1</td><td>614</td><td>573</td><td>576</td></tr>\n",
       "\t<tr><td>1</td><td>507</td><td>466</td><td>470</td></tr>\n",
       "\t<tr><td>1</td><td>596</td><td>620</td><td>576</td></tr>\n",
       "\t<tr><td>1</td><td>570</td><td>596</td><td>582</td></tr>\n",
       "\t<tr><td>1</td><td>581</td><td>537</td><td>506</td></tr>\n",
       "\t<tr><td>1</td><td>601</td><td>481</td><td>591</td></tr>\n",
       "\t<tr><td>1</td><td>660</td><td>612</td><td>637</td></tr>\n",
       "\t<tr><td>0</td><td>652</td><td>704</td><td>625</td></tr>\n",
       "\t<tr><td>1</td><td>623</td><td>566</td><td>551</td></tr>\n",
       "</tbody>\n",
       "</table>\n"
      ],
      "text/latex": [
       "A data.frame: 103 × 4\n",
       "\\begin{tabular}{r|llll}\n",
       " Elaborativo & MAT & LENG & CIENCIA\\\\\n",
       " <int> & <int> & <int> & <int>\\\\\n",
       "\\hline\n",
       "\t 0 & 429 & 573 & 443\\\\\n",
       "\t 0 & 572 & 534 & 497\\\\\n",
       "\t 1 & 631 & 692 & 611\\\\\n",
       "\t 0 & 713 & 654 & 694\\\\\n",
       "\t 1 & 591 & 523 & 537\\\\\n",
       "\t 0 & 610 & 530 & 558\\\\\n",
       "\t 1 & 619 & 628 & 409\\\\\n",
       "\t 0 & 596 & 628 & 625\\\\\n",
       "\t 1 & 644 & 466 & 523\\\\\n",
       "\t 0 & 644 & 628 & 591\\\\\n",
       "\t 1 & 586 & 573 & 591\\\\\n",
       "\t 1 & 631 & 620 & 611\\\\\n",
       "\t 1 & 652 & 510 & 564\\\\\n",
       "\t 1 & 619 & 573 & 570\\\\\n",
       "\t 1 & 636 & 604 & 611\\\\\n",
       "\t 0 & 591 & 566 & 611\\\\\n",
       "\t 1 & 581 & 604 & 591\\\\\n",
       "\t 1 & 581 & 558 & 537\\\\\n",
       "\t 1 & 611 & 516 & 505\\\\\n",
       "\t 0 & 685 & 596 & 570\\\\\n",
       "\t 1 & 586 & 523 & 443\\\\\n",
       "\t 0 & 636 & 558 & 576\\\\\n",
       "\t 1 & 652 & 530 & 620\\\\\n",
       "\t 1 & 605 & 537 & 570\\\\\n",
       "\t 1 & 591 & 663 & 506\\\\\n",
       "\t 0 & 482 & 508 & 480\\\\\n",
       "\t 1 & 605 & 674 & 629\\\\\n",
       "\t 1 & 527 & 628 & 558\\\\\n",
       "\t 1 & 558 & 573 & 409\\\\\n",
       "\t 0 & 625 & 612 & 639\\\\\n",
       "\t ... & ... & ... & ...\\\\\n",
       "\t 1 & 527 & 489 & 506\\\\\n",
       "\t 1 & 636 & 620 & 611\\\\\n",
       "\t 1 & 581 & 566 & 558\\\\\n",
       "\t 1 & 668 & 596 & 558\\\\\n",
       "\t 0 & 605 & 510 & 371\\\\\n",
       "\t 0 & 575 & 551 & 514\\\\\n",
       "\t 1 & 570 & 566 & 529\\\\\n",
       "\t 0 & 591 & 530 & 457\\\\\n",
       "\t 1 & 601 & 620 & 564\\\\\n",
       "\t 1 & 627 & 573 & 537\\\\\n",
       "\t 1 & 575 & 530 & 495\\\\\n",
       "\t 1 & 586 & 588 & 601\\\\\n",
       "\t 0 & 636 & 530 & 601\\\\\n",
       "\t 1 & 578 & 650 & 546\\\\\n",
       "\t 1 & 623 & 654 & 637\\\\\n",
       "\t 0 & 481 & 481 & 409\\\\\n",
       "\t 1 & 536 & 489 & 443\\\\\n",
       "\t 0 & 570 & 517 & 576\\\\\n",
       "\t 1 & 558 & 551 & 529\\\\\n",
       "\t 1 & 586 & 654 & 646\\\\\n",
       "\t 0 & 551 & 544 & 425\\\\\n",
       "\t 1 & 614 & 573 & 576\\\\\n",
       "\t 1 & 507 & 466 & 470\\\\\n",
       "\t 1 & 596 & 620 & 576\\\\\n",
       "\t 1 & 570 & 596 & 582\\\\\n",
       "\t 1 & 581 & 537 & 506\\\\\n",
       "\t 1 & 601 & 481 & 591\\\\\n",
       "\t 1 & 660 & 612 & 637\\\\\n",
       "\t 0 & 652 & 704 & 625\\\\\n",
       "\t 1 & 623 & 566 & 551\\\\\n",
       "\\end{tabular}\n"
      ],
      "text/markdown": [
       "\n",
       "A data.frame: 103 × 4\n",
       "\n",
       "| Elaborativo &lt;int&gt; | MAT &lt;int&gt; | LENG &lt;int&gt; | CIENCIA &lt;int&gt; |\n",
       "|---|---|---|---|\n",
       "| 0 | 429 | 573 | 443 |\n",
       "| 0 | 572 | 534 | 497 |\n",
       "| 1 | 631 | 692 | 611 |\n",
       "| 0 | 713 | 654 | 694 |\n",
       "| 1 | 591 | 523 | 537 |\n",
       "| 0 | 610 | 530 | 558 |\n",
       "| 1 | 619 | 628 | 409 |\n",
       "| 0 | 596 | 628 | 625 |\n",
       "| 1 | 644 | 466 | 523 |\n",
       "| 0 | 644 | 628 | 591 |\n",
       "| 1 | 586 | 573 | 591 |\n",
       "| 1 | 631 | 620 | 611 |\n",
       "| 1 | 652 | 510 | 564 |\n",
       "| 1 | 619 | 573 | 570 |\n",
       "| 1 | 636 | 604 | 611 |\n",
       "| 0 | 591 | 566 | 611 |\n",
       "| 1 | 581 | 604 | 591 |\n",
       "| 1 | 581 | 558 | 537 |\n",
       "| 1 | 611 | 516 | 505 |\n",
       "| 0 | 685 | 596 | 570 |\n",
       "| 1 | 586 | 523 | 443 |\n",
       "| 0 | 636 | 558 | 576 |\n",
       "| 1 | 652 | 530 | 620 |\n",
       "| 1 | 605 | 537 | 570 |\n",
       "| 1 | 591 | 663 | 506 |\n",
       "| 0 | 482 | 508 | 480 |\n",
       "| 1 | 605 | 674 | 629 |\n",
       "| 1 | 527 | 628 | 558 |\n",
       "| 1 | 558 | 573 | 409 |\n",
       "| 0 | 625 | 612 | 639 |\n",
       "| ... | ... | ... | ... |\n",
       "| 1 | 527 | 489 | 506 |\n",
       "| 1 | 636 | 620 | 611 |\n",
       "| 1 | 581 | 566 | 558 |\n",
       "| 1 | 668 | 596 | 558 |\n",
       "| 0 | 605 | 510 | 371 |\n",
       "| 0 | 575 | 551 | 514 |\n",
       "| 1 | 570 | 566 | 529 |\n",
       "| 0 | 591 | 530 | 457 |\n",
       "| 1 | 601 | 620 | 564 |\n",
       "| 1 | 627 | 573 | 537 |\n",
       "| 1 | 575 | 530 | 495 |\n",
       "| 1 | 586 | 588 | 601 |\n",
       "| 0 | 636 | 530 | 601 |\n",
       "| 1 | 578 | 650 | 546 |\n",
       "| 1 | 623 | 654 | 637 |\n",
       "| 0 | 481 | 481 | 409 |\n",
       "| 1 | 536 | 489 | 443 |\n",
       "| 0 | 570 | 517 | 576 |\n",
       "| 1 | 558 | 551 | 529 |\n",
       "| 1 | 586 | 654 | 646 |\n",
       "| 0 | 551 | 544 | 425 |\n",
       "| 1 | 614 | 573 | 576 |\n",
       "| 1 | 507 | 466 | 470 |\n",
       "| 1 | 596 | 620 | 576 |\n",
       "| 1 | 570 | 596 | 582 |\n",
       "| 1 | 581 | 537 | 506 |\n",
       "| 1 | 601 | 481 | 591 |\n",
       "| 1 | 660 | 612 | 637 |\n",
       "| 0 | 652 | 704 | 625 |\n",
       "| 1 | 623 | 566 | 551 |\n",
       "\n"
      ],
      "text/plain": [
       "    Elaborativo MAT LENG CIENCIA\n",
       "1   0           429 573  443    \n",
       "2   0           572 534  497    \n",
       "3   1           631 692  611    \n",
       "4   0           713 654  694    \n",
       "5   1           591 523  537    \n",
       "6   0           610 530  558    \n",
       "7   1           619 628  409    \n",
       "8   0           596 628  625    \n",
       "9   1           644 466  523    \n",
       "10  0           644 628  591    \n",
       "11  1           586 573  591    \n",
       "12  1           631 620  611    \n",
       "13  1           652 510  564    \n",
       "14  1           619 573  570    \n",
       "15  1           636 604  611    \n",
       "16  0           591 566  611    \n",
       "17  1           581 604  591    \n",
       "18  1           581 558  537    \n",
       "19  1           611 516  505    \n",
       "20  0           685 596  570    \n",
       "21  1           586 523  443    \n",
       "22  0           636 558  576    \n",
       "23  1           652 530  620    \n",
       "24  1           605 537  570    \n",
       "25  1           591 663  506    \n",
       "26  0           482 508  480    \n",
       "27  1           605 674  629    \n",
       "28  1           527 628  558    \n",
       "29  1           558 573  409    \n",
       "30  0           625 612  639    \n",
       "... ...         ... ...  ...    \n",
       "74  1           527 489  506    \n",
       "75  1           636 620  611    \n",
       "76  1           581 566  558    \n",
       "77  1           668 596  558    \n",
       "78  0           605 510  371    \n",
       "79  0           575 551  514    \n",
       "80  1           570 566  529    \n",
       "81  0           591 530  457    \n",
       "82  1           601 620  564    \n",
       "83  1           627 573  537    \n",
       "84  1           575 530  495    \n",
       "85  1           586 588  601    \n",
       "86  0           636 530  601    \n",
       "87  1           578 650  546    \n",
       "88  1           623 654  637    \n",
       "89  0           481 481  409    \n",
       "90  1           536 489  443    \n",
       "91  0           570 517  576    \n",
       "92  1           558 551  529    \n",
       "93  1           586 654  646    \n",
       "94  0           551 544  425    \n",
       "95  1           614 573  576    \n",
       "96  1           507 466  470    \n",
       "97  1           596 620  576    \n",
       "98  1           570 596  582    \n",
       "99  1           581 537  506    \n",
       "100 1           601 481  591    \n",
       "101 1           660 612  637    \n",
       "102 0           652 704  625    \n",
       "103 1           623 566  551    "
      ]
     },
     "metadata": {},
     "output_type": "display_data"
    }
   ],
   "source": [
    "#Ejemplo de regresión logística para datos de PSU de estudiantes de primer año universitario\n",
    "#y su relación con la estrategia de aprendizaje Elaborativa del estudiante (0, bajo nivel - 1 normal o alto nivel)\n",
    "#obtenida en un test de diagnóstico\n",
    "datos <- read.csv(\"datosEjemplo.csv\",header=TRUE,sep=\";\")\n",
    "datos"
   ]
  },
  {
   "cell_type": "markdown",
   "metadata": {},
   "source": [
    "**Ejercicio 2:**\n",
    "\n",
    "a) Ajuste un modelo logit a estos datos. Interprete sus resultados.\n",
    "\n",
    "b) Escoja la variable explicativa con mayor correlación con la variable binaria y rehaga los cálculos. Grafique e interprete sus resultados.\n",
    "\n",
    "c) Investigue estrategias para comparar los modelos en (a) y (b). Concluya\n"
   ]
  },
  {
   "cell_type": "markdown",
   "metadata": {},
   "source": [
    "## 2. Regresión de Poisson\n",
    "En este caso la variable a explicar es **discreta**, mas precisamente es una variable de conteo o a valores en $\\it N$  y las variables explicativas son numéricas o categóricas. \n",
    "\n",
    "### Formalmente hablando\n",
    "\n",
    "Sea $y \\in \\{0,1,2, \\cdots\\}$ la variable a explicar y $\\textbf{x} \\in \\mathbb{R}^n$ las variables explicativas.\n",
    " \n",
    "\n",
    "Entonces $y\\mid \\textbf{x}$ se modela como una v.a. con distribución $\\textbf{Poisson}$, es decir:\n",
    "\n",
    "$$p(y |\\textbf{x},\\beta)= Poisson(\\lambda(\\textbf{x},\\beta))$$\n",
    "\n",
    "dónde, al igual que en la regresión lineal, se considera una combinación lineal de las variables explicativas, pero esta combinación lineal es pasada como parámetro a una función $ \\lambda$ que toma valores positivos:\n",
    "\n",
    "$$\\lambda(\\textbf{x},\\beta) = \\lambda_{\\textbf{x},\\beta}=e^{\\beta^T\\textbf{x}}$$\n",
    "\n",
    "Así, \n",
    "$$p(y |\\textbf{x},\\beta) = p(y | \\lambda_{\\textbf{x},\\beta}) = \\frac{\\lambda_{\\textbf{x},\\beta}^{y}}{y!} \\exp \\left ({-\\lambda_{\\textbf{x},\\beta}} \\right) = \n",
    "\\frac{e^{y \\beta^T\\textbf{x}}}{y!} \\exp \\left (-e^{\\beta^T\\textbf{x}} \\right)$$\n",
    "\n"
   ]
  },
  {
   "cell_type": "markdown",
   "metadata": {},
   "source": [
    "Notar que en este caso, se tiene:\n",
    "\n",
    "$$\\log E(Y \\mid \\textbf{x}) = \\log \\lambda_{\\textbf{x}} = \\beta^T \\textbf{x}$$"
   ]
  },
  {
   "cell_type": "markdown",
   "metadata": {},
   "source": [
    "### Estimación de parámetros $\\beta$\n",
    "Los parámetros $\\beta$ se pueden estimar por máxima verosimilitud.\n",
    "En efecto, sea la muestra $\\{(y_i,\\textbf{x}_i), i=1,\\cdots,n\\}$, se tiene:\n",
    "\n",
    "$$\n",
    "\\log \\mathcal{L} (\\beta) =   {\\displaystyle \\sum_{i=1}^n}\\left (y_i \\beta^T \\textbf{x}_i +   e^{\\beta^T \\textbf{x}_i} + \\log(y_i!)\\right)$$\n",
    "\n",
    "A partir de esta función de verosimilitud no es posible obtener de manera analítica los  estimadores máximo verosímiles de $\\beta$. Utilizando Newton-Raphson para aproximar las raices del gradiente de $\\log \\mathcal{L}(\\beta)$ se obtiene:\n",
    "$$\\hat{\\beta}^{nuevo} = \\hat{\\beta}^{viejo} + (X^TW X)^{-1}X^T(\\textbf{y} - \\hat{\\lambda})$$\n",
    "\n",
    "donde $X \\in M_{nxk}$ es la matriz de valores de las $k$ variables explicativas en las $n$ observaciones, \n",
    "\n",
    "$$\\hat{\\lambda}_i = e^{X_{i}\\beta^{viejo}}$$\n",
    "\n",
    "y $W \\in M_{nxn}$ es la matriz diagonal con:\n",
    "\n",
    "$$ w_{ii} = \\hat{\\lambda}_i$$\n",
    "\n",
    "Lo criterios de convergencia del método iterativo utilizado para estimar los parámetros pueden ser varios, pero en todos ellos la idea subyacente es que $\\hat{\\beta}^{nuevo} \\approx \\hat{\\beta}^{viejo}$ o $\\,\\log \\mathcal{L}(\\hat{\\beta}^{viejo}) \\approx log \\mathcal{L} (\\hat{\\beta}^{nuevo})$ o $\\,\\hat{\\lambda}^{viejo} \\approx \\hat{\\lambda}^{nuevo}$. "
   ]
  },
  {
   "cell_type": "code",
   "execution_count": 27,
   "metadata": {},
   "outputs": [
    {
     "name": "stdout",
     "output_type": "stream",
     "text": [
      "    id num_awards       prog math\n",
      "1   45          0 Vocational   41\n",
      "2  108          0    General   41\n",
      "3   15          0 Vocational   44\n",
      "4   67          0 Vocational   42\n",
      "5  153          0 Vocational   40\n",
      "6   51          0    General   42\n",
      "7  164          0 Vocational   46\n",
      "8  133          0 Vocational   40\n",
      "9    2          0 Vocational   33\n",
      "10  53          0 Vocational   46\n",
      "11   1          0 Vocational   40\n",
      "12 128          0   Academic   38\n",
      "13  16          0 Vocational   44\n",
      "14 106          0 Vocational   37\n",
      "15  89          0 Vocational   40\n",
      "16 134          0    General   39\n",
      "17  19          0    General   43\n",
      "18 145          0 Vocational   38\n",
      "19  11          0   Academic   45\n",
      "20 117          0 Vocational   39\n"
     ]
    },
    {
     "data": {
      "text/plain": [
       "       id        num_awards           prog          math      \n",
       " 1      :  1   Min.   :0.00   General   : 45   Min.   :33.00  \n",
       " 2      :  1   1st Qu.:0.00   Academic  :105   1st Qu.:45.00  \n",
       " 3      :  1   Median :0.00   Vocational: 50   Median :52.00  \n",
       " 4      :  1   Mean   :0.63                    Mean   :52.65  \n",
       " 5      :  1   3rd Qu.:1.00                    3rd Qu.:59.00  \n",
       " 6      :  1   Max.   :6.00                    Max.   :75.00  \n",
       " (Other):194                                                  "
      ]
     },
     "metadata": {},
     "output_type": "display_data"
    }
   ],
   "source": [
    "#ejemplo de regresión de Poisson que considera datos simulados sobre 200 estudiantes de EM\n",
    "#la variable a explicar es el número de premios obtenidos y las variables explicativas\n",
    "#son sus puntajes en el examen final de matemáticas, y el tipo de programa en que \n",
    "#están matriculados: general, vocacional o académico.\n",
    "require(ggplot2)\n",
    "\n",
    "p <- read.csv(\"https://stats.idre.ucla.edu/stat/data/poisson_sim.csv\")\n",
    "p <- within(p, {\n",
    "  prog <- factor(prog, levels=1:3, labels=c(\"General\", \"Academic\", \n",
    "                                                     \"Vocational\"))\n",
    "  id <- factor(id)\n",
    "})\n",
    "print(p[1:20,])\n",
    "summary(p)"
   ]
  },
  {
   "cell_type": "code",
   "execution_count": 10,
   "metadata": {},
   "outputs": [
    {
     "data": {
      "text/html": [
       "<dl class=dl-horizontal>\n",
       "\t<dt>General</dt>\n",
       "\t\t<dd>'M (SD) = 0.20 (0.40)'</dd>\n",
       "\t<dt>Academic</dt>\n",
       "\t\t<dd>'M (SD) = 1.00 (1.28)'</dd>\n",
       "\t<dt>Vocational</dt>\n",
       "\t\t<dd>'M (SD) = 0.24 (0.52)'</dd>\n",
       "</dl>\n"
      ],
      "text/latex": [
       "\\begin{description*}\n",
       "\\item[General] 'M (SD) = 0.20 (0.40)'\n",
       "\\item[Academic] 'M (SD) = 1.00 (1.28)'\n",
       "\\item[Vocational] 'M (SD) = 0.24 (0.52)'\n",
       "\\end{description*}\n"
      ],
      "text/markdown": [
       "General\n",
       ":   'M (SD) = 0.20 (0.40)'Academic\n",
       ":   'M (SD) = 1.00 (1.28)'Vocational\n",
       ":   'M (SD) = 0.24 (0.52)'\n",
       "\n"
      ],
      "text/plain": [
       "               General               Academic             Vocational \n",
       "\"M (SD) = 0.20 (0.40)\" \"M (SD) = 1.00 (1.28)\" \"M (SD) = 0.24 (0.52)\" "
      ]
     },
     "metadata": {},
     "output_type": "display_data"
    }
   ],
   "source": [
    "with(p, tapply(num_awards, prog, function(x) {\n",
    "  sprintf(\"M (SD) = %1.2f (%1.2f)\", mean(x), sd(x))\n",
    "}))"
   ]
  },
  {
   "cell_type": "code",
   "execution_count": 11,
   "metadata": {},
   "outputs": [
    {
     "data": {
      "image/png": "[encoded data removed]",
      "text/plain": [
       "plot without title"
      ]
     },
     "metadata": {
      "image/png": {
       "height": 420,
       "width": 420
      },
      "text/plain": {
       "height": 420,
       "width": 420
      }
     },
     "output_type": "display_data"
    }
   ],
   "source": [
    "ggplot(p, aes(num_awards, fill = prog)) +\n",
    "  geom_histogram(binwidth=.5, position=\"dodge\")"
   ]
  },
  {
   "cell_type": "code",
   "execution_count": 12,
   "metadata": {},
   "outputs": [
    {
     "data": {
      "text/plain": [
       "\n",
       "Call:\n",
       "glm(formula = num_awards ~ prog + math, family = \"poisson\", data = p)\n",
       "\n",
       "Deviance Residuals: \n",
       "    Min       1Q   Median       3Q      Max  \n",
       "-2.2043  -0.8436  -0.5106   0.2558   2.6796  \n",
       "\n",
       "Coefficients:\n",
       "               Estimate Std. Error z value Pr(>|z|)    \n",
       "(Intercept)    -5.24712    0.65845  -7.969 1.60e-15 ***\n",
       "progAcademic    1.08386    0.35825   3.025  0.00248 ** \n",
       "progVocational  0.36981    0.44107   0.838  0.40179    \n",
       "math            0.07015    0.01060   6.619 3.63e-11 ***\n",
       "---\n",
       "Signif. codes:  0 '***' 0.001 '**' 0.01 '*' 0.05 '.' 0.1 ' ' 1\n",
       "\n",
       "(Dispersion parameter for poisson family taken to be 1)\n",
       "\n",
       "    Null deviance: 287.67  on 199  degrees of freedom\n",
       "Residual deviance: 189.45  on 196  degrees of freedom\n",
       "AIC: 373.5\n",
       "\n",
       "Number of Fisher Scoring iterations: 6\n"
      ]
     },
     "metadata": {},
     "output_type": "display_data"
    }
   ],
   "source": [
    "summary(m1 <- glm(num_awards ~ prog + math, family=\"poisson\", data=p))"
   ]
  },
  {
   "cell_type": "code",
   "execution_count": 14,
   "metadata": {},
   "outputs": [
    {
     "data": {
      "text/html": [
       "<table>\n",
       "<caption>A matrix: 1 × 3 of type dbl</caption>\n",
       "<thead>\n",
       "\t<tr><th scope=col>res.deviance</th><th scope=col>df</th><th scope=col>p</th></tr>\n",
       "</thead>\n",
       "<tbody>\n",
       "\t<tr><td>189.4496</td><td>196</td><td>0.6182274</td></tr>\n",
       "</tbody>\n",
       "</table>\n"
      ],
      "text/latex": [
       "A matrix: 1 × 3 of type dbl\n",
       "\\begin{tabular}{lll}\n",
       " res.deviance & df & p\\\\\n",
       "\\hline\n",
       "\t 189.4496 & 196 & 0.6182274\\\\\n",
       "\\end{tabular}\n"
      ],
      "text/markdown": [
       "\n",
       "A matrix: 1 × 3 of type dbl\n",
       "\n",
       "| res.deviance | df | p |\n",
       "|---|---|---|\n",
       "| 189.4496 | 196 | 0.6182274 |\n",
       "\n"
      ],
      "text/plain": [
       "     res.deviance df  p        \n",
       "[1,] 189.4496     196 0.6182274"
      ]
     },
     "metadata": {},
     "output_type": "display_data"
    }
   ],
   "source": [
    "with(m1, cbind(res.deviance = deviance, df = df.residual,\n",
    "  p = pchisq(deviance, df.residual, lower.tail=FALSE)))"
   ]
  },
  {
   "cell_type": "code",
   "execution_count": 13,
   "metadata": {},
   "outputs": [
    {
     "data": {
      "image/png": "[encoded data removed]",
      "text/plain": [
       "plot without title"
      ]
     },
     "metadata": {
      "image/png": {
       "height": 420,
       "width": 420
      },
      "text/plain": {
       "height": 420,
       "width": 420
      }
     },
     "output_type": "display_data"
    }
   ],
   "source": [
    "## calculate and store predicted values\n",
    "p$phat <- predict(m1, type=\"response\")\n",
    "\n",
    "## order by program and then by math\n",
    "p <- p[with(p, order(prog, math)), ]\n",
    "\n",
    "## create the plot\n",
    "ggplot(p, aes(x = math, y = phat, colour = prog)) +\n",
    "  geom_point(aes(y = num_awards), alpha=.5, position=position_jitter(h=.2)) +\n",
    "  geom_line(size = 1) +\n",
    "  labs(x = \"Math Score\", y = \"Expected number of awards\")"
   ]
  },
  {
   "cell_type": "markdown",
   "metadata": {},
   "source": [
    "**Ejercicio 3:**\n",
    "\n",
    "a) Interprete los resultados de este análisis\n",
    "b) Rehaga sus cálculos considerando una variable explicativa a la vez. Interprete sus resultados.\n",
    "c) Investigue estrategias para comparar los modelos en (a) y (b). Concluya."
   ]
  }
 ],
 "metadata": {
  "kernelspec": {
   "display_name": "R",
   "language": "R",
   "name": "ir"
  },
  "language_info": {
   "codemirror_mode": "r",
   "file_extension": ".r",
   "mimetype": "text/x-r-source",
   "name": "R",
   "pygments_lexer": "r",
   "version": "3.6.1"
  }
 },
 "nbformat": 4,
 "nbformat_minor": 2
}
