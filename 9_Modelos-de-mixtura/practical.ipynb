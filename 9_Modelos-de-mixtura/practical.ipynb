{
 "cells": [
  {
   "cell_type": "code",
   "execution_count": null,
   "metadata": {},
   "outputs": [],
   "source": [
    "%matplotlib notebook\n",
    "import matplotlib.pyplot as plt\n",
    "import numpy as np\n",
    "\n",
    "from sklearn.datasets import make_moons, load_digits\n",
    "from sklearn.decomposition import PCA\n",
    "from sklearn.mixture import GaussianMixture, BayesianGaussianMixture"
   ]
  },
  {
   "cell_type": "markdown",
   "metadata": {},
   "source": [
    "# Actividad práctica GMM\n"
   ]
  },
  {
   "cell_type": "markdown",
   "metadata": {},
   "source": [
    "## Parte 1: Datos sintéticos (50%)\n",
    "\n",
    "- Entrene un modelo GMM sobre el siguiente conjunto de datos sintéticos bidimensionales `two-moons`\n",
    "- Encuentre el mejor número de clusters usando el criterio BIC para los casos de covarianza esférica, diagonal y completa, visualice el BIC versus número de clusters\n",
    "- Visualice las resposabilidades y los centroides para el mejor caso asociado a cada tipo de covarianza\n",
    "- Compare y discuta en base a sus resultados y observaciones"
   ]
  },
  {
   "cell_type": "code",
   "execution_count": null,
   "metadata": {},
   "outputs": [],
   "source": [
    "X, y = make_moons(1000, noise=0.11)\n",
    "\n",
    "fig, ax = plt.subplots(figsize=(5, 3), tight_layout=True)\n",
    "ax.scatter(X[:, 0], X[:, 1], c='k', s=5);"
   ]
  },
  {
   "cell_type": "markdown",
   "metadata": {},
   "source": [
    "## Parte 2: Datos reales\n",
    "\n",
    "- Entrene un modelo GMM variacional sobre el conjunto de datos reales digits, correspondiente a imágenes de dígitos manuscritos de 8x8\n",
    "- Realice una proyección de los datos usando PCA para reducir la dimensión (64x64)\n",
    "    - Utilice dos componentes\n",
    "    - Encuentre la cantidad de componentes que preservan un 95% de la varianza\n",
    "- Entrene un GMM variacional usando covarianza completa\n",
    "    - (2 dimensiones) Visualice las etiquetas del dataset y sus predicciones con GMM. ¿Cuántos clusters encuentra? ¿Se condicen con las clases reales? Compare y discuta\n",
    "    - (X dimensiones) Genere y visualice 20 dígitos a partir de su GMM entrenado y la transformada PCA inversa ¿Cuántos clusters encuentra? ¿Se condicen con las clases reales? Compare y discuta"
   ]
  },
  {
   "cell_type": "code",
   "execution_count": null,
   "metadata": {},
   "outputs": [],
   "source": [
    "data = load_digits()\n",
    "X = data['data']\n",
    "y = data['target']\n",
    "n_pix = 8\n",
    "\n",
    "fig, ax = plt.subplots(1, 10, tight_layout=True, figsize=(8, 1))\n",
    "for ax_, img in zip(ax, X):\n",
    "    ax_.matshow(img.reshape(n_pix, n_pix), cmap=plt.cm.Greys)\n",
    "    ax_.axis('off')"
   ]
  }
 ],
 "metadata": {
  "kernelspec": {
   "display_name": "Python 3",
   "language": "python",
   "name": "python3"
  },
  "language_info": {
   "codemirror_mode": {
    "name": "ipython",
    "version": 3
   },
   "file_extension": ".py",
   "mimetype": "text/x-python",
   "name": "python",
   "nbconvert_exporter": "python",
   "pygments_lexer": "ipython3",
   "version": "3.8.5"
  },
  "toc": {
   "base_numbering": 1,
   "nav_menu": {},
   "number_sections": true,
   "sideBar": true,
   "skip_h1_title": false,
   "title_cell": "Table of Contents",
   "title_sidebar": "Contents",
   "toc_cell": false,
   "toc_position": {},
   "toc_section_display": true,
   "toc_window_display": false
  }
 },
 "nbformat": 4,
 "nbformat_minor": 2
}
