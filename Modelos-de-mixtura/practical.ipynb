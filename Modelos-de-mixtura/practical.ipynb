{
 "cells": [
  {
   "cell_type": "markdown",
   "metadata": {},
   "source": [
    "***\n",
    "\n",
    "# Practical activity: Gaussian mixture models\n",
    "\n",
    "***\n",
    "\n",
    "- In this activity you will explore and analyze a dataset of flowers from the Iris genus\n",
    "- We will use data from the [UCI](https://archive.ics.uci.edu/ml/) repository \n",
    "- We will use the following libraries: \n",
    "    - Python [pandas](https://pandas.pydata.org) to handle data tables\n",
    "    - matplotlib for visualization\n",
    "    - Scikit-learn for the modeling\n",
    "\n",
    "### Instructions\n",
    "1. Follow the steps in this notebook, complete the activities and answer the questions marked with a **Q**\n",
    "1. Pre-process the data and inspect it\n",
    "1. Train a K-means and GMM model to separate the three classes of flowers in the IRIS dataset"
   ]
  },
  {
   "cell_type": "code",
   "execution_count": null,
   "metadata": {},
   "outputs": [],
   "source": [
    "%matplotlib notebook\n",
    "import matplotlib.pyplot as plt\n",
    "import numpy as np\n",
    "import pandas as pd\n",
    "\n",
    "from sklearn.decomposition import PCA\n",
    "from sklearn.cluster import KMeans\n",
    "from sklearn.mixture import GaussianMixture, BayesianGaussianMixture"
   ]
  },
  {
   "cell_type": "markdown",
   "metadata": {},
   "source": [
    "***\n",
    "### Getting the data\n",
    "- Use the following block to obtain the data\n",
    "- If you don't have `wget` follow the link, download the data manually and put it on the data folder"
   ]
  },
  {
   "cell_type": "code",
   "execution_count": null,
   "metadata": {},
   "outputs": [],
   "source": [
    "!wget -nc http://archive.ics.uci.edu/ml/machine-learning-databases/iris/iris.data \n",
    "df = pd.read_table(\"iris.data\", delimiter=\",\",  na_values=\"?\",\n",
    "                   names= [\"sepal length\", \"sepal width\", \"petal length\", \"petal width\", \"class\"])\n",
    "!rm iris.data\n",
    "df.head()"
   ]
  },
  {
   "cell_type": "markdown",
   "metadata": {},
   "source": [
    "*** \n",
    "### Data exploration\n",
    "\n",
    "- **Q:** How many features and samples are in the table?\n",
    "- **Q:** How many classes?\n",
    "- **Q:** Are the classes balanced?"
   ]
  },
  {
   "cell_type": "code",
   "execution_count": null,
   "metadata": {},
   "outputs": [],
   "source": []
  },
  {
   "cell_type": "markdown",
   "metadata": {},
   "source": [
    "Inspect the features\n",
    "- **Q:** Do they distribute like a known pdf? \n",
    "- **Q:** How many nodes do they have?"
   ]
  },
  {
   "cell_type": "code",
   "execution_count": null,
   "metadata": {},
   "outputs": [],
   "source": [
    "fig, ax = plt.subplots(figsize=(5, 3))\n",
    "ax.hist(data[\"sepal length\"].values, bins=10);"
   ]
  },
  {
   "cell_type": "markdown",
   "metadata": {},
   "source": [
    "## Cluster analysis\n",
    "\n",
    "Cluster the data using GMM with spherical covariance for $K=1, 2, 3, 4$ and visualize the clusters in the reduced data space (PCA). Plot the Bayesian Information Criterion (BIC) as a function of $K$. \n",
    "\n",
    "- **Q:** What would be an appropriate value of $K$ in this case?\n",
    "- **Q:** Do the cluster coincide with the actual labels (purity of clusters)?\n",
    "- **Q:** Repeat for  GMM with (a) diagonal covariance and (b) full covariance and compare the results\n",
    "- **Q:** Repeat for the Variational GMM with full covariance. Use an equal concentration prior. How many clusters are selected by the algorithm?"
   ]
  },
  {
   "cell_type": "code",
   "execution_count": null,
   "metadata": {},
   "outputs": [],
   "source": [
    "# Reduced dimensionality space, use this to visualize your results\n",
    "data_reduced = PCA(n_components=2).fit_transform(data)\n",
    "fig, ax = plt.subplots(figsize=(5, 3))\n",
    "ax.scatter(data_reduced[:, 0], data_reduced[:, 1], c=label, cmap=plt.cm.Accent);"
   ]
  },
  {
   "cell_type": "code",
   "execution_count": null,
   "metadata": {},
   "outputs": [],
   "source": [
    "# GMM spherical covariance\n",
    "GaussianMixture?"
   ]
  },
  {
   "cell_type": "code",
   "execution_count": null,
   "metadata": {},
   "outputs": [],
   "source": [
    "# GMM diagonal covariance"
   ]
  },
  {
   "cell_type": "code",
   "execution_count": null,
   "metadata": {},
   "outputs": [],
   "source": [
    "# GMM full covariance"
   ]
  },
  {
   "cell_type": "code",
   "execution_count": null,
   "metadata": {},
   "outputs": [],
   "source": [
    "# Variational GMM\n",
    "BayesianGaussianMixture?"
   ]
  }
 ],
 "metadata": {
  "kernelspec": {
   "display_name": "Python 3",
   "language": "python",
   "name": "python3"
  },
  "language_info": {
   "codemirror_mode": {
    "name": "ipython",
    "version": 3
   },
   "file_extension": ".py",
   "mimetype": "text/x-python",
   "name": "python",
   "nbconvert_exporter": "python",
   "pygments_lexer": "ipython3",
   "version": "3.7.3"
  }
 },
 "nbformat": 4,
 "nbformat_minor": 2
}
