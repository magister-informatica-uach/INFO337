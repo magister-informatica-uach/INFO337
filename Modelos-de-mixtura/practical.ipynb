{
 "cells": [
  {
   "cell_type": "markdown",
   "metadata": {},
   "source": [
    "***\n",
    "\n",
    "# Practical activity: Gaussian mixture models\n",
    "\n",
    "***\n",
    "\n",
    "- In this activity you will explore and analyze a dataset of flowers from the Iris genus\n",
    "- We will use data from the [UCI](https://archive.ics.uci.edu/ml/) repository \n",
    "- We will use the following libraries: \n",
    "    - Python [pandas](https://pandas.pydata.org) to handle data tables\n",
    "    - matplotlib for visualization\n",
    "    - Scikit-learn for the modeling\n",
    "\n",
    "### Instructions\n",
    "1. Follow the steps in this notebook, complete the activities and answer the questions marked with a **Q**\n",
    "1. Pre-process the data and inspect it\n",
    "1. Train a K-means and GMM model to separate the three classes of flowers in the IRIS dataset"
   ]
  },
  {
   "cell_type": "code",
   "execution_count": null,
   "metadata": {},
   "outputs": [],
   "source": [
    "import numpy as np\n",
    "import pandas as pd\n",
    "from sklearn.decomposition import PCA\n",
    "from sklearn.mixture import GaussianMixture, BayesianGaussianMixture\n",
    "from sklearn.cluster import KMeans\n",
    "%matplotlib notebook\n",
    "import matplotlib.pylab as plt"
   ]
  },
  {
   "cell_type": "markdown",
   "metadata": {},
   "source": [
    "***\n",
    "### Getting the data\n",
    "- Use the following block to obtain the data\n",
    "- If you don't have `wget` follow the link, download the data manually and put it on the data folder"
   ]
  },
  {
   "cell_type": "code",
   "execution_count": null,
   "metadata": {},
   "outputs": [],
   "source": [
    "!wget -nc http://archive.ics.uci.edu/ml/machine-learning-databases/iris/iris.data -P data"
   ]
  },
  {
   "cell_type": "markdown",
   "metadata": {},
   "source": [
    "*** \n",
    "### Explore the data\n",
    "\n",
    "- Import the table as a pandas dataframe and explore it\n",
    "- **Q:** How many features and samples are in the table?\n",
    "- **Q:** How many classes?"
   ]
  },
  {
   "cell_type": "code",
   "execution_count": null,
   "metadata": {
    "scrolled": true
   },
   "outputs": [],
   "source": [
    "# Use help(pd.read_table) to understand de parameters of read_table\n",
    "df = pd.read_table(\"data/iris.data\", delimiter=\",\",  na_values=\"?\",\n",
    "                   names= [\"sepal length\", \"sepal width\", \"petal length\", \"petal width\", \"class\"])\n",
    "\n",
    "df"
   ]
  },
  {
   "cell_type": "markdown",
   "metadata": {},
   "source": [
    "**Q:** Are the classes balanced?"
   ]
  },
  {
   "cell_type": "code",
   "execution_count": null,
   "metadata": {},
   "outputs": [],
   "source": [
    "# Make class numeric\n",
    "labels = [\"Iris-setosa\", \"Iris-versicolor\", \"Iris-virginica\"]\n",
    "def compare(x):\n",
    "    for k in range(3):\n",
    "        if x == labels[k]:\n",
    "            return k\n",
    "\n",
    "df[\"class\"] = df[\"class\"].apply(compare)\n",
    "label = df.iloc[:, -1]\n",
    "# get data\n",
    "data =df.iloc[:, 0:4]\n",
    "# plot histogram\n",
    "fig, ax = plt.subplots(figsize=(5, 3))\n",
    "ax.hist(label);"
   ]
  },
  {
   "cell_type": "markdown",
   "metadata": {},
   "source": [
    " - Inspect the features, Do they distribute like a known pdf? Do the have more than one mode?"
   ]
  },
  {
   "cell_type": "code",
   "execution_count": null,
   "metadata": {},
   "outputs": [],
   "source": [
    "fig, ax = plt.subplots(figsize=(5, 3))\n",
    "ax.hist(data[\"sepal length\"].values);"
   ]
  },
  {
   "cell_type": "markdown",
   "metadata": {},
   "source": [
    "- Use Principal Component Analysis (PCA) to reduce the dimensionality to 2\n",
    "- Plot the data using color for the class\n",
    "- **Q:** Is the data separable in two dimensions?\n",
    "- **Q:** What type of covariance would you use to model the clusters? Why?"
   ]
  },
  {
   "cell_type": "code",
   "execution_count": null,
   "metadata": {},
   "outputs": [],
   "source": [
    "data_reduced = PCA(n_components=2).fit_transform(data)\n",
    "fig, ax = plt.subplots(figsize=(5, 3))\n",
    "ax.scatter(data_reduced[:, 0], data_reduced[:, 1], c=label, cmap=plt.cm.Accent);"
   ]
  },
  {
   "cell_type": "markdown",
   "metadata": {},
   "source": [
    "### Cluster analysis\n",
    "\n",
    "- **Q:** Cluster the data using k-means using $K=1, 2, 3, 4$ and visualize the clusters in the reduced data space (PCA). Plot the sum of square errors as a function of $K$. What would be an appropriate value of $K$ in this case?\n",
    "- **Q:** Do the cluster coincide with the actual labels?\n",
    "- **Q:** Repeat with the GMM with (a) diagonal covariance and (b) full covariance. Compare with the k-means results\n",
    "- **Q:** (BONUS) Repeat with the Variational GMM with (a) diagonal covariance and (b) full covariance. Try an equal concentration prior. How many clusters are selected by the algorithm?"
   ]
  },
  {
   "cell_type": "code",
   "execution_count": null,
   "metadata": {},
   "outputs": [],
   "source": [
    "# Kmeans\n",
    "help(KMeans)"
   ]
  },
  {
   "cell_type": "code",
   "execution_count": null,
   "metadata": {},
   "outputs": [],
   "source": [
    "# GMM\n",
    "help(GaussianMixture)"
   ]
  },
  {
   "cell_type": "code",
   "execution_count": null,
   "metadata": {},
   "outputs": [],
   "source": [
    "# Variational GMM\n",
    "help(BayesianGaussianMixture)"
   ]
  },
  {
   "cell_type": "code",
   "execution_count": null,
   "metadata": {},
   "outputs": [],
   "source": []
  }
 ],
 "metadata": {
  "kernelspec": {
   "display_name": "Python 3",
   "language": "python",
   "name": "python3"
  },
  "language_info": {
   "codemirror_mode": {
    "name": "ipython",
    "version": 3
   },
   "file_extension": ".py",
   "mimetype": "text/x-python",
   "name": "python",
   "nbconvert_exporter": "python",
   "pygments_lexer": "ipython3",
   "version": "3.7.1"
  }
 },
 "nbformat": 4,
 "nbformat_minor": 2
}
