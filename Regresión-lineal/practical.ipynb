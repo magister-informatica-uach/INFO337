{
 "cells": [
  {
   "cell_type": "markdown",
   "metadata": {},
   "source": [
    "***\n",
    "\n",
    "# Practical activity: Regression\n",
    "\n",
    "***\n",
    "\n",
    "- In this activity you will explore and analyze a dataset of car gasoline consumption in miles per gallon (MPG) for different brands and types of cars\n",
    "- We will use data from the [UCI](https://archive.ics.uci.edu/ml/) repository \n",
    "- We will use the following libraries: \n",
    "    - Python [pandas](https://pandas.pydata.org) to handle data tables\n",
    "    - matplotlib for visualization\n",
    "    - [PyMC3](https://docs.pymc.io/) and scikit-learn for the modeling\n",
    "\n",
    "### Instructions\n",
    "1. Follow the steps in this notebook, complete the activities and answer the questions marked with a **Q**\n",
    "1. Pre-process the data and inspect it\n",
    "1. Train a linear model to predict MPG as a function of other relevant features"
   ]
  },
  {
   "cell_type": "code",
   "execution_count": null,
   "metadata": {},
   "outputs": [],
   "source": [
    "import numpy as np\n",
    "import pandas as pd\n",
    "import pymc3 as pm\n",
    "from sklearn.linear_model import Ridge\n",
    "from sklearn.preprocessing import PolynomialFeatures\n",
    "from sklearn.pipeline import make_pipeline\n",
    "%matplotlib notebook\n",
    "import matplotlib.pylab as plt"
   ]
  },
  {
   "cell_type": "markdown",
   "metadata": {},
   "source": [
    "***\n",
    "### Getting the data\n",
    "- Use the following block to obtain the data\n",
    "- If you don't have `wget` follow the link, download the data manually and put it on the data folder"
   ]
  },
  {
   "cell_type": "code",
   "execution_count": null,
   "metadata": {},
   "outputs": [],
   "source": [
    "!wget -nc https://archive.ics.uci.edu/ml/machine-learning-databases/auto-mpg/auto-mpg.data -P data"
   ]
  },
  {
   "cell_type": "markdown",
   "metadata": {},
   "source": [
    "*** \n",
    "### Pre-process the data\n",
    "\n",
    "- Import the table as a pandas dataframe and explore it\n",
    "- **Q:** How many features and samples are in the table?\n",
    "- **Q:** Which variables are continuous and which are categorical?\n",
    "\n",
    "In this case\n",
    "- MPG (Miles per gallon) is the variable we want to model (dependent variable) \n",
    "- car_name is the index column\n",
    "- In the original table (auto-mpg.data) there are missing values expressed as \"?\" that are converted to NaN by pandas\n",
    "    - **Q:** What features have missing values?\n",
    "    - **Q:** Give two cars with missing values"
   ]
  },
  {
   "cell_type": "code",
   "execution_count": null,
   "metadata": {},
   "outputs": [],
   "source": [
    "# Use help(pd.read_table) to understand de parameters of read_table\n",
    "\n",
    "df = pd.read_table(\"data/auto-mpg.data\", delim_whitespace=True, index_col=\"car_name\",  na_values=\"?\",\n",
    "                   names= [\"MPG\", \"cylinders\", \"displacement\", \"horsepower\", \n",
    "                           \"weight\", \"acceleration\", \"model year\", \"origin\", \"car_name\"])\n",
    "df\n",
    "\n",
    "# You can grab a particular column as: df[\"MPG\"]\n",
    "# You can obtain a numpy array from it as: df[\"MPG\"].values"
   ]
  },
  {
   "cell_type": "markdown",
   "metadata": {},
   "source": [
    "***\n",
    "\n",
    "### Data inspection\n",
    "\n",
    "- Inspect the histogram of MPG\n",
    "- **Q:** Is MPG normal/Gaussian distributed?\n",
    "- **Q:** Compute and report the mean, standard deviation and skewness (statistical moments) of MPG \n",
    "    - You can use `np.mean()` and `np.std()`\n",
    "    - You can use `scipy.stats.skew()` for the skewness "
   ]
  },
  {
   "cell_type": "code",
   "execution_count": null,
   "metadata": {},
   "outputs": [],
   "source": [
    "plt.close('all'); fig, ax  = plt.subplots(figsize=(7, 4))\n",
    "ax.hist(df['MPG']); ax.set_xlabel(\"MPG\");"
   ]
  },
  {
   "cell_type": "markdown",
   "metadata": {},
   "source": [
    "- Plot MPG as a function of weight, acceleration and horsepower\n",
    "- **Q:** Describe qualitatively the type of relation between MPG and the other variables (proportional, inversely proportional, linear, polynomial, exponential, etc)\n",
    "- **Q:** Compute the correlation coefficient $r^2$ for each case \n",
    "    - You can use `np.corrcoef(x, y)[0, 1]`\n",
    "- **Q:** Which feature has the highest correlation with MPG? Which one has the lowest correlation?"
   ]
  },
  {
   "cell_type": "code",
   "execution_count": null,
   "metadata": {},
   "outputs": [],
   "source": [
    "print(\"R^2: %0.6f\" %(np.corrcoef(df[\"weight\"].values, df[\"MPG\"].values)[0, 1]))\n",
    "# The following might be useful\n",
    "# mask = ~np.isnan(df[\"horsepower\"].values)\n",
    "\n",
    "plt.close('all'); df.plot.scatter(\"weight\", \"MPG\", figsize=(7, 4)); \n",
    "# Note that this is equivalent to\n",
    "# plt.close('all'); fig, ax  = plt.subplots(figsize=(7, 4))\n",
    "# ax.scatter(df[\"weight\"].values, df[\"MPG\"].values); "
   ]
  },
  {
   "cell_type": "markdown",
   "metadata": {},
   "source": [
    "### Single independant variable regression\n",
    "\n",
    "- **Q:** Find the parameters of a simple linear model to predict MPG given weight using MLE assuming a Gaussian likelihood\n",
    "- **Q:** Propose a polynomial basis of a given degree and find a better regressor for MPG given weight\n",
    "- In both cases: Plot and study the residuals (errors) between data and your model"
   ]
  },
  {
   "cell_type": "code",
   "execution_count": null,
   "metadata": {},
   "outputs": [],
   "source": [
    "x, y = df[\"weight\"].values, df[\"MPG\"].values\n",
    "# OLS solution\n",
    "regressor = make_pipeline(PolynomialFeatures(1), Ridge(normalize=True, alpha=0.))\n",
    "regressor.fit(x.reshape(-1, 1), y)\n",
    "# The previous line is equivalent to \n",
    "# X = np.stack((np.ones_like(x), x)).T # Dimension Nx2\n",
    "# param, MSE, rank, singval = np.linalg.lstsq(X, y, rcond=None)\n",
    "# param = np.dot(np.linalg.inv(np.dot(X.T, X)), np.dot(X.T, y).T)\n",
    "print(\"theta0: \"+repr(regressor.steps[1][1].intercept_))\n",
    "print(\"thetaj: \"+repr(regressor.steps[1][1].coef_[1:]))\n",
    "print(\"MSE: \"+repr(np.sum((y - regressor.predict(x.reshape(-1, 1)))**2)))\n",
    "plt.close('all'); fig, ax = plt.subplots(figsize=(7, 4))\n",
    "ax.plot(df[\"weight\"].values, df[\"MPG\"].values, '.', label='Data')\n",
    "ax.set_xlabel('weight'); ax.set_ylabel('MPG'); x_eval = np.linspace(1500, 5100, 100)\n",
    "ax.plot(x_eval, regressor.predict(x_eval.reshape(-1, 1)), linewidth=4, alpha=0.5, label=\"Model\")\n",
    "plt.legend(loc=0);"
   ]
  },
  {
   "cell_type": "markdown",
   "metadata": {},
   "source": [
    "- **Q:** Find the parameters of a linear model to predict MPG from weight using the Bayesian approach assuming a Gaussian likelihood and Gaussian prior\n",
    "- **Q:** Extend using the best polynomial found in the previous step\n",
    "\n",
    "$$\n",
    "p(y|X, \\theta) =  \\mathcal{N}(X\\theta, I\\sigma^2)\n",
    "$$\n",
    "$$\n",
    "p(\\theta) =  \\mathcal{N}(0, I\\sigma_0^2)\n",
    "$$\n",
    "\n",
    "References:\n",
    "- https://docs.pymc.io/notebooks/GLM-linear.html\n",
    "- https://www.chrisstucchio.com/blog/2017/bayesian_linear_regression.html"
   ]
  },
  {
   "cell_type": "code",
   "execution_count": null,
   "metadata": {},
   "outputs": [],
   "source": [
    "x, y = df[\"weight\"].values, df[\"MPG\"].values\n",
    "with pm.Model() as my_linear_model:\n",
    "    # Priors\n",
    "    theta0 = pm.Normal('theta0', 0, sd=20)\n",
    "    theta1 = pm.Normal('theta1', 0, sd=20)\n",
    "    sigma = pm.HalfCauchy('sigma_noise', beta=10, testval=1.)\n",
    "    # Likelihood\n",
    "    likelihood = pm.Normal('y', mu=theta0 + theta1 * x, sd=sigma, observed=y)\n",
    "    # Trace\n",
    "    trace = pm.sample(draws=5000, tune=1000, init='advi', n_init=30000, \n",
    "                      cores=4, chains=2, live_plot=False)"
   ]
  },
  {
   "cell_type": "code",
   "execution_count": null,
   "metadata": {},
   "outputs": [],
   "source": [
    "pm.summary(trace)"
   ]
  },
  {
   "cell_type": "code",
   "execution_count": null,
   "metadata": {},
   "outputs": [],
   "source": [
    "plt.close('all'); pm.traceplot(trace, figsize=(8, 6));"
   ]
  },
  {
   "cell_type": "code",
   "execution_count": null,
   "metadata": {},
   "outputs": [],
   "source": [
    "plt.close('all'); fig, ax = plt.subplots(figsize=(7, 4))\n",
    "ax.plot(df[\"weight\"].values, df[\"MPG\"].values, '.', label='Data')\n",
    "ax.set_xlabel('weight'); ax.set_ylabel('MPG');\n",
    "pm.plot_posterior_predictive_glm(trace, samples=100, label='Posterior predictive lines', c='r', alpha=0.2,\n",
    "                                 lm= lambda x, sample: sample['theta0'] + sample['theta1'] *x,\n",
    "                                 eval=np.linspace(1500, 5100, 100))\n",
    "plt.legend(loc=0);"
   ]
  },
  {
   "cell_type": "markdown",
   "metadata": {},
   "source": [
    "### Multiple independent variables\n",
    "\n",
    "- **Q:** Find the parameters of a linear model to predict MPG from weight and acceleration assuming a Gaussian likelihood. Use the Frequentist and Bayesian approaches"
   ]
  },
  {
   "cell_type": "markdown",
   "metadata": {},
   "source": [
    "Follow-up: http://twiecki.github.io/blog/2013/08/12/bayesian-glms-1/"
   ]
  }
 ],
 "metadata": {
  "kernelspec": {
   "display_name": "Python 3",
   "language": "python",
   "name": "python3"
  },
  "language_info": {
   "codemirror_mode": {
    "name": "ipython",
    "version": 3
   },
   "file_extension": ".py",
   "mimetype": "text/x-python",
   "name": "python",
   "nbconvert_exporter": "python",
   "pygments_lexer": "ipython3",
   "version": "3.7.4"
  }
 },
 "nbformat": 4,
 "nbformat_minor": 2
}
