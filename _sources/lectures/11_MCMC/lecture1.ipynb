{
 "cells": [
  {
   "cell_type": "markdown",
   "metadata": {
    "slideshow": {
     "slide_type": "slide"
    }
   },
   "source": [
    "# Introducción a Markov Chain Monte Carlo"
   ]
  },
  {
   "cell_type": "markdown",
   "metadata": {
    "slideshow": {
     "slide_type": "slide"
    }
   },
   "source": [
    "## Resumen de la premisa Bayesiana\n",
    "\n",
    "En inferencia Bayesiana, la probabilidad de un evento representa el grado de conocimiento (o desconocimiento) que manejamos de dicho evento.\n",
    "\n",
    "Matemáticamente, representamos el evento de interés con una variable aleatoria $\\theta$, y nuestro conocimiento actual del mismo, es decir su **distribución a priori** con $p(\\theta)$.\n",
    "\n",
    "Luego, recolectamos datos $\\mathcal{D}$ y actualizamos lo que sabemos de $\\theta$ formando una **distribución a posteriori** $p(\\theta|\\mathcal{D})$.\n",
    "\n",
    "Lo anterior se obtiene aplicando el Teorema de Bayes:\n",
    "\n",
    "$$\n",
    "p(\\theta|\\mathcal{D}) = \\frac{p(\\mathcal{D}|\\theta)p(\\theta)}{p(\\mathcal{D})} = \\frac{p(\\mathcal{D}|\\theta)p(\\theta)}{\\int p(\\mathcal{D}, \\theta) \\, d\\theta} = \\frac{p(\\mathcal{D}|\\theta)p(\\theta)}{\\int p(\\mathcal{D}|A\\theta)p(\\theta) \\,d\\theta},\n",
    "$$\n",
    "\n",
    "donde también hicimos uso de la ley de probabilidad total para escribir la verosimilitud marginal $p(\\mathcal{D})$ en función de la verosimilitud y el prior.\n",
    "\n",
    "Anteriormente, hemos visto modelos donde la expresión anterior tiene solución analítica (prior conjugados). Sin embargo, estos modelos suelen ser bastante simples.\n",
    "\n",
    "Para obtener el posterior en modelos más complejos debemos utilizar técnicas de inferencia aproximada o técnicas basdas en **Monte-Carlo Markov Chain (MCMC)**. Esta última es la que se revisa en esta lección."
   ]
  },
  {
   "cell_type": "markdown",
   "metadata": {
    "slideshow": {
     "slide_type": "slide"
    }
   },
   "source": [
    "## Integración por método de Monte Carlo \n",
    "\n",
    "Los métodos de Monte Carlo obtienen resultados numéricas en base a muestreo aleatorio. Una de sus más importantes aplicaciones es la integración por Monte Carlo.\n",
    "\n",
    "Digamos que tenemos un valor esperado sobre una función $g$ que se evalua en una variable aleatoria $X$ cuya distribución es $p(x)$, por definición esto es:\n",
    "\n",
    "$$\n",
    "\\mathbb{E}[g(X)] = \\int g(x) p(x) \\,dx\n",
    "$$\n",
    "\n",
    "Si esta integral es difícil de calcular y tenemos muestras de $p(x)$ entonces podemos aproximar el valor esperado como:\n",
    "\n",
    "$$\n",
    "\\mathbb{E}[g(X)] \\approx \\hat g_N = \\frac{1}{N} \\sum_{i=1}^N g(x_i) \\quad x_i \\sim p(x)\n",
    "$$\n",
    "\n",
    "que debido al teorema central del límite:\n",
    "\n",
    "$$\n",
    "\\hat g_N \\sim \\mathcal{N} \\left( \\mathbb{E}[g(X)], \\sigma_N^2/N \\right)\n",
    "$$\n",
    "\n",
    "es decir que, mientras más muestras tengamos, más se concentrará nuestro estimador en torno al valor real que estamos buscando."
   ]
  },
  {
   "cell_type": "markdown",
   "metadata": {},
   "source": [
    "## De Monte Carlo a Markov Chain Monte Carlo\n",
    "\n",
    "El problema con la integración por Monte Carlo es que no siempre es posible obtener muestras de $p(x)$. En otros casos obtener muestras es posible pero muy ineficiente de realizar en la práctica.\n",
    "\n",
    "Para obtener muestras de distribuciones que sólo podemos evaluar hasta una constante de normalización (por ejemplo un posterior), podemos utilizar Markov Chain Monte Carlo (MCMC).\n",
    "\n",
    "MCMC es una familia de algoritmos que aprenden la probabilidad de transición de una *cadena de markov* tal que esta converja a una distribución deseada. Una cadena de markov es un proceso aleatorio $\\{X_n\\}_{n=0,1,\\ldots}$, es decir una secuencia de variables aleatorias que cumplen la siguiente propiedad:\n",
    "\n",
    "$$\n",
    "p(X_n|X_{n-1},\\ldots, X_0) = p(X_n|X_{n-1})\n",
    "$$\n",
    "\n",
    ":::{important}\n",
    "\n",
    "En una cadena de markov la probabilidad del estado futuro es condicionalmente independiente del pasado si conozco el presente.\n",
    "\n",
    ":::"
   ]
  },
  {
   "cell_type": "markdown",
   "metadata": {},
   "source": [
    "Las cadenas de markov que son irreducibles convergen a una distribución estacionaria. Los métodos de MCMC se basan en esta idea para construir una cadena de markov que converga a la distribución que nos interesa, por ejemplo un posterior bayesiano.\n",
    "\n",
    "En el siguiente diagrama se muestra un color rojo una distribución compleja de la cual nos interesa obtener muestras. La figura de la izquierda muestra la técnica de muestreo por importancia. La figura de la derecha en cambio muestra como funciona MCMC.\n",
    "\n",
    "<img src=\"img/is_mcmc.png\" width=\"500\">\n",
    "\n",
    "MCMC recorre el espacio de una forma menos ingenua. \n",
    "\n",
    "> La secuencia de muestras de la cadena de Markov la llamamos traza.\n",
    "\n",
    "La clave en los métodos de MCMC está en como se realizan las transiciones, es decir como escogemos el siguiente punto de la cadena. Existen muchos métodos para generar \"propuestas\", siendo los siguientes tal vez los más populares.\n"
   ]
  },
  {
   "cell_type": "markdown",
   "metadata": {
    "slideshow": {
     "slide_type": "subslide"
    }
   },
   "source": [
    "**Metropolis Hastings (MH)**\n",
    "\n",
    "Caminante aleatorio que se mueve en todas las dimensiones de forma simultanea. En MH los candidatos se muestrean a partir de una distribución simétrica $x^{new} \\sim g(x^{new}|x_t)$.\n",
    "\n",
    "Luego el paso se acepta si $p(x^{new})/p(x^t)$ es mayor o igual a un umbral.\n",
    "\n",
    "Dado que lo anterior es cociente, sólo necesitamos conocer $f(\\cdot)$ hasta una constante. Por ejemplo si dividimos dos posteriors: \n",
    "\n",
    "$$\n",
    "\\frac{p(\\theta^{new}|\\mathcal{D})}{p(\\theta^t|\\mathcal{D})} = \\frac{p(\\mathcal{D}|\\theta^{new})p(\\theta^{new})}{p(\\mathcal{D}|\\theta^t)p(\\theta^t)}\n",
    "$$\n",
    "\n",
    "\n",
    "> La evidencia (denominador del posterior) se cancela.\n",
    "\n",
    "\n",
    "**Monte-Carlo Hamiltoniano (HMC)**\n",
    "\n",
    "Familia de métodos que realizan propuestas basado en gradiantes, por ende sólo pueden utilizarse para distribuciones de parámetros continuos.\n",
    "\n",
    "En comparación a MH, cada paso de HMC cuesta más en términos computacionales pero avanza mucho más rápido, es decir requiere menos pasos que MH.\n",
    "\n",
    ":::{seealso}\n",
    "\n",
    "Revise el siguiente sitio web donde se ejemplifica como HMC utiliza la geometría del espacio para realizar mejores propuestas que MH: http://arogozhnikov.github.io/2016/12/19/markov_chain_monte_carlo.html\n",
    "\n",
    ":::"
   ]
  },
  {
   "cell_type": "markdown",
   "metadata": {
    "slideshow": {
     "slide_type": "slide"
    }
   },
   "source": [
    "## Programación probabilística (PP)\n",
    "\n",
    "Extracto de https://probabilistic-programming.org/: \n",
    "\n",
    "> Probabilistic programming languages aim to unify general purpose programming with probabilistic modeling. The user specifies the probabilistic model (priors, likelihood, etc) and inference follows automatically given the specification\n",
    "\n",
    "\n",
    "Librerías y *frameworks* de lenguaje Python para hacer PP y que incorporan métodos de MCMC:\n",
    "\n",
    "- [PyMC3](https://docs.pymc.io/notebooks/getting_started.html)\n",
    "- [PyStan](https://pystan.readthedocs.io/en/latest/)\n",
    "- [emcee](http://dfm.io/emcee/current/)\n",
    "- [Edward](http://edwardlib.org/)\n",
    "- [Pyro](http://pyro.ai)\n",
    "- [NumPyro](http://num.pyro.ai/en/stable/)\n",
    "\n",
    "El siguiente diagrama contrasta la programación tradicional con PP:\n",
    "\n",
    "<a href=\"https://arxiv.org/abs/1809.10756\"><img src=\"img/PP.png\"></a>\n",
    "\n",
    "> PP avanza en ambas direcciones."
   ]
  },
  {
   "cell_type": "markdown",
   "metadata": {},
   "source": [
    ":::{seealso}\n",
    "\n",
    "- Davidson-Pilon, \"[Bayesian methods for hackers](https://github.com/CamDavidsonPilon/Probabilistic-Programming-and-Bayesian-Methods-for-Hackers)\", *Addison Wesley*, 2016, **Capítulos 2 y 3**\n",
    "- Jan-Willem van de Meent et al. \"[An Introduction to Probabilistic Programming](https://arxiv.org/abs/1809.10756)\"\n",
    "\n",
    ":::"
   ]
  },
  {
   "cell_type": "code",
   "execution_count": null,
   "metadata": {},
   "outputs": [],
   "source": []
  }
 ],
 "metadata": {
  "kernelspec": {
   "display_name": "Python 3 (ipykernel)",
   "language": "python",
   "name": "python3"
  },
  "language_info": {
   "codemirror_mode": {
    "name": "ipython",
    "version": 3
   },
   "file_extension": ".py",
   "mimetype": "text/x-python",
   "name": "python",
   "nbconvert_exporter": "python",
   "pygments_lexer": "ipython3",
   "version": "3.10.4"
  }
 },
 "nbformat": 4,
 "nbformat_minor": 2
}
