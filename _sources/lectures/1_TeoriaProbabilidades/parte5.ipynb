{
 "cells": [
  {
   "cell_type": "markdown",
   "metadata": {},
   "source": [
    "# Teoremas Asintóticos\n",
    "\n",
    "### Ley débil de los grandes números\n",
    "Sea $\\{X_i\\}_{i=1}^N$ un conjunto de $N$ v.a. independientes idénticamente distribuidas (iid) de media $\\mu$ y varianza finita $\\sigma^2$. Entonces, para cualquier $\\epsilon >0$ se tiene:\n",
    "$$\\lim_{N \\to \\infty} P\\left\\{\\middle | \\frac{\\sum_i X_i}{N} - \\mu \\,\\middle | > \\epsilon \\right\\} = 0$$"
   ]
  },
  {
   "cell_type": "markdown",
   "metadata": {},
   "source": [
    "### Teorema del Límite Central\n",
    "Sean $X_1,...X_N$ v.a. iid de media $\\mu$ y varianza $\\sigma^2$ entonces\n",
    "$S_N=X_1+...X_N$ cumple:\n",
    "\n",
    "$$ \\lim_{N \\to \\infty}P\\left( \\frac{S_N - N\\mu}{\\sigma\\sqrt N} \\leq z\\right) = F_Z(z) \n",
    "\\qquad Z \\sim \\cal{N}(0,1)$$\n",
    "\n",
    "\n",
    "En particular $m= \\frac{S_N}{N}= \\frac{\\sum_{i=1}^N \\limits X_i}{N}$ cumple:\n",
    "\n",
    "$$ \\lim_{N \\to \\infty}P\\left( \\frac{m - \\mu}{\\sigma/\\sqrt N} \\leq z\\right) = F_Z(z)  $$\n",
    "\n",
    "Es decir que es posible aproximar la distribución de $m$ por ${\\cal{N}}(\\mu,\\frac{\\sigma^2}{N})$\n"
   ]
  },
  {
   "cell_type": "code",
   "execution_count": null,
   "metadata": {},
   "outputs": [],
   "source": []
  }
 ],
 "metadata": {
  "celltoolbar": "Slideshow",
  "kernelspec": {
   "display_name": "R",
   "language": "R",
   "name": "ir"
  },
  "language_info": {
   "codemirror_mode": "r",
   "file_extension": ".r",
   "mimetype": "text/x-r-source",
   "name": "R",
   "pygments_lexer": "r",
   "version": "4.0.5"
  }
 },
 "nbformat": 4,
 "nbformat_minor": 2
}
