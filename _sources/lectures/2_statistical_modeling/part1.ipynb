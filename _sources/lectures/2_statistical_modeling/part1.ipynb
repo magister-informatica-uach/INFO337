{
 "cells": [
  {
   "cell_type": "code",
   "execution_count": null,
   "metadata": {},
   "outputs": [],
   "source": [
    "import holoviews as hv\n",
    "hv.extension('bokeh')"
   ]
  },
  {
   "cell_type": "code",
   "execution_count": null,
   "metadata": {
    "slideshow": {
     "slide_type": "skip"
    }
   },
   "outputs": [],
   "source": [
    "import numpy as np\n",
    "import scipy.signal"
   ]
  },
  {
   "cell_type": "markdown",
   "metadata": {
    "slideshow": {
     "slide_type": "slide"
    }
   },
   "source": [
    "# Parametric modeling\n",
    "\n",
    "## Introduction\n",
    "\n",
    "Modeling is a key step in the pipeline of statistical inference. In this series of lectures we will learn how to fit parametric and non-parametric models to our data. \n",
    "\n",
    "- In the parametric case we will focus on the classical frequentist method to fit models: maximum likelihood estimation (MLE)\n",
    "- Then we will review non-parametric modeling techniques such as the Histogram and Kernel density estimation\n",
    "- After that we will go back to parametric modeling and extend MLE using priors: Maximum a posteriori \n",
    "- Finally we will present key ideas on bayesian modeling that are to be further developed in a future series of lectures\n",
    "\n"
   ]
  },
  {
   "cell_type": "markdown",
   "metadata": {
    "slideshow": {
     "slide_type": "slide"
    }
   },
   "source": [
    "\n",
    "\n",
    "### What is statistical inference?\n",
    "\n",
    "\n",
    "Inference is:\n",
    "\n",
    "> To draw conclusions from facts through a scientific premise\n",
    "\n",
    "In the particular case of **Statistical inference** we have\n",
    "\n",
    "- Facts: Observed data\n",
    "- Premise: Probabilistic model\n",
    "- Conclusion: An unobserved quantity of interest\n",
    "- Objective: Quantify the uncertainty of the conclusion given the data and the premise\n",
    "\n",
    "\n",
    "The following are examples examples of statistical inference tasks:\n",
    "\n",
    "- **Parameter estimation:** What is the best estimate of a model parameter based on the observed data?\n",
    "- **Confidence estimation:** How trustworthy is our point estimate?\n",
    "- **Hypothesis testing:** Is the data consistent with a given hypothesis or model?"
   ]
  },
  {
   "cell_type": "markdown",
   "metadata": {
    "slideshow": {
     "slide_type": "subslide"
    }
   },
   "source": [
    "### The difference between parametric and non-parametric models\n",
    "\n",
    "To conduct inference we start by defining a statistical model\n",
    "\n",
    "Models can be broadly classified as:\n",
    "\n",
    "**Parametric:** \n",
    "\n",
    "- It corresponds to an analytical function  (distribution) with free parameters\n",
    "- Has an *a-priori* fixed number of parameters\n",
    "- In general: Stronger assumptions, easier to interpret, faster to use\n",
    "\n",
    "**Non-parametric:** \n",
    "\n",
    "- Distribution-free model but they do have parameters and assumptions (e.g. dependence)\n",
    "- The number of parameters depends on the amount of training data\n",
    "- In general: More flexible, harder to train\n",
    "    \n"
   ]
  },
  {
   "cell_type": "markdown",
   "metadata": {
    "slideshow": {
     "slide_type": "subslide"
    }
   },
   "source": [
    "### The difference between Frequentist and Bayesian inference\n",
    "\n",
    "There are two main paradigms or perspectives for statistical inference: Frequentist (F) or classical and Bayesian (B). There are conceptual differences between these paradigms, for example\n",
    "\n",
    "**Definition of probability:**\n",
    "\n",
    "- F: Relative frequency of an event. An objective property of the real world\n",
    "- B: Degree of subjective belief. Probability statements can be made not only on data but also on parameters and models themselves\n",
    "\n",
    "**Interpretation of parameters:**\n",
    "\n",
    "- F: They are unknown and fixed constants\n",
    "- B: They have distributions that quantify the uncertainty of our knowledge about them. We can compute expected values of the parameters\n",
    "\n",
    "In this lecture we will focus on the frequentist approach to modeling. We will review the bayesian perspective in a future lesson"
   ]
  },
  {
   "cell_type": "markdown",
   "metadata": {
    "slideshow": {
     "slide_type": "subslide"
    }
   },
   "source": [
    "## Frequentist approach on parametric modeling \n",
    "\n",
    "In the case of **parametric inference** we assume that observations follow a certain distribution, *i.e.* observations are a realization of a random process (sampling) \n",
    "\n",
    "The conceptual (iterative) steps of parametric inference are:\n",
    "\n",
    "1. **Model fitting:** Find parameters by fitting data to the current model\n",
    "1. **Model proposition:** Propose a new model that accommodates important features of the data better than the previous one\n",
    "\n",
    "In the frequentist approach step 1 is typically solved using **Maximum Likelihood Estimation (MLE)**. Other frequentist alternatives are the Method of Moments (MoM) and the M-estimator. Only MLE is covered in this lecture\n"
   ]
  },
  {
   "cell_type": "markdown",
   "metadata": {
    "slideshow": {
     "slide_type": "slide"
    }
   },
   "source": [
    "### The likelihood\n",
    "\n",
    "The likelihood function is a quantitative description of our experiment (measuring process), and it is the  starting point for **parametric modeling** for both the frequentist and bayesian paradigms. In simple terms the likelihood tells us how good our model is with respect to the **observed data**\n",
    "\n",
    "Let's now give a mathematical description of the likelihood\n",
    "\n",
    "- Suppose we have an experiment that we model as a set of R.Vs $X_1, X_2, \\ldots, X_N$\n",
    "- We also have observations/realizations from our R.Vs $\\{x_i\\} = x_1, x_2, \\ldots, x_N$\n",
    "- We assume that the R.Vs follow a certain joint probability distribution $f(x_1, x_2, \\ldots, x_N | \\theta)$ with parameters $\\theta$\n",
    "\n",
    "The likelihood function is then defined as \n",
    "\n",
    "$$\n",
    "\\begin{align}\n",
    "\\mathcal{L}(\\theta) &= P(X_1=x_1, X_2=x_2, \\ldots, X_N=x_n) \\nonumber \\\\\n",
    "&= f(x_1, x_2, \\ldots, x_N | \\theta) \\nonumber\n",
    "\\end{align}\n",
    "$$\n",
    "\n",
    "which is a function of the parameters $\\theta$\n",
    "\n",
    "For the examples in this lecture we will additionally assumme that our observations are **independent and identically distributed** (iid). With this we can simplify the previous expression as\n",
    "\n",
    "$$\n",
    "\\begin{align}\n",
    "\\mathcal{L}(\\theta) &= f(x_1| \\theta) \\cdot f(x_2| \\theta) \\cdot \\ldots \\cdot f(x_N| \\theta) \\nonumber \\\\\n",
    "&= \\prod_{i=1}^N f(x_i| \\theta) \\nonumber\n",
    "\\end{align}\n",
    "$$\n",
    "\n",
    "\n",
    "The value of the likelihood itself does not hold much meaning, but it can be used to make comparisons between different values of the parameter vector $\\theta$. **The larger the likelihood the better the model**, i.e. likelihood maximization allows us to find the best $\\theta$ for our data\n",
    "\n",
    "Before continuing consider the following\n",
    "\n",
    "\n",
    ":::{warning}\n",
    "\n",
    "**Likelihood is not probability**\n",
    "\n",
    ":::\n",
    "\n",
    "- The likelihood of a set of RVs does not integrate (or sum in the discrete case) to unity, *i.e.* in general the likelihood is not a valid probability density function. \n",
    "- The likelihood by itself cannot be interpreted as a probability of $\\theta$, it only tells us how likely is that $\\{x_i\\}$ was generated by the distribution $f$ with parameter $\\theta$\n",
    "\n",
    "\n",
    "\n"
   ]
  },
  {
   "cell_type": "markdown",
   "metadata": {
    "slideshow": {
     "slide_type": "slide"
    }
   },
   "source": [
    "## Maximum Likelihood Estimation (MLE)\n",
    "\n",
    "\n",
    "In parametric modeling we are interested in finding $\\theta$ that best fit our observations. \n",
    "\n",
    "One method to do this is **MLE**:\n",
    "\n",
    "- **1** Select a distribution (model) for the observations and formulate the likelihood $\\mathcal{L}(\\theta)$\n",
    "- **2** Search for $\\theta$ that maximizes $\\mathcal{L}(\\theta)$ given the data, *i.e.*\n",
    "\n",
    "$$\n",
    "\\hat \\theta = \\text{arg} \\max_\\theta \\mathcal{L}(\\theta),\n",
    "$$\n",
    "\n",
    "where the point estimate $\\hat \\theta$  is called the **maximum likelihood estimator** of $\\theta$\n",
    "\n",
    "After this we can\n",
    "\n",
    "- **3** Determine the confidence region of $\\hat \\theta$ either analytically or numerically (bootstrap, cross-validation, etc)\n",
    "- **4** Make conclusions about your model (hypothesis test)\n",
    "\n",
    "\n",
    ":::{important}\n",
    "\n",
    "A wrong assumption in step 1 can ruin your inference. Evaluate how appropriate your model is, compare with other models and suggest incremental improvements\n",
    "\n",
    ":::\n",
    "\n",
    "\n"
   ]
  },
  {
   "cell_type": "markdown",
   "metadata": {
    "slideshow": {
     "slide_type": "subslide"
    }
   },
   "source": [
    "###  Example: MLE  for the mean of a Gaussian distribution\n",
    "\n",
    "Let us consider a set of N measurements $\\{x_i\\}_{i=1,\\ldots, N}$ obtained from a sensor and that all were obtained under the same conditions\n",
    "\n",
    "The sensor used to measure the data has an error that follows a Gaussian distribution with known variance $\\sigma^2$\n",
    "\n",
    "If the conditions are the same then the measurements can be viewed as noisy realizations of the true value $\\mu$\n",
    "\n",
    "$$\n",
    "x_i = \\mu + \\epsilon_i, \\quad \\epsilon_i \\sim \\mathcal{N}(0, \\sigma^2),\n",
    "$$\n",
    "\n",
    "and we can write the distribution of $x_i$ as \n",
    "\n",
    "$$\n",
    "f(x_i) = \\mathcal{N}(x_i |\\mu,\\sigma^2) \\quad \\forall i\n",
    "$$\n",
    "\n",
    "Finally, the likelihood of $\\mu$ given the measurements and the variance $\\sigma^2$ is \n",
    "\n",
    "$$\n",
    "\\mathcal{L}(\\mu) = f(\\{x_i\\}| \\mu, \\sigma^2) = \\prod_{i=1}^N f(x_i| \\mu, \\sigma^2) = \\frac{1}{\\sqrt{2\\pi\\sigma^2}} \\prod_{i=1}^N  \\exp  \\left( -\\frac{(x_i-\\mu)^2}{2\\sigma^2} \\right)\n",
    "$$\n",
    "\n",
    "We can find $\\mu$ by maximizing the likelihood given $\\{x_i\\}$\n",
    "\n"
   ]
  },
  {
   "cell_type": "markdown",
   "metadata": {
    "slideshow": {
     "slide_type": "fragment"
    }
   },
   "source": [
    ":::{tip}\n",
    "\n",
    "In many cases it is more practical to find the maximum of the **logarithm of the likelihood** (e.g. distributions from the exponential family). Logarithm is a monotonic function and its maximum is the same as its argument.\n",
    "\n",
    ":::\n",
    "\n",
    "In this case the log likelihood is\n",
    "\n",
    "$$\n",
    "\\begin{align}\n",
    "\\log \\mathcal{L} (\\mu) &= \\log \\prod_{i=1}^N f(x_i|\\mu, \\sigma^2) \\nonumber \\\\\n",
    "&= \\sum_{i=1}^N \\log f(x_i|\\mu, \\sigma^2) \\nonumber \\\\\n",
    "&= - \\frac{1}{2} \\sum_{i=1}^N \\log 2\\pi\\sigma^2 - \\frac{1}{2} \\sum_{i=1}^N  \\frac{(x_i-\\mu)^2}{\\sigma^2}  \\nonumber  \\\\\n",
    "&=  - \\frac{N}{2} \\log 2\\pi\\sigma^2 - \\frac{1}{2\\sigma^{2}}   \\sum_{i=1}^N (x_i-\\mu)^2 \\nonumber \n",
    "\\end{align}\n",
    "$$\n",
    "\n",
    "We maximize by making the derivative of the log likelihood equal to zero\n",
    "\n",
    "$$\n",
    "\\frac{d  \\log \\mathcal{L} (\\mu)}{d\\mu} =  \\frac{1}{\\sigma^{2}}  \\sum_{i=1}^N (x_i-\\mu) =0\n",
    "$$\n",
    "\n",
    "Finally the MLE of $\\mu$ is \n",
    "\n",
    "$$\n",
    "\\hat \\mu = \\frac{1}{N} \\sum_{i=1}^N x_i, \\quad \\sigma >0,\n",
    "$$\n",
    "\n",
    "The [sample mean](https://en.wikipedia.org/wiki/Sample_mean_and_covariance#Definition_of_the_sample_mean) is the MLE estimator of the mean for a Gaussian likelihood"
   ]
  },
  {
   "cell_type": "markdown",
   "metadata": {
    "slideshow": {
     "slide_type": "fragment"
    }
   },
   "source": [
    "### Example: MLE for the variance of a Gaussian distribution\n",
    "\n",
    "Let's say now that we don't know the variance of the noise of the sensor\n",
    "\n",
    "The MLE estimator of the variance can be obtained using the same procedure:\n",
    "\n",
    "$$\n",
    "\\log \\mathcal{L} (\\mu, \\sigma^2) =  - \\frac{N}{2} \\log 2\\pi\\sigma^2 - \\frac{1}{2\\sigma^{2}}   \\sum_{i=1}^N (x_i-\\mu)^2 \n",
    "$$\n",
    "\n",
    "$$\n",
    "\\frac{d  \\log \\mathcal{L} (\\mu, \\sigma^2)}{d\\sigma^2} =  - \\frac{N}{2} \\frac{1}{\\sigma^2} + \\frac{1}{2\\sigma^{4}}\\sum_{i=1}^N (x_i-\\mu)^2 =0\n",
    "$$\n",
    "\n",
    "$$\n",
    "\\hat \\sigma^2 = \\frac{1}{N} \\sum_{i=1}^N (x_i- \\hat\\mu)^2\n",
    "$$\n",
    "\n",
    ":::{note}\n",
    "\n",
    "If the true mean is not known then this is a biased estimator of the true variance. MLE does not guarantee unbiased estimators\n",
    "\n",
    ":::\n",
    "\n",
    "The following code example shows how the value of the MLEs of these parameters evolve as more data is observed"
   ]
  },
  {
   "cell_type": "code",
   "execution_count": null,
   "metadata": {},
   "outputs": [],
   "source": [
    "# data from the sensor\n",
    "np.random.seed(1234)\n",
    "x = 80 + np.random.randn(10000)\n",
    "#x = 80 + 2*np.random.rand(1000)  # What happens if the data is not normal\n",
    "\n",
    "# Computing the MLE\n",
    "Ns = np.round(np.logspace(0, 4, num=16)).astype('int')\n",
    "hat_mu = np.array([np.mean(x[:N]) for N in Ns])\n",
    "hat_s2 = np.array([np.mean((x[:N]-mu)**2) for mu, N in zip(hat_mu, Ns)])"
   ]
  },
  {
   "cell_type": "code",
   "execution_count": null,
   "metadata": {},
   "outputs": [],
   "source": [
    "mu_plot = hv.Curve((Ns, hat_mu), 'Number of samples', 'hat mu')*hv.HLine(80).opts(color='k')\n",
    "s2_plot = hv.Curve((Ns, hat_s2), 'Number of samples', 'hat s2')*hv.HLine(1).opts(color='k')\n",
    "(mu_plot + s2_plot).opts(hv.opts.Curve(logx=True, width=350), hv.opts.HLine(line_dash='dashed'))"
   ]
  },
  {
   "cell_type": "markdown",
   "metadata": {
    "slideshow": {
     "slide_type": "fragment"
    }
   },
   "source": [
    "### A note on biased and unbiased estimators\n",
    "\n",
    "For a parameter $\\theta$ and an estimator $\\hat \\theta$, if\n",
    "\n",
    "$$\n",
    "\\mathbb{E}[\\hat \\theta] = \\theta,\n",
    "$$\n",
    "\n",
    "then $\\hat \\theta$ is an unbiased estimator of $\\theta$\n",
    "\n",
    "\n",
    "**Is the MLE of $\\mu$ unbiased?**\n",
    "\n",
    "$$\n",
    "\\begin{align}\n",
    "\\mathbb{E}[\\hat \\mu] &= \\mathbb{E} \\left[ \\frac{1}{N} \\sum_{i=1}^N x_i \\right]  \\nonumber \\\\\n",
    "&= \\frac{1}{N} \\sum_{i=1}^N \\mathbb{E}[x_i] = \\frac{1}{N} \\sum_{i=1}^N \\mu = \\mu  \\nonumber\n",
    "\\end{align}\n",
    "$$\n",
    "\n",
    "> The answer is YES\n",
    "\n",
    "\n",
    "**Is the MLE of $\\sigma^2$ unbiased?**\n",
    "\n",
    "First lets expand the expression of the MLE of the variance\n",
    "\n",
    "$$\n",
    "\\begin{align}\n",
    "\\hat \\sigma^2 &= \\frac{1}{N} \\sum_{i=1}^N \\left(x_i- \\frac{1}{N}\\sum_{j=1}^N x_j \\right)^2 \\nonumber \\\\\n",
    "&= \\frac{1}{N} \\sum_{i=1}^N x_i^2 - \\frac{1}{N^2} \\sum_{i=1}^N \\sum_{j=1}^N x_i  x_j \\nonumber \\\\\n",
    "&= \\frac{1}{N} \\sum_{i=1}^N x_i^2 - \\frac{1}{N^2} \\sum_{i=1}^N \\sum_{j\\neq i} x_i x_j - \\frac{1}{N^2} \\sum_{i=1}^N x_i^2 \\nonumber  \\\\\n",
    "&= \\frac{N-1}{N^2} \\sum_{i=1}^N x_i^2 - \\frac{1}{N^2} \\sum_{i=1}^N \\sum_{j \\neq i} x_i x_j  \\nonumber\n",
    "\\end{align}\n",
    "$$\n",
    "\n",
    "Then applying the expected value operator we get\n",
    "\n",
    "$$\n",
    "\\begin{align}\n",
    "\\mathbb{E}[\\hat \\sigma^2] &= \\frac{N-1}{N^2} \\sum_{i=1}^N \\mathbb{E} [x_i^2] - \\frac{1}{N^2} \\sum_{i=1}^N \\sum_{j \\neq i} \\mathbb{E} [x_i] \\mathbb{E} [x_j] \\nonumber  \\\\\n",
    "&= \\frac{N-1}{N} (\\sigma^2 + \\mu^2) - \\frac{N-1}{N} \\mu^2 \\nonumber \\\\\n",
    "&= \\frac{N-1}{N} \\sigma^2 \\neq \\sigma^2  \\nonumber \n",
    "\\end{align}\n",
    "$$\n",
    "\n",
    "> The answer is NO\n",
    "\n",
    "**Can we correct for the bias?**\n",
    "\n",
    "> In this case, YES!\n",
    "\n",
    "If we multiply it by $\\frac{N}{N-1}$ we obtain the well known [unbiased estimator of the variance](https://en.wikipedia.org/wiki/Unbiased_estimation_of_standard_deviation)\n",
    "\n",
    "$$\n",
    "\\hat \\sigma_{u}^2 = \\frac{N}{N-1} \\hat \\sigma^2 = \\frac{1}{N-1} \\sum_{i=1}^N (x_i- \\hat\\mu)^2\n",
    "$$"
   ]
  },
  {
   "cell_type": "markdown",
   "metadata": {
    "slideshow": {
     "slide_type": "subslide"
    }
   },
   "source": [
    "### Example: MLE of a Gaussian mixture\n",
    "\n",
    "Let's imagine that our *iid* data come from a mixture of Gaussians with K components\n",
    "\n",
    "$$\n",
    "f(x_i|\\pi,\\mu,\\sigma^2) = \\sum_{k=1}^K \\pi_k \\mathcal{N}(x|\\mu_k, \\sigma_k^2),\n",
    "$$\n",
    "\n",
    "where $\\sum_{k=1}^K \\pi_k = 1$ and $\\pi_k \\in [0, 1] ~~ \\forall k$\n",
    "\n",
    "We can write the log likelihood as\n",
    "\n",
    "$$\n",
    "\\log \\mathcal{L}(\\pi,\\mu,\\sigma^2) = \\sum_{i=1}^N \\log \\sum_{k=1}^K \\pi_k \\mathcal{N}(x|\\mu_k, \\sigma_k^2)\n",
    "$$\n",
    "\n",
    ":::{note}\n",
    "\n",
    "In this case we cannot obtain analytical expressions for the parameters by setting the derivative to zero. We have to resort to iterative methods/optimizers, e.g. gradient descent, expectation maximization\n",
    "\n",
    ":::\n",
    "\n",
    "We will come back to this in a future class on expectation maximization and Gaussian mixture models\n"
   ]
  },
  {
   "cell_type": "markdown",
   "metadata": {
    "slideshow": {
     "slide_type": "slide"
    }
   },
   "source": [
    "## Optimality properties and uncertainty of MLEs \n",
    "\n",
    "Assuming that the data truly comes from the specified model the MLE is\n",
    "\n",
    "**Consistent:** The estimate converge to the true parameter as data points increase\n",
    "\n",
    "$$\n",
    "\\lim_{N\\to \\infty} \\hat \\theta = \\theta\n",
    "$$\n",
    "\n",
    "**Asymptotically normal:** The distribution of the estimate approaches a normal centered at the true parameter. \n",
    "\n",
    "$$\n",
    "\\lim_{N\\to \\infty} p(\\hat \\theta) = \\mathcal{N}(\\hat \\theta | \\theta, \\sigma_\\theta^2),\n",
    "$$\n",
    "\n",
    "which is a consequence of the **central limit theorem**\n",
    "\n",
    "For *i.i.d.* $\\{X_i\\}, i=1,\\ldots,N$ with $\\mathbb{E}[X] < \\infty$ and $\\text{Var}[X] < \\infty$ then\n",
    "\n",
    "$$\n",
    "\\lim_{N\\to\\infty} \\sqrt{N} (\\bar X - \\mathbb{E}[X]) = \\mathcal{N}(0, \\sigma^2)\n",
    "$$\n",
    "\n",
    "Because MLE have asymptotically normal distributions the log likelihood ratio have asymptotically a *chi-square* distributions (more about this later)"
   ]
  },
  {
   "cell_type": "markdown",
   "metadata": {},
   "source": [
    "**Minimum variance:** The estimate achieve the theoretical minimal variance given by the **Cramer-Rao bound**. This bound is the inverse of the expected Fisher information, *i.e* the second derivative of $- \\log L$ with respect to $\\theta$\n",
    "\n",
    "$$\n",
    "\\sigma_{nm}^2 =  \\left (- \\frac{d^2 \\log \\mathcal{L} (\\theta)}{d\\theta_n \\theta_m} \\bigg\\rvert_{\\theta = \\hat\\theta}\\right)^{-1}\n",
    "$$\n",
    "\n",
    ":::{note}\n",
    "\n",
    "- $\\sigma_{nm}^2$ is the minimum variance achieved by an unbiased estimator.\n",
    "- $\\sigma_{nn}^2$ gives the marginal error bars \n",
    "- If $\\sigma_{nm} \\neq 0 ~~ n\\neq m$, then errors are correlated, *i.e* some combinations of parameters might be better determined than others\n",
    "\n",
    ":::"
   ]
  },
  {
   "cell_type": "markdown",
   "metadata": {
    "slideshow": {
     "slide_type": "subslide"
    }
   },
   "source": [
    "### Example: Cramer-Rao bound for the MLE of $\\mu$\n",
    "\n",
    "Considering a Gaussian likelihood from the previous example\n",
    "\n",
    "$$\n",
    "\\log \\mathcal{L} (\\mu, \\sigma^2) =  - \\frac{N}{2} \\log 2\\pi\\sigma^2 - \\frac{1}{2\\sigma^{2}}   \\sum_{i=1}^N (x_i-\\mu)^2 \n",
    "$$\n",
    "\n",
    "What is the uncertainty of the MLE of $\\mu$? In this case the Cramer-rao bound\n",
    "\n",
    "$$\n",
    "\\begin{align}\n",
    "\\sigma_{\\hat\\mu}^2  &= \\left (- \\frac{d^2 \\log \\mathcal{L}(\\mu, \\sigma^2)}{d\\mu^2} \\bigg\\rvert_{\\mu=\\hat\\mu}\\right)^{-1}  \\nonumber \\\\\n",
    "&=  \\left (- \\frac{1}{\\sigma^2} \\frac{d}{d\\mu}  \\sum_{i=1}^N (x-\\mu) \\bigg\\rvert_{\\mu=\\hat\\mu}\\right)^{-1}  \\nonumber \\\\\n",
    "&=  \\left ( \\frac{N}{\\sigma^2}  \\bigg\\rvert_{\\mu=\\hat\\mu}\\right)^{-1} = \\frac{\\sigma^2}{N}  \\nonumber\n",
    "\\end{align}\n",
    "$$\n",
    "\n",
    "an expression that is known as the [standard error of the mean](https://en.wikipedia.org/wiki/Standard_error)\n",
    "\n",
    "Then we have \n",
    "\n",
    "$$\n",
    "p(\\hat \\mu) \\to \\mathcal{N}(\\hat \\mu| \\mu, \\sigma^2/N)\n",
    "$$\n",
    "\n",
    "Let's see how the MLE and its uncertainty changes as more data is observed"
   ]
  },
  {
   "cell_type": "code",
   "execution_count": null,
   "metadata": {},
   "outputs": [],
   "source": [
    "# Generate data\n",
    "np.random.seed(12345)\n",
    "mu_real, s_real = 2.23142, 1.124123\n",
    "x = mu_real + s_real*np.random.randn(10000)\n",
    "# MLE and its standard error\n",
    "hat_mu = np.array([np.mean(x[:n]) for n in range(1, len(x))])\n",
    "standard_error = s_real/np.sqrt(np.arange(1, len(x)))"
   ]
  },
  {
   "cell_type": "code",
   "execution_count": null,
   "metadata": {},
   "outputs": [],
   "source": [
    "mu_plot = hv.Curve((range(1, len(x)), hat_mu), \n",
    "                   kdims='Number of samples', vdims='mu', label='Estimated mu')\n",
    "se_plot = hv.Spread((range(1, len(x)), hat_mu, standard_error), \n",
    "                    kdims='Number of samples', label='Standard error')\n",
    "mu_real_plot = hv.HLine(mu_real).opts(line_dash='dashed', color='k', alpha=0.5)\n",
    "(mu_plot*se_plot*mu_real_plot).opts(hv.opts.Curve(logx=True, width=500))"
   ]
  },
  {
   "cell_type": "markdown",
   "metadata": {
    "slideshow": {
     "slide_type": "subslide"
    }
   },
   "source": [
    "## Hypothesis tests based on the likelihood\n",
    "\n",
    "Considering the asymptotic distributions shown before we can formulate a hypothesis test for the MLE of $\\theta$\n",
    "\n",
    "We will present the Wald-test and the Wilks test"
   ]
  },
  {
   "cell_type": "markdown",
   "metadata": {
    "slideshow": {
     "slide_type": "subslide"
    }
   },
   "source": [
    "###  Wald-test\n",
    "\n",
    "Suppose we wish to test\n",
    "\n",
    "$$\n",
    "\\mathcal{H}_0: \\theta = \\theta_0\n",
    "$$\n",
    "$$\n",
    "\\mathcal{H}_A: \\theta \\neq \\theta_0\n",
    "$$\n",
    "\n",
    "Under the null we can write \n",
    "\n",
    "$$\n",
    "W = \\frac{(\\hat \\theta - \\theta_0)^2}{\\left (- \\frac{d^2 \\log \\mathcal{L} (\\theta)}{d\\theta^2} \\bigg\\rvert_{\\theta = \\hat\\theta}\\right)^{-1}} = (\\hat \\theta - \\theta_0)^2 \\sigma_{\\hat \\theta}^2 \\to \\chi^2_1\n",
    "$$\n",
    "\n",
    "The test statistic have a $\\chi^2$ distribution with one degree of freedom\n",
    "\n",
    "If $W$ is greather than the $(1-\\alpha)100\\%$ quantile of $\\chi^2_1$ we reject the null hypothesis\n",
    "\n"
   ]
  },
  {
   "cell_type": "markdown",
   "metadata": {},
   "source": [
    "### Log-likelihood ratio test or Wilks test\n",
    "\n",
    "Suppose we wish to test\n",
    "\n",
    "$$\n",
    "\\mathcal{H}_0: \\theta = \\theta_0\n",
    "$$\n",
    "$$\n",
    "\\mathcal{H}_A: \\theta =\\theta_1\n",
    "$$\n",
    "\n",
    "We can write a ratio between likelihoods\n",
    "\n",
    "$$\n",
    "\\lambda(\\mathcal{D}) = \\frac{\\mathcal{L}(\\theta_0|\\mathcal{D})}{\\mathcal{L}(\\theta_1|\\mathcal{D})} \n",
    "$$\n",
    "\n",
    "Asymptotically, under the null, we have  \n",
    "\n",
    "$$\n",
    "-2 \\log \\lambda(\\mathcal{D}) \\to \\chi^2_1\n",
    "$$\n",
    "\n",
    "If $-2 \\log \\lambda(\\mathcal{D})$ is greather than the $(1-\\alpha)100\\%$ quantile of $\\chi^2_1$ we reject the null"
   ]
  },
  {
   "cell_type": "markdown",
   "metadata": {
    "slideshow": {
     "slide_type": "subslide"
    }
   },
   "source": [
    "## Criteria for model comparison\n",
    "\n",
    "How to compare models with different number of parameters? In general the more number of parameters the better the fit (overfitting). The likelihood does not take into account the complexity (number of parameters) of the model\n",
    "\n",
    "> How to score models taking into account their complexity?\n",
    "\n",
    "One option is to use the Akaike information criterion (AIC). For a model with $k$ parameters and N data points the AIC is \n",
    "\n",
    "$$\n",
    "\\text{AIC} = -2 \\log \\mathcal{L}(\\hat \\theta) + 2k + \\frac{2k(k+1)}{N-k-1},\n",
    "$$\n",
    "\n",
    "which one seeks to minimize. The AIC combines the likelihood (score) of the model and its complexity. The AIC is based on an asumptotic approximation which we will review in the future\n",
    "\n",
    "This is also related to the idea of regularization, which will also be reviewed in future lectures"
   ]
  },
  {
   "cell_type": "code",
   "execution_count": null,
   "metadata": {},
   "outputs": [],
   "source": []
  }
 ],
 "metadata": {
  "kernelspec": {
   "display_name": "Python 3",
   "language": "python",
   "name": "python3"
  },
  "language_info": {
   "codemirror_mode": {
    "name": "ipython",
    "version": 3
   },
   "file_extension": ".py",
   "mimetype": "text/x-python",
   "name": "python",
   "nbconvert_exporter": "python",
   "pygments_lexer": "ipython3",
   "version": "3.9.7"
  }
 },
 "nbformat": 4,
 "nbformat_minor": 2
}
