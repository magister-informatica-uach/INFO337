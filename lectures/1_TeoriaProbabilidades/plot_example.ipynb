{
 "cells": [
  {
   "cell_type": "code",
   "execution_count": null,
   "id": "c2e64082",
   "metadata": {},
   "outputs": [],
   "source": [
    "suppressMessages(library(plotly))"
   ]
  },
  {
   "cell_type": "code",
   "execution_count": null,
   "id": "17012502",
   "metadata": {},
   "outputs": [],
   "source": [
    "vec <- seq(0, 5, by=0.05)\n",
    "params <- c(0.5, 1, 2)\n",
    "pvec <- list()\n",
    "for (i in 1:length(params)){\n",
    "    pvec[[i]] <- dexp(vec, params[i])\n",
    "}"
   ]
  },
  {
   "cell_type": "code",
   "execution_count": null,
   "id": "b23fbb01",
   "metadata": {},
   "outputs": [],
   "source": [
    "steps <- list()\n",
    "fig <- plot_ly()\n",
    "for (i in 1:length(params)){\n",
    "    \n",
    "    fig <- add_lines(fig, x=vec, y=pvec[[i]], \n",
    "                     visible=if (i==1) TRUE else FALSE,\n",
    "                     mode='lines', line=list(color='111111'), showlegend=FALSE)\n",
    "    steps[[i]] = list(args = list('visible', rep(FALSE, length(params))), \n",
    "                      label=params[i], method='restyle')\n",
    "    steps[[i]]$args[[2]][i] = TRUE\n",
    "}\n",
    "fig <- fig %>% layout(sliders = list(list(active=0, \n",
    "                                          currentvalue = list(prefix = \"Parameter: \"),\n",
    "                                          steps=steps)))\n",
    "embed_notebook(fig)"
   ]
  },
  {
   "cell_type": "code",
   "execution_count": null,
   "id": "9df7928d",
   "metadata": {},
   "outputs": [],
   "source": []
  }
 ],
 "metadata": {
  "kernelspec": {
   "display_name": "R",
   "language": "R",
   "name": "ir"
  },
  "language_info": {
   "codemirror_mode": "r",
   "file_extension": ".r",
   "mimetype": "text/x-r-source",
   "name": "R",
   "pygments_lexer": "r",
   "version": "3.6.3"
  }
 },
 "nbformat": 4,
 "nbformat_minor": 5
}
