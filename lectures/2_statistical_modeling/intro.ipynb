{
 "cells": [
  {
   "cell_type": "markdown",
   "metadata": {
    "slideshow": {
     "slide_type": "slide"
    }
   },
   "source": [
    "# Inferencia con modelos paramétricos y no paramétricos\n",
    "\n",
    "Modelar es un paso clave en el proceso de la inferencia estadística. En esta secuencia de aprendizaje veremos como ajustar modelos paramétricos y no paramétricos a nuestros datos\n",
    "\n",
    "- En el caso de modelamiento paramétrico nos enfocaremos en métodos frecuentistas clásicos: Estimación de máxima verosimilitud (MLE)\n",
    "- Luego revisaremos técnicas de modelamiento no paramétrico: Histogramas y Estimación de densidad por kernels (KDE)\n",
    "- Después de esto volveremos al caso paramétrico y extenderemos MLE utilizando priors: Estimación de Máximo a Posteriori (MAP)\n",
    "- Finalmente presentaremos algunas ideas de modelamiento bayesiano, las cuales serán desarrolladas en profundidad al final de este curso\n",
    "\n"
   ]
  },
  {
   "cell_type": "markdown",
   "metadata": {
    "slideshow": {
     "slide_type": "slide"
    }
   },
   "source": [
    "## ¿Qué es inferencia estadística?\n",
    "\n",
    "Inferencia, en general, es:\n",
    "\n",
    "> Extraer conclusiones a partir de los hechos a través de una premisa científica\n",
    "\n",
    "Y en el  caso de particular de **inferencia estadística** tenemos\n",
    "\n",
    "- Hechos: Datos observados\n",
    "- Premisa: Modelo probabilístico\n",
    "- Conclusión: Una variable de interés que no hemos observado (latente)\n",
    "\n",
    "Y el objetivo es \n",
    "\n",
    "> \"cuantificar la incertidumbre de la conclusión dados los datos y el modelo\"\n",
    "\n",
    "Los siguientes son ejemplos de tareas típicas de inferencias estadística:\n",
    "\n",
    "- **Estimación de parámetros**: ¿Cuál es el mejor estimado del parámetro de un modelo dado en base a los datos observados?\n",
    "- **Estimación de confianza:** ¿Qué tan confiable es nuestro estimador puntual de dicho parámetro?\n",
    "- **Test de hiṕotesis:** ¿Son los datos consistentes con una hipótesis en particular?"
   ]
  },
  {
   "cell_type": "markdown",
   "metadata": {
    "slideshow": {
     "slide_type": "subslide"
    }
   },
   "source": [
    "## Diferencias entre métodos paramétricos y no-paramétricos\n",
    "\n",
    "En estadística se hace la distinción entre métodos parámetricos y no paramétricos. Los primeros son métodos que **hacen supuestos sobre la distribución de probabilidad subyacente de los datos**, por ejemplo \n",
    "\n",
    "> \"La población tiene una distribución normal\"\n",
    "\n",
    "Los segundos en cambio no suponen una forma teórica específica para las distribuciones subyancentes, sin embargo si suelen hacer otros supuestos \"menos fuertes\", por ejemplo\n",
    "\n",
    "> \"La distribución subyacente es continua\" o \"las observaciones son independientes e idénticamente distribuidos\"\n",
    "\n",
    "Los métodos no parámetricos son entonces menos restrictivos pero suelen ser menos sencibles (menor potencia estadística) que sus contrapartes paramétricas\n",
    "\n",
    "En el caso específico del modelamiento también se puede hacer la distinción anterior:\n",
    "\n",
    "**Modelos paramétricos:** \n",
    "\n",
    "- Hacen supuestos sobre la distribución de probabilidad de los datos (verosimilitud)\n",
    "- (En el caso bayesiano también se supone una distribución para los parámetros del modelo)\n",
    "- El modelo tiene una estructura fija, es decir un número fijo de parámetros\n",
    "- Son, en general, más simples de ajustar e interpretar\n",
    "\n",
    "**Modelos no-paramétricos:** \n",
    "\n",
    "- No hacen supuestos basados en distribuciones específicas (pero si en propiedades de dicha distribución) \n",
    "- El número de parámetros puede depender de la cantidad de datos de entrenamiento (o ser infinito)\n",
    "- Son, en general, más flexibles pero también más difíciles de ajustar\n",
    "    \n"
   ]
  },
  {
   "cell_type": "markdown",
   "metadata": {
    "slideshow": {
     "slide_type": "subslide"
    }
   },
   "source": [
    "## La diferencia entre inferencia frecuentista y bayesiana\n",
    "\n",
    "En general, se reconocen dos paradigmas o perspectivas en inferencia estadística: Frecuentista (F) y Bayesiana (B). Existen diferencias conceptuales importantes entre ellas, por ejemplo\n",
    "\n",
    "**Definición de probabilidad:**\n",
    "\n",
    "- F: Probabilidad es la frecuencia relativa de un evento. Es una propiedad objetiva \n",
    "- B: Probabilidad es el grado de credibilidad de un evento. Es una propiedad subjetiva\n",
    "\n",
    "**Parámetros:**\n",
    "\n",
    "- F: Los parámetros son variables determínistas, es decir que su valor es puntual\n",
    "- B: Los parámetros son variables aleatorias, es decir que tienen distribuciones asociadas que cuantifican su incertidumbre. Podemos calcular valores esperados para nuestros parámetros\n",
    "\n"
   ]
  }
 ],
 "metadata": {
  "kernelspec": {
   "display_name": "Python 3 (ipykernel)",
   "language": "python",
   "name": "python3"
  },
  "language_info": {
   "codemirror_mode": {
    "name": "ipython",
    "version": 3
   },
   "file_extension": ".py",
   "mimetype": "text/x-python",
   "name": "python",
   "nbconvert_exporter": "python",
   "pygments_lexer": "ipython3",
   "version": "3.10.4"
  }
 },
 "nbformat": 4,
 "nbformat_minor": 2
}
