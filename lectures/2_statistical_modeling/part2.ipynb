{
 "cells": [
  {
   "cell_type": "code",
   "execution_count": null,
   "metadata": {},
   "outputs": [],
   "source": [
    "import holoviews as hv\n",
    "hv.extension('bokeh')"
   ]
  },
  {
   "cell_type": "code",
   "execution_count": null,
   "metadata": {},
   "outputs": [],
   "source": [
    "import numpy as np\n",
    "import scipy.signal"
   ]
  },
  {
   "cell_type": "markdown",
   "metadata": {
    "slideshow": {
     "slide_type": "slide"
    }
   },
   "source": [
    "# Nonparametric modeling\n",
    "\n",
    "\n",
    "Non-parametric models are statistical models that do not assume an underlying distribution\n",
    "\n",
    "In this lesson we will review two non-parametric models: Histograms and Kernel Density Estimation (KDE). More advanced non-parametric models and methods will be reviewed in future lectures\n"
   ]
  },
  {
   "cell_type": "markdown",
   "metadata": {},
   "source": [
    "## The Histogram\n",
    "\n",
    "The histogram is a numerical representation of a distribution which allows us to visualize our data and explore its statistical features\n",
    "\n",
    "In its simplest version the histogram is built by dividing the data range in **bins** and counting the observations that fall on a given bin (frequency). In this case the parameters that we have to provide are the size and location of the bins"
   ]
  },
  {
   "cell_type": "markdown",
   "metadata": {
    "slideshow": {
     "slide_type": "subslide"
    }
   },
   "source": [
    "### Example\n",
    "\n",
    "A histogram can be easily computed using \n",
    "\n",
    "```python\n",
    "numpy.histogram(a, # the data\n",
    "                bins=10, # number of bins (int) or array of edges\n",
    "                range=None, # range of the bins (only used if bins is an int)\n",
    "                density=None, # wheter to return frequencies (counts) or density\n",
    "                ...\n",
    "               )\n",
    "```\n",
    "\n",
    "This function returns a tuple with the edges and the frequencies/densities of the bins\n",
    "\n",
    "The following example generates random samples from a mixture of gaussian distributions. Then the histogram of the samples and the underlying distribution are shown. Use the slider to explore the influence of number of bins"
   ]
  },
  {
   "cell_type": "code",
   "execution_count": null,
   "metadata": {},
   "outputs": [],
   "source": [
    "class GaussianMixture:\n",
    "    \n",
    "    def __init__(self, locs, scales, weights):\n",
    "        self.weights = weights\n",
    "        self.dists = []        \n",
    "        for loc, scale in zip(locs, scales):\n",
    "            self.dists.append(scipy.stats.norm(loc=loc, scale=scale))\n",
    "            \n",
    "    def pdf(self, x):\n",
    "        px = 0.0\n",
    "        for dist, weight in zip(self.dists, self.weights):\n",
    "            px += weight*dist.pdf(x)\n",
    "        return px\n",
    "    \n",
    "    def rvs(self, N, seed=None):\n",
    "        samples = []\n",
    "        for dist, weight in zip(self.dists, self.weights):\n",
    "            samples.append(dist.rvs(size=int(weight*N), random_state=seed))\n",
    "        return np.concatenate(samples)\n",
    "            \n",
    "dist = GaussianMixture(locs=[-4, 3], scales=[2, 2], weights=[0.7, 0.3])\n",
    "samples = dist.rvs(1000, seed=12345)\n",
    "x = np.linspace(np.amin(samples), np.amax(samples), num=1000)\n",
    "pdf = dist.pdf(x)"
   ]
  },
  {
   "cell_type": "code",
   "execution_count": null,
   "metadata": {},
   "outputs": [],
   "source": [
    "histograms = {}\n",
    "for nbins in [1, 2, 5, 10, 20, 50, 100]:\n",
    "    histograms[nbins] = np.histogram(samples, bins=nbins, \n",
    "                                     range=(np.amin(samples), np.amax(samples)), \n",
    "                                     density=True)"
   ]
  },
  {
   "cell_type": "code",
   "execution_count": null,
   "metadata": {},
   "outputs": [],
   "source": [
    "dist_plot = hv.Curve((x, pdf)).opts(line_width=2, color='k', width=500, height=350)\n",
    "hmap = hv.HoloMap(kdims='Number of bins')\n",
    "for key, (freqs, bins) in histograms.items():\n",
    "    hmap[key] = hv.Histogram((bins, freqs), kdims='x', vdims='Density').opts(alpha=0.75)\n",
    "\n",
    "hmap * dist_plot"
   ]
  },
  {
   "cell_type": "markdown",
   "metadata": {
    "slideshow": {
     "slide_type": "fragment"
    }
   },
   "source": [
    "**Notes:**\n",
    "\n",
    "- A small number of bins misses the features of the distribution, e.g. multimodality\n",
    "- A large number of bins introduces noise\n"
   ]
  },
  {
   "cell_type": "markdown",
   "metadata": {
    "slideshow": {
     "slide_type": "subslide"
    }
   },
   "source": [
    "### How to select the number of bins?\n",
    "\n",
    "The number of bins could be cross-validated using the data. A broadly used metric for to cross-validate histograms is the Asymptotic Mean Integrated Square Error (AMISE)\n",
    "\n",
    "There are also \"rules of thumb\", that are generally ok as a first step. Two examples are the Scott's and Silverman's rule. These rules\n",
    "\n",
    "- are proportional to the scale (variance) of the data and inversely proportional to the number of samples \n",
    "- are obtained by imposing assumptions on the underlying distribution of the data.\n",
    "\n",
    "For example the widths of the bins using the Silverman's rule is \n",
    "\n",
    "$$\n",
    "h = 0.9 \\frac{\\min[\\sigma, 0.7412 (q_{75} - q_{25})]}{N^{1/5}},\n",
    "$$\n",
    "\n",
    "where $N$ is the number of observations, $\\sigma$ is the standard deviation and $q_{75}-q_{25}$ is the interquartile range. Using the width we can compute the number of bins as \n",
    "\n",
    "$$\n",
    "N_{bins} = \\frac{\\max(x)-\\min(x)}{h}\n",
    "$$\n",
    "\n",
    "The Silverman's rule is optimal only if the underlying distribution is Gaussian\n",
    "\n",
    "In all these we have assumed a fixed width and uniformly sampled edges but in a more general case\n",
    "\n",
    "- Bins could have different widths\n",
    "- Bins could have irregular boundaries (edges)\n",
    "\n",
    "An example of these is the [Bayesian blocks method](https://www.astroml.org/examples/algorithms/plot_bayesian_blocks.html)\n"
   ]
  },
  {
   "cell_type": "markdown",
   "metadata": {
    "slideshow": {
     "slide_type": "subslide"
    }
   },
   "source": [
    "## Kernel density estimation (KDE)\n",
    "\n",
    "KDE can be though as an alternative to histogram where each point has its \"own bin\", and bins can overlap. Becasue of this KDE does not require choosing bin boundaries, only bin width\n",
    "\n",
    "The unidimensional KDE for a set $\\{x_i\\}_{i=1,\\ldots, N}$ is\n",
    "\n",
    "$$\n",
    "\\hat f_h(x) = \\frac{1}{Nh} \\sum_{i=1}^N \\kappa \\left ( \\frac{x - x_i}{h} \\right)\n",
    "$$\n",
    "\n",
    "where $h$ is called the **kernel bandwidth** or kernel size and $\\kappa(u)$ is the **kernel function** that need to be positive, zero mean and integrate to unity.\n",
    "\n",
    "For example, one broadly used kernel is \n",
    "\n",
    "$$\n",
    "\\kappa(u) = \\frac{1}{\\sqrt{2\\pi}} \\exp \\left ( - \\frac{u^2}{2} \\right),\n",
    "$$\n",
    "\n",
    "the Gaussian kernel. Other widely used kernels for KDE are the Epanechnikov and Top-hat kernels\n",
    "\n",
    "In a nutshell: \n",
    "\n",
    "> KDE places a kernel on top of each point and then averages all the kernels to obtain the density\n",
    "\n",
    "\n",
    "**Avoid confusion:** \n",
    "\n",
    "- Assuming that the data is **Gaussian distributed** and using KDE with the **Gaussian kernel** are very **different things**! \n",
    "- Using the Gaussian kernel for non-Gaussian data is perfectly fine.\n",
    "\n"
   ]
  },
  {
   "cell_type": "markdown",
   "metadata": {},
   "source": [
    "### Example\n",
    "\n",
    "KDE is implemented in the `sklearn.neighbors` module as\n",
    "\n",
    "```python\n",
    "KernelDensity(kernel='gaussian', # The kernel function\n",
    "              bandwidth=1.0, # The width of the kernel\n",
    "              ...\n",
    "             )\n",
    "```\n",
    "\n",
    "The most import methods of this class are\n",
    "\n",
    "- `fit(xi: np.ndarray)`: Saves the samples that will be used to compute the densities\n",
    "- `score_samples(x: np.ndarray)`: Returns a numpy array with the log density evaluated at x\n",
    "\n",
    "The following example shows the KDE and underlying densities for the synthetic mixture gaussian data. Use the widgets to explore the influence of the kernel function and the width (with respect to Silverman's)"
   ]
  },
  {
   "cell_type": "code",
   "execution_count": null,
   "metadata": {},
   "outputs": [],
   "source": [
    "from sklearn.neighbors import KernelDensity\n",
    "hs = 0.9*np.std(samples)*len(samples)**(-1/5)\n",
    "\n",
    "densities = {}\n",
    "for k in [1/8, 1/4, 1/2, 1, 2, 4, 8]:\n",
    "    for kernel in [\"gaussian\", \"epanechnikov\", \"tophat\"]:\n",
    "        kde = KernelDensity(kernel=kernel, bandwidth=hs*k).fit(samples.reshape(-1, 1))\n",
    "        densities[k, kernel] = np.exp(kde.score_samples(x.reshape(-1, 1)))"
   ]
  },
  {
   "cell_type": "code",
   "execution_count": null,
   "metadata": {},
   "outputs": [],
   "source": [
    "dist_plot = hv.Curve((x, pdf)).opts(line_width=2, color='k', width=500, height=350)\n",
    "hmap = hv.HoloMap(kdims=['Width/Silverman', 'Kernel'])\n",
    "for key, density in densities.items():\n",
    "    hmap[key] = hv.Curve((x, density), kdims='x', vdims='Density').opts(line_width=2)\n",
    "\n",
    "hmap * dist_plot"
   ]
  },
  {
   "cell_type": "code",
   "execution_count": null,
   "metadata": {},
   "outputs": [],
   "source": []
  }
 ],
 "metadata": {
  "kernelspec": {
   "display_name": "Python 3",
   "language": "python",
   "name": "python3"
  },
  "language_info": {
   "codemirror_mode": {
    "name": "ipython",
    "version": 3
   },
   "file_extension": ".py",
   "mimetype": "text/x-python",
   "name": "python",
   "nbconvert_exporter": "python",
   "pygments_lexer": "ipython3",
   "version": "3.9.6"
  }
 },
 "nbformat": 4,
 "nbformat_minor": 2
}
