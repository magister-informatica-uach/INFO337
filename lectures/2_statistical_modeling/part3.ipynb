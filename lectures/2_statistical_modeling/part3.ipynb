{
 "cells": [
  {
   "cell_type": "code",
   "execution_count": null,
   "metadata": {},
   "outputs": [],
   "source": [
    "import holoviews as hv\n",
    "hv.extension('bokeh')"
   ]
  },
  {
   "cell_type": "code",
   "execution_count": null,
   "metadata": {},
   "outputs": [],
   "source": [
    "import numpy as np\n",
    "import scipy.signal"
   ]
  },
  {
   "cell_type": "markdown",
   "metadata": {},
   "source": [
    "# Bayesian modeling\n"
   ]
  },
  {
   "cell_type": "markdown",
   "metadata": {
    "slideshow": {
     "slide_type": "slide"
    }
   },
   "source": [
    "## Introduction\n",
    "\n",
    "In this lecture we return to parametric modeling but using the bayesian approach. \n",
    "\n",
    "A summary of the bayesian premise\n",
    "\n",
    "- Inference is made by producing probability density functions (pdf): **posterior**\n",
    "- We model the uncertainty of the data, experiment, parameters, etc. as a **joint pdf**\n",
    "- The parameter vector $\\theta$ is a R.V., *i.e.* it follows a distribution: **prior**\n",
    "\n",
    "The Bayes theorem and the law of total probability tell us\n",
    "\n",
    "$$\n",
    "p(\\theta| \\{x\\}) = \\frac{p(\\{x\\}, \\theta)}{p(\\{x\\})}= \\frac{p(\\{x\\}|\\theta) p(\\theta)}{\\int p(\\{x\\}|\\theta) p(\\theta) d\\theta} \\propto p(\\{x\\}|\\theta) p(\\theta),\n",
    "$$\n",
    "\n",
    "\n"
   ]
  },
  {
   "cell_type": "markdown",
   "metadata": {},
   "source": [
    ":::{note}\n",
    "\n",
    "The posterior is build from the **likelihood**, **prior** and **evidence** (marginal data likelihood), *i.e.* the posterior can be small if either the likelihood or the prior are small\n",
    "\n",
    ":::\n",
    "\n"
   ]
  },
  {
   "cell_type": "markdown",
   "metadata": {
    "slideshow": {
     "slide_type": "subslide"
    }
   },
   "source": [
    "**Why/When should I use the Bayesian formalism?**\n",
    "\n",
    "In many cases bayesian inference will not differ much from frequentist techniques. Also, in general, bayesian inference is harder to compute and requires more sophisticated methods\n",
    "\n",
    "But bayesian modeling gives us some key advantages:\n",
    "\n",
    "- We know the uncertainty of our parameters/predictions, i.e. and we can take more informed decisions\n",
    "- It gives a principled way of injecting prior knowledge (regularization)\n",
    "- We can integrate unknown or missing (nuisance) parameters\n"
   ]
  },
  {
   "cell_type": "markdown",
   "metadata": {
    "slideshow": {
     "slide_type": "subslide"
    }
   },
   "source": [
    "The following is a summary of the Bayesian inference procedure\n",
    "\n",
    "1. Formulate your problem: likelihood and prior\n",
    "1. Build a joint distribution (relation of all parameters)\n",
    "1. Determine the posterior using Bayes Theorem. Find MAP and credible regions\n",
    "1. Test your hypothesis\n",
    "1. **Criticize:** Evaluate how appropriate the model is and suggest improvements\n",
    "\n",
    "We will review these steps in this lesson"
   ]
  },
  {
   "cell_type": "markdown",
   "metadata": {
    "slideshow": {
     "slide_type": "slide"
    }
   },
   "source": [
    "## Maximum *a posteriori* (MAP) estimation\n",
    "\n",
    "In the Bayesian setting the best \"point estimate\" of the parameters of the model is given by the MAP \n",
    "\n",
    "$$\n",
    "\\hat \\theta = \\text{arg} \\max_\\theta p(\\theta|\\{x\\}) =  \\text{arg} \\max_\\theta p(\\{x\\}| \\theta) p(\\theta),\n",
    "$$\n",
    "\n",
    "where we \"omit\" the evidence (denominator in Bayes rule) because it does not depend on $\\theta$\n",
    "\n",
    "Applying the logarithm (monotonic) we can decouple the likelihood from the prior\n",
    "\n",
    "$$\n",
    "\\hat \\theta = \\text{arg} \\max_\\theta \\log p(\\{x\\}| \\theta) + \\log p(\\theta),\n",
    "$$\n",
    "\n",
    ":::{note}\n",
    "\n",
    "MAP is still a point estimate: poor's man Bayes\n",
    "\n",
    ":::\n",
    "\n",
    "The main difference to what we saw in previous lessons is **the prior**"
   ]
  },
  {
   "cell_type": "markdown",
   "metadata": {
    "slideshow": {
     "slide_type": "subslide"
    }
   },
   "source": [
    "### What can I do with priors?\n",
    "\n",
    "Priors are distributions that summarize what we know about the parameters before-hand, for example\n",
    "\n",
    "- a parameter is continuous and has no bounds: Normal\n",
    "- a parameter is continuous and positive: Lognormal, Inverse gamma, Half-normal, etc\n",
    "- a parameter is positive-semidefinite: Inverse Wishart, LKJ, etc\n",
    "- a parameter is in the simplex: Dirichlet\n",
    "\n",
    "Priors can be described as \n",
    "\n",
    "- Informative: $\\mathcal{N}(\\theta|\\mu=5.4, \\sigma^2=0.1)$\n",
    "- Weakly informative: $\\mathcal{N}(\\theta|\\mu=0, \\sigma^2=100.)$\n",
    "- Uninformative (or objective): My parameter is positive\n",
    "\n",
    "Of course these notions depend on the problem at hand.\n",
    "\n",
    "We should select priors that \n",
    "\n",
    "- add a positive weight on values that may occur\n",
    "- put zero weight to impossible values\n",
    "- help regularize the solution\n",
    "\n",
    "Later we will see the case of **conjugate prior**, which are very convenient from a computational point of view\n",
    "\n",
    "I suggest reading the [practical principles for choosing priors](https://github.com/stan-dev/stan/wiki/Prior-Choice-Recommendations) in the Stan repository\n",
    "\n",
    "\n"
   ]
  },
  {
   "cell_type": "markdown",
   "metadata": {
    "slideshow": {
     "slide_type": "subslide"
    }
   },
   "source": [
    "\n",
    "### Example: MAP estimate of the mean of a Gaussian distribution\n",
    "\n",
    "Assuming $N$ i.i.d samples and a Gaussian likelihood with known variance we can write\n",
    "\n",
    "$$\n",
    "\\log p(\\{x\\}|\\theta) = \\log L (\\mu)  = - \\frac{N}{2} \\log 2\\pi\\sigma^2 - \\frac{1}{2\\sigma^{2}}   \\sum_{i=1}^N (x_i-\\mu)^2, \n",
    "$$\n",
    "\n",
    "In this particular example we will select a Gaussian prior with parameters $\\mu_0$ and $\\sigma_0$ for $\\mu$ \n",
    "\n",
    "$$\n",
    "\\log p(\\theta) = -\\frac{1}{2} \\log 2 \\pi \\sigma^2_0 - \\frac{1}{2 \\sigma^2_0}  (\\mu - \\mu_0)^2,\n",
    "$$\n",
    "\n",
    "Adding the log likelihood and log prior and taking the derivative\n",
    "\n",
    "$$\n",
    "\\frac{d}{d\\mu} \\log p(\\{x\\}|\\theta) + \\log p(\\theta) =   \\frac{1}{\\sigma^{2}}   \\sum_{i=1}^N (x_i-\\mu)  - \\frac{1}{ \\sigma^2_0}  (\\mu - \\mu_0),\n",
    "$$\n",
    "\n",
    "then setting the derivative equal to zero gives us the MAP estimate\n",
    "\n",
    "$$\n",
    "\\hat \\mu_{\\text{map}} =  \\left(\\frac{N}{\\sigma^2} + \\frac{1}{\\sigma^2_0} \\right)^{-1} \\left(\\frac{N}{\\sigma^2} \\bar x + \\frac{1}{\\sigma^2_0} \\mu_0 \\right),\n",
    "$$\n",
    "\n",
    "where $\\bar x = \\frac{1}{N} \\sum_{i=1}^N x_i$.\n",
    "\n",
    ":::{important}\n",
    "\n",
    "Do not confuse $\\sigma^2$ (the likelihood/noise variance) and $\\sigma^2_0$ (prior variance)\n",
    "\n",
    ":::\n",
    "\n",
    "(Using a bit of algebra) we can write the MAP expression as\n",
    "\n",
    "$$\n",
    "\\begin{align}\n",
    "\\hat \\mu_{\\text{map}}  &=  \\left(\\frac{N}{\\sigma^2} + \\frac{1}{\\sigma^2_0} \\right)^{-1} \\left(\\frac{N\\bar x}{\\sigma^2}  + \\frac{\\mu_0}{\\sigma^2_0} \\right)  \\nonumber \\\\\n",
    "&=  \\frac{N \\bar x \\sigma^2_0 + \\mu_0 \\sigma^2}{N\\sigma^2_0+ \\sigma^2} \\nonumber \\\\\n",
    "&= \\frac{\\bar x + \\mu_0 \\frac{\\sigma^2}{\\sigma^2_0 N}}{1 + \\frac{\\sigma^2}{\\sigma^2_0 N}}  \\nonumber \\\\\n",
    "&= w \\bar x + (1-w) \\mu_0, \\qquad \\text{where} \\quad w = \\frac{1}{1 + \\frac{\\sigma^2}{\\sigma^2_0 N}}  \\nonumber\n",
    "\\end{align}\n",
    "$$\n",
    "\n",
    "> The MAP estimate of $\\mu$ is a weighted average between $\\mu_0$ (prior) and $\\bar x$ (the MLE solution)\n",
    "\n",
    ":::{note}\n",
    "\n",
    "In the last expression:\n",
    "\n",
    "- if either $\\sigma^2_0 \\to \\infty$ or $N \\to \\infty$ then $w\\to1$, i.e. the MAP converges to the MLE solution \n",
    "- the prior is more relevant if have a few sample (small $N$) or a noisy samples (large $\\sigma^2$)\n",
    "\n",
    ":::"
   ]
  },
  {
   "cell_type": "markdown",
   "metadata": {
    "slideshow": {
     "slide_type": "subslide"
    }
   },
   "source": [
    "### Extra: MAP intepretation as a penalized MLE/regularized LS\n",
    "\n",
    "We can rewrite the MAP optimization problem for a Gaussian likelihood with known variance and a zero-mean Gaussian prior as\n",
    "\n",
    "$$\n",
    "\\begin{align}\n",
    "\\hat \\mu_{\\text{map}}  &= \\text{arg} \\max_\\mu  \\log p(\\{x\\}| \\mu, \\sigma^2) + \\log p(\\mu) \\nonumber \\\\\n",
    "&= \\text{arg} \\max_\\mu   - \\frac{N}{2} \\log 2\\pi\\sigma^2 - \\frac{1}{2\\sigma^{2}}   \\sum_{i=1}^N (x_i-\\mu)^2 -  \\frac{1}{2\\sigma_0^2} \\mu^2 \\nonumber \\\\\n",
    "&= \\text{arg} \\min_\\mu \\frac{1}{2\\sigma^{2}}   \\sum_{i=1}^N (x_i-\\mu)^2 +  \\frac{1}{2\\sigma_0^2} \\mu^2 \\nonumber \\\\\n",
    "&= \\text{arg} \\min_\\mu \\|x-\\mu\\|^2  + \\lambda \\|\\mu \\|^2, \\nonumber\n",
    "\\end{align}\n",
    "$$\n",
    "\n",
    "where $\\lambda = \\frac{\\sigma^2}{\\sigma_0^2}$. \n",
    "\n",
    "We can recognize the last equation as a regularized least squares problem. In this case a using a Gaussian priors is equivalent to using a L2 norm regularizar on the parameters (this is known as ridge regression). A Laplacian prior yields a L1 regularizer (LASSO) [^lasso]\n",
    "\n",
    "[^lasso]: Hastie, Tibshirani, Friedman, chapter 3.4 (Shrinkage methods), page 61.\n",
    "\n",
    "We will review ridge regression in a future lecture"
   ]
  },
  {
   "cell_type": "markdown",
   "metadata": {},
   "source": [
    "## Analytical posterior with conjugate priors\n",
    "\n",
    "Remember that the MAP is only a point estimate. In a fully-bayesian setting want we are interested in is the posterior of the parameter\n",
    "\n",
    "In the particular case of a Gaussian likelihod and a Gaussian prior we can rearrange the terms to show that \n",
    "\n",
    "$$\n",
    "\\begin{align}\n",
    "p(\\theta |\\{x\\}) &\\propto p(\\{x\\} |\\theta ) p(\\theta ) \\nonumber \\\\\n",
    "&\\propto \\exp \\left ( \\frac{1}{2\\sigma^2} \\sum_{i=1}^N (x_i - \\mu)^2 \\right) \\exp \\left ( \\frac{1}{2\\sigma_0^2} (\\mu - \\mu_0)^2 \\right) \\nonumber \\\\\n",
    "&\\propto \\exp \\left ( -\\frac{1}{2 \\hat \\sigma^2} (\\mu - \\hat \\mu_{\\text{map}} )^2 \\right),  \\nonumber \n",
    "\\end{align}\n",
    "$$\n",
    "\n",
    "where \n",
    "\n",
    "$$\n",
    "\\hat \\sigma^2 = \\left(\\frac{N}{\\sigma^2} + \\frac{1}{\\sigma^2_0} \\right)^{-1},\n",
    "$$\n",
    "\n",
    "i.e. the posterior has a closed analytical form and is also Gaussian [^gaussmult]\n",
    "\n",
    "[^gaussmult]: Another way to show that the posterior is Gaussian is to use the [property of Gaussian pdf multiplication](http://www.tina-vision.net/docs/memos/2003-003.pdf)\n",
    "\n",
    "> When the resulting posterior has the same distribution as the specified prior we say that the prior is a **conjugate prior for the specified likelihood**\n",
    "\n",
    "In this particular case the Gaussian distribution is conjugate with itself\n",
    "\n",
    "Other examples are:\n",
    "\n",
    "```{list-table} Conjugacy table\n",
    ":header-rows: 1\n",
    "\n",
    "* - Likelihood\n",
    "  - Conjugate prior\n",
    "* - Bernoulli\n",
    "  - Beta\n",
    "* - Poisson\n",
    "  - Gamma\n",
    "* - Multinomial or categorial\n",
    "  - Dirichlet\n",
    "* - Exponential\n",
    "  - Gamma\n",
    "* - Normal with unknown variance\n",
    "  - Normal-inverse gamma (NIG)\n",
    "* - Multivariate normal with unknown covariance\n",
    "  - Normal-inverse Wishart\n",
    "```\n",
    "\n"
   ]
  },
  {
   "cell_type": "markdown",
   "metadata": {},
   "source": [
    "### Interactive example\n",
    "\n",
    "We generate Gaussian distributed data with $\\mu=2$ and $\\sigma=1$ and plot the asymptotic distribution of the MLE (yellow) and the analytical posterior (red) and the prior (blue)"
   ]
  },
  {
   "cell_type": "code",
   "execution_count": null,
   "metadata": {},
   "outputs": [],
   "source": [
    "from scipy.stats import norm\n",
    "\n",
    "def mle_mu(xi: np.array) -> float:\n",
    "    return np.mean(xi)\n",
    "\n",
    "def asymptotic_mle(x: np.array, xi: np.array, s2: float) -> np.array:\n",
    "    N = len(xi)\n",
    "    return norm(loc=mle_mu(xi), scale=np.sqrt(s2/N)).pdf(x)\n",
    "\n",
    "def map_mu(xi: np.array, mu0: float, s20: float, s2: float):\n",
    "    N = len(xi)\n",
    "    w = (N*s20)/(N*s20 + s2)\n",
    "    return mle_mu(xi)*w + mu0*(1. - w) \n",
    "\n",
    "def prior_mu(x: np.array, mu0: float, s20: float) -> np.array:\n",
    "    return norm(loc=mu0, scale=np.sqrt(s20)).pdf(x)\n",
    "\n",
    "def posterior_mu(x: np.array, xi: np.array, mu0: float, s20: float, s2: float) -> np.array:\n",
    "    N = len(xi)\n",
    "    s2_pos = s2*s20/(N*s20 + s2)\n",
    "    mu_pos = map_mu(xi, mu0, s20, s2)\n",
    "    return norm(loc=mu_pos, scale=np.sqrt(s2_pos)).pdf(x)"
   ]
  },
  {
   "cell_type": "markdown",
   "metadata": {},
   "source": [
    "Explore \n",
    "\n",
    "- What happens with $N$ grows?\n",
    "- What happens when $\\sigma_0$ grows?"
   ]
  },
  {
   "cell_type": "code",
   "execution_count": null,
   "metadata": {},
   "outputs": [],
   "source": [
    "mu_real, s2_real = 2., 1.\n",
    "x_plot = np.linspace(-5, 5, num=1000)\n",
    "true_value = hv.VLine(mu_real).opts(color='k', line_width=2, alpha=0.5)\n",
    "hmap = hv.HoloMap(kdims=['N', 'mu0', 's20'])\n",
    "for N in [1, 5, 10, 50, 100, 500]:\n",
    "    for mu0 in np.linspace(-3, 3, num=5):\n",
    "        for s20 in np.logspace(-1, 1, num=3):\n",
    "            data = norm(loc=mu_real, scale=np.sqrt(s2_real)).rvs(N, random_state=1234)\n",
    "            plot_prior = hv.Curve((x_plot, prior_mu(x_plot, mu0, s20)), 'x', 'density', label='prior') \n",
    "            plot_mle = hv.Curve((x_plot, asymptotic_mle(x_plot, data, s2_real)), label='MLE')\n",
    "            plot_post = hv.Curve((x_plot, posterior_mu(x_plot, data, mu0, s20, s2_real)), label='posterior')\n",
    "            hmap[(N, mu0, s20)] = (plot_prior * plot_post * plot_mle * true_value).opts(hv.opts.Curve(width=500))\n",
    "            \n",
    "hmap"
   ]
  },
  {
   "cell_type": "markdown",
   "metadata": {},
   "source": [
    "### Conjugate prior for Gaussian likelihood when $\\sigma^2$ is unknown\n",
    "\n",
    "Before we assumed that $\\sigma^2$ was a known quantity and we focused on estimating $\\mu$\n",
    "\n",
    "If we now assume that the mean $\\mu$ is known and the variance is unknown then the conjugate prior for the variance is an inverse-Gamma distribution\n",
    "\n",
    "$$\n",
    "p(\\sigma^2) = \\text{IG}(\\sigma^2| \\alpha_0, \\beta_0) = \\frac{\\beta_0^{\\alpha_0}}{\\Gamma(\\alpha_0)} x^{-\\alpha_0-1} e^{-\\frac{\\beta_0}{x}}\n",
    "$$\n",
    "\n",
    "With which the resulting posterior is also \n",
    "\n",
    "$$\n",
    "\\text{IG}\\left(\\sigma^2| \\alpha_N , \\beta_N  \\right),\n",
    "$$\n",
    "\n",
    "where\n",
    "\n",
    "- $ \\alpha_N = \\alpha_0 + N/2$\n",
    "- $\\beta_N = \\beta_0 + \\frac{1}{2} \\sum_{i=1}^N (x_i - \\mu)^2$\n"
   ]
  },
  {
   "cell_type": "markdown",
   "metadata": {},
   "source": [
    "As both $\\alpha$ and $\\beta$ encode the strength of the prior the following parameterization is broadly used\n",
    "\n",
    "$$\n",
    "p(\\sigma^2) = \\text{IG}(\\sigma^2| \\alpha, \\beta) = \\text{IG}\\left(\\sigma^2 \\bigg| \\frac{\\nu}{2}, \\frac{\\nu \\sigma_0^2}{2}\\right)\n",
    "$$\n",
    "\n",
    "where $\\sigma_0^2$ controls the value of the prior and $\\nu$ the strength. Note that this is also closely related to the [inverse chi-square distribution](https://en.wikipedia.org/wiki/Inverse-chi-squared_distribution)"
   ]
  },
  {
   "cell_type": "markdown",
   "metadata": {
    "slideshow": {
     "slide_type": "subslide"
    }
   },
   "source": [
    "### Conjugate prior for Gaussian likelihood when both $\\mu$ and $\\sigma^2$ are unknown\n",
    "\n",
    "Multiplying the normal prior and the IG prior does not yield a conjugate prior (assumes independence of $\\mu$ and $\\sigma$). In this case the conjugate prior is hierarchical\n",
    "\n",
    "$$\n",
    "\\begin{align}\n",
    "p(x_i|\\mu, \\sigma^2) &= \\mathcal{N}(\\mu, \\sigma^2)  \\nonumber \\\\\n",
    "p(\\mu|\\sigma^2) &= \\mathcal{N}(\\mu_0, \\sigma^2/\\lambda_0)  \\nonumber \\\\\n",
    "p(\\sigma^2) &= \\text{IG}(\\alpha, \\beta)  \\nonumber\n",
    "\\end{align}\n",
    "$$\n",
    "\n",
    "which is called **normal-inverse-gamma (NIG)**, a four parameter distribution \n",
    "\n",
    "The NIG prior is\n",
    "\n",
    "$$\n",
    "p(\\mu, \\sigma^2) = \\text{NIG}(\\mu_0, \\lambda_0, \\alpha_0, \\beta_0) = \\mathcal{N}(\\mu|\\mu_0 , \\sigma^2/\\lambda_0) \\text{IG}(\\sigma^2|\\alpha_0, \\beta_0)\n",
    "$$\n",
    "\n",
    "An the posterior is also NIG\n",
    "\n",
    "$$\n",
    "p(\\mu, \\sigma^2|\\{x\\}) =  \\text{NIG}(\\mu_n, \\lambda_n, \\alpha_n, \\beta_n)\n",
    "$$  \n",
    "\n",
    "where\n",
    "\n",
    "- $\\lambda_n = \\lambda_0 + N$\n",
    "- $\\mu_n = \\lambda_n^{-1} \\left ( \\lambda_0 \\mu_0  + N \\bar x \\right)$\n",
    "- $\\alpha_n = \\alpha_0 + N/2$\n",
    "- $\\beta_n = \\beta_0 + 0.5\\mu_0^2\\lambda_0 + 0.5\\sum_i x_i^2 - 0.5\\lambda_n \\mu_n^2$"
   ]
  },
  {
   "cell_type": "markdown",
   "metadata": {},
   "source": [
    "## Describing the posterior using Credible Interval (CI) and the High Posterior Density (HPD) regions\n",
    "\n",
    "One way to summarize the posterior is to measure its **width**\n",
    "\n",
    "The $100(1-\\alpha)$ % CI of $\\theta$ is a contiguous region $[\\theta_{l}, \\theta_{u}]$ such that\n",
    "\n",
    "$$\n",
    "P(\\theta_{l}< \\theta < \\theta_{u}) = 1 - \\alpha\n",
    "$$\n",
    "\n",
    "We have to either know the functional form of the posterior (analytical) or have a posterior from which we can sample from (this is the case if we are using MCMC)\n",
    "\n",
    "The HPD is an alternative to CI that is better when we have multiple modes. The HPD depends not only on the width but also on the height of the posterior. The following figure shows the difference between them\n",
    "\n",
    "\n",
    "<img src=\"img/HPD.png\">\n"
   ]
  },
  {
   "cell_type": "markdown",
   "metadata": {},
   "source": [
    "### Example\n",
    "\n",
    "The 95% CI for the previous example for a given combination of $\\mu_0$, $\\sigma_0^2$ and $N$ is"
   ]
  },
  {
   "cell_type": "code",
   "execution_count": null,
   "metadata": {},
   "outputs": [],
   "source": [
    "mu0, s20, N = 0., 10., 100\n",
    "data = norm(loc=mu_real, scale=np.sqrt(s2_real)).rvs(N, random_state=12345)\n",
    "\n",
    "N = len(data)\n",
    "s2_pos = s2_real*s20/(N*s20 + s2_real)\n",
    "mu_pos = map_mu(data, mu0, s20, s2_real)\n",
    "dist = norm(loc=mu_pos, scale=np.sqrt(s2_pos))\n",
    "\n",
    "display(f'95 % CI for mu: [{dist.ppf(0.025):0.4f}, {dist.ppf(0.975):0.4f}]')"
   ]
  },
  {
   "cell_type": "markdown",
   "metadata": {
    "slideshow": {
     "slide_type": "skip"
    }
   },
   "source": [
    "### Extra: Mean of the posterior\n",
    "\n",
    "Other point estimate that can be used to characterize the posterior is\n",
    "\n",
    "$$\n",
    "\\hat \\theta = \\mathbb{E}[\\theta|\\{x\\}] = \\int \\theta p(\\theta| \\{x\\}) d\\theta,\n",
    "$$\n",
    "\n",
    "*i.e.* the mean or expected value of the posterior"
   ]
  },
  {
   "cell_type": "markdown",
   "metadata": {
    "slideshow": {
     "slide_type": "slide"
    }
   },
   "source": [
    "## Help: My posterior does not have an analytical form\n",
    "\n",
    "In this case we resort to either variational inference (VI) or Markov Chain Monte Carlo (MCMC) methods\n",
    "\n",
    "We will learn how to use MCMC to sample from intractable posterior distributions in a future lesson"
   ]
  },
  {
   "cell_type": "code",
   "execution_count": null,
   "metadata": {},
   "outputs": [],
   "source": []
  }
 ],
 "metadata": {
  "kernelspec": {
   "display_name": "Python 3",
   "language": "python",
   "name": "python3"
  },
  "language_info": {
   "codemirror_mode": {
    "name": "ipython",
    "version": 3
   },
   "file_extension": ".py",
   "mimetype": "text/x-python",
   "name": "python",
   "nbconvert_exporter": "python",
   "pygments_lexer": "ipython3",
   "version": "3.9.7"
  }
 },
 "nbformat": 4,
 "nbformat_minor": 2
}
