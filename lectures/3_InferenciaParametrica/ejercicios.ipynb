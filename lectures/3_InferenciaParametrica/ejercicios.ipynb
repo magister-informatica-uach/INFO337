{
 "cells": [
  {
   "cell_type": "markdown",
   "metadata": {},
   "source": [
    "#### Ejercicio 1\n",
    "Demostrar la siguiente propiedad: \n",
    "#### Propiedad de suma de v.a. chi-cuadrado independientes\n",
    "Sean $X$ e $ Y$ dos v.a. independientes con $X \\sim \\chi^2_{(n)}$ e $Y \\sim \\chi^2_{(m)}$\n",
    "entonces se cumple:\n",
    "$ X+Y \\sim \\chi^2_{(n+m)}$"
   ]
  },
  {
   "cell_type": "markdown",
   "metadata": {},
   "source": [
    "#### Ejercicio 2\n",
    "\n",
    "Demuestre el Teo de Fisher-Cochran\n",
    "\n",
    "Indicaciones:\n",
    "\n",
    "i) Utilice el Teo Fundamental Distribuciones Normales: la combinación lineal de v.a. independientes Normales es Normal (usa funciones generatrices de momentos)\n",
    "\n",
    "(ii)y (iii) Se muestra primero para $Y_i=\\frac{X_i-\\mu}{\\sigma} \\sim {\\cal N}(0,1)$.\n",
    "\n",
    "En efecto si se cumple para $Y_i, i=1,\\cdots,n$, se cumple para $X_i, i=1,\\cdots,n$ puesto que: \n",
    "\n",
    "$$\\bar{Y} = \\frac{\\bar{X} - \\mu}{\\sigma} \\qquad \\text{y}\\qquad (n-1)S_Y^2 = \\frac{(n-1) S_X^2}{\\sigma^2}$$\n",
    "\n",
    "Para ello se considera una transformación ortogonal $A$ tal que $(Z_1,\\cdots,Z_n) = AY^T$ conserva la independencia entre $Z_i \\sim {\\cal N}(0,1)$ de manera que $\\bar{Y}$ es función lineal de $Z_1$ y $S^2$ de $Z_2^2,\\cdots Z_n^2$."
   ]
  },
  {
   "cell_type": "markdown",
   "metadata": {},
   "source": [
    "#### Ejercicio 3\n",
    "Demuestre el siguiente corolario:\n",
    "\n",
    "#### Corolario ( del Teo Fisher-Cochran)\n",
    "Sean $X_1,\\cdots,X_n$ v.a.i.i.d. ${\\it N}(\\mu,\\sigma^2)$ entonces se cumple:\n",
    "\n",
    "$$ \\sqrt{n} \\frac{(\\bar{X} - \\mu)}{S} \\sim t_{(n-1)}$$\n"
   ]
  },
  {
   "cell_type": "markdown",
   "metadata": {},
   "source": [
    "#### Ejercicio 4\n",
    "Derive el intervalo de confianza para la diferencia de medias en  el caso de varianza desconocida, pero común a ambas muestras ($\\sigma_1 = \\sigma_2 = \\sigma$ desconocida)."
   ]
  },
  {
   "cell_type": "markdown",
   "metadata": {},
   "source": [
    "#### Ejercicio 5\n",
    "Relaje el ejemplo anterior considerando que no se conoce la varianza $\\sigma^2$. Construya el nuevo intervalo de confianza.\n",
    "\n",
    "Nota: considere que $t_{(8),0.025}= 2.306$"
   ]
  },
  {
   "cell_type": "markdown",
   "metadata": {},
   "source": [
    "#### Ejercicio 6\n",
    "Exprese el p-value como una probabilidad condicional que involucre a los datos y $H_0$."
   ]
  },
  {
   "cell_type": "markdown",
   "metadata": {},
   "source": [
    "#### Ejercicio 7\n",
    "(a) Suponga que cuando una señal de valor $\\mu$ es transmitida desde una ubicación A, el valor que se recibe en la localización B sigue una distribución normal de media $\\mu$ y varianza $2$. En la localización B tienen razones para suponer que el valor enviado es 8. Pruebe esta hipótesis considerando que se han realizado cinco transmisiones independendientes cuyo promedio $\\bar{x} = 8.5$\n",
    "\n",
    "(b) Repita el ejercicio considerando el caso de que $\\bar{x} = 11.5$\n"
   ]
  },
  {
   "cell_type": "markdown",
   "metadata": {},
   "source": [
    "#### Ejercicio 8\n",
    "(i) Deducir test de hipótesis para el caso de la media de muestra normal con varianza desconocida\n",
    "\n",
    "(ii) Deducir test de hipótesis para comparar las medias de dos  muestras normales independientes con varianzas conocidas $\\sigma_1$ y $\\sigma_2$\n",
    "\n",
    "(iii) Deducir test de hipótesis para comparar la media de las diferencias de dos muestras normales pareadas (tipo pre y post-test)"
   ]
  },
  {
   "cell_type": "code",
   "execution_count": null,
   "metadata": {},
   "outputs": [],
   "source": []
  },
  {
   "cell_type": "code",
   "execution_count": null,
   "metadata": {},
   "outputs": [],
   "source": []
  }
 ],
 "metadata": {
  "kernelspec": {
   "display_name": "R",
   "language": "R",
   "name": "ir"
  },
  "language_info": {
   "codemirror_mode": "r",
   "file_extension": ".r",
   "mimetype": "text/x-r-source",
   "name": "R",
   "pygments_lexer": "r",
   "version": "4.0.5"
  }
 },
 "nbformat": 4,
 "nbformat_minor": 2
}
