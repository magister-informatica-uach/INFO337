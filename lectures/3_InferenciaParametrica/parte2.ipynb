{
 "cells": [
  {
   "cell_type": "markdown",
   "metadata": {},
   "source": [
    "## Estimación de Intervalos de confianza\n",
    "\n",
    "#### Objetivo\n",
    "Obtener un intervalo con una cierta confianza de que el parámetro poblacional se encuentra ahí. Transitar de la estimación puntual al intervalo de confianza, nos permite ganar en precisión de la estimación al mismo tiempo que incorporamos un cierto nivel de confianza.\n",
    "#### Definición\n",
    "Un intervalo de confianza $(1-\\alpha)$ para un parámetro $\\theta$ es un intervalo $C_n = (a,b)$ con $a= a(X_1,\\cdots,X_n)$ y $b= b(X_1,\\cdots,X_n)$ funciones de los datos tales que:\n",
    "$$P_{\\theta}(\\theta \\in C_n) \\geq 1-\\alpha \\qquad \\forall \\theta \\in \\Theta$$\n",
    "\n",
    "$(1-\\alpha)$ es la cobertura del intervalo de confianza"
   ]
  },
  {
   "cell_type": "markdown",
   "metadata": {},
   "source": [
    "#### Ejemplo\n",
    "Suponga que el tiempo de llegada al trabajo de las personas que viven en Valdivia sigue una distribución Normal de media $\\mu$ y varianaza $\\sigma^2$. Considere que se tiene una muestra aleatoria de 45 personas que trabajan en Valdiva, cuyo tiempo promedio de llegada al trabajo es de 21 minutos con desviación estandar muestral de 9 minutos. \n",
    "\n",
    "Al calcular un intervalo de confianza al 95% (mas adelante aprenderemos como hacerlo) para la media de la muestra, usando la distribución t-student, se obtiene $(18.3, 23.7)$.\n",
    "\n"
   ]
  },
  {
   "cell_type": "markdown",
   "metadata": {},
   "source": [
    "#### Interpretaciones erróneas de los Intervalos de Confianza\n",
    "(i)Al  $95\\%$ de los 45 trabajadores les toma entre 18.3 y 23.7 minutos llegar al trabajo.\n",
    "#### Falso\n",
    "El intervalo de confianza concierne a todos los trabajadores, no sólo a los 45 de la muestra.\n",
    "\n",
    "(ii) Hay un $95\\%$ de posibilidades de que el tiempo medio  que les tome llegar a su trabajo a todos lo trabajadores de Valdivia, esté entre 18.3 y 23.7 minutos. \n",
    "\n",
    "#### Falso\n",
    "Asi descrita, parece una afirmación sobre las probabilidades de las v.a. que definen los extremos del intervalo. \n"
   ]
  },
  {
   "cell_type": "markdown",
   "metadata": {},
   "source": [
    "#### Interpretaciones correctas  de los Intervalos de Confianza\n",
    "(i)Tenemos una confianza del $95\\%$ de que el tiempo medio  que les toma llegar a su trabajo a todos lo trabajadores de Valdivia, está entre 18.3 y 23.7 minutos, o bien que la media teórica de la distribución se encuentra entre 18.3 y 23.7 minutos.\n",
    "\n",
    "(ii)Si se extrajeran múltiples muestras aleatorias de la misma población y se calcularan los intervalos de confianza al $95\\%$ para cada muestra, esperamos que la media de la población se encuentre en el $95\\%$ de esos intervalos, o que el $95\\%$ de los intervalos contenga la media teórica. \n",
    "\n"
   ]
  },
  {
   "cell_type": "markdown",
   "metadata": {},
   "source": [
    "#### ¿Cómo calcular un Intervalo de Confianza?\n",
    "\n",
    "#### Clave\n",
    "Obtener la distribucioón de probabilidad del estimador puntual \n",
    "\n",
    "#### Foco en esta sesión\n",
    "Poblaciones distribuidas normalmente para estimar intervalos de confianza de la media o la diferencia de medias.\n"
   ]
  },
  {
   "cell_type": "markdown",
   "metadata": {},
   "source": [
    "### Caso 1: Media de distribución Normal con varianza conocida \n",
    "Sean $X_1,\\cdots,X_n$ v.a.i.i.d. ${\\cal N}(\\mu,\\sigma^2)$ entonces, por el Teo de Fisher-Cochran se cumple\n",
    "$$ Z = \\frac{\n",
    "\\bar{X}-\\mu}{\\frac{\\sigma}{\\sqrt{n}}} \\sim {\\cal N}(0,1)$$\n",
    "\n",
    "Sea $z_{\\frac{\\alpha}{2}}$ tal que $$P(-z_{\\frac{\\alpha}{2}}\\leq Z \\leq z_{\\frac{\\alpha}{2}}) = 1-\\alpha$$\n",
    "\n",
    "Entonces se define el intervalo de confianza del $100(1-\\alpha)\\%$ para $\\mu$ como:\n",
    "$$\\left(\\bar{x} - z_{\\frac{\\alpha}{2}}\\frac{\\sigma}{\\sqrt{n}}, \n",
    "\\bar{x} + z_{\\frac{\\alpha}{2}}\\frac{\\sigma}{\\sqrt{n}}\\right )$$\n",
    "\n"
   ]
  },
  {
   "cell_type": "markdown",
   "metadata": {},
   "source": [
    "#### Ejemplo\n",
    "Suponga que cuando una señal de valor $\\mu$ es transmitida desde una ubicación A, el valor que se recibe en la localización B sigue una distribución normal de media $\\mu$ y varianza $2$. Considere que para reducir el error, se ha enviado nueve veces el mismo valor. Los sucesivos valores recibidos son: $5, 8.5, 12, 15, 7, 9, 7.5, 6.5, 10.5$.\n",
    "Construya un intervalo de confianza al $95\\%$ para $\\mu$.\n",
    "\n",
    "Vemos que $\\bar{x} = \\frac{81}{9} = 9$, por otra parte resulta que para $100(1-\\alpha)\\% = 95\\%$ se tiene que $z_{\\frac{\\alpha}{2}}= z_{0.025} = 1.96$\n",
    "\n"
   ]
  },
  {
   "cell_type": "code",
   "execution_count": 24,
   "metadata": {},
   "outputs": [
    {
     "name": "stdout",
     "output_type": "stream",
     "text": [
      "[1] 9.000000 1.414214 8.076047 9.923953\n"
     ]
    }
   ],
   "source": [
    "datos <- c(5, 8.5, 12, 15, 7, 9, 7.5, 6.5, 10.5)\n",
    "media <- mean(datos)\n",
    "sigma <- sqrt(2)\n",
    "n <- 9\n",
    "rango1 <- media - 1.96*sigma/sqrt(n)\n",
    "rango2 <- media + 1.96*sigma/sqrt(n)\n",
    "print(c(media, sigma,rango1, rango2))"
   ]
  },
  {
   "cell_type": "markdown",
   "metadata": {},
   "source": [
    "### Caso 2: Media de distribución Normal con varianza desconocida \n",
    "\n",
    "Sean $X_1,\\cdots,X_n$ v.a.i.i.d. ${\\it N}(\\mu,\\sigma^2)$ entonces, del Corolario del Teo de Fisher-Cochran se cumple:\n",
    "\n",
    "$$ \\frac{(\\bar{X} - \\mu)}{\\frac{S}{\\sqrt{n}}} \\sim t_{(n-1)}$$\n",
    "\n",
    "\n",
    "Sea $t_{(n-1),\\frac{\\alpha}{2}}$ tal que $$P(-t_{(n-1),\\frac{\\alpha}{2}}\\leq t_{(n-1)} \\leq t_{(n-1),\\frac{\\alpha}{2}}) = 1-\\alpha$$\n",
    "\n",
    "Entonces se define el intervalo de confianza del $100(1-\\alpha)\\%$ para $\\mu$ como:\n",
    "$$\\left(\\bar{x} - t_{(n-1),\\frac{\\alpha}{2}}\\frac{S}{\\sqrt{n}}, \n",
    "\\bar{x} + t_{(n-1),\\frac{\\alpha}{2}}\\frac{S}{\\sqrt{n}}\\right )$$\n",
    "\n"
   ]
  },
  {
   "cell_type": "code",
   "execution_count": 25,
   "metadata": {},
   "outputs": [
    {
     "name": "stdout",
     "output_type": "stream",
     "text": [
      "[1]  9.000000  3.082207  6.630810 11.369190\n"
     ]
    }
   ],
   "source": [
    "datos <- c(5, 8.5, 12, 15, 7, 9, 7.5, 6.5, 10.5)\n",
    "media <- mean(datos)\n",
    "s <- sd(datos)\n",
    "n <- 9\n",
    "rango1 <- media - 2.306*s/sqrt(n)\n",
    "rango2 <- media + 2.306*s/sqrt(n)\n",
    "print(c(media, s,rango1, rango2))"
   ]
  },
  {
   "cell_type": "markdown",
   "metadata": {},
   "source": [
    "## El supuesto de normalidad\n",
    "Notar que los intervalos de confianza para media muestral aquí construidos, se pueden generalizar para el caso de muestras aleatorias que provienen de otras distribuciones de probabilidad distintas a la normal.\n",
    "\n",
    "En efecto, del Teo del Límite Central se tiene que para $n$ suficientemente grande ($n \\geq 30$, si la distribucion no es muy asimétrica) :\n",
    "\n",
    "$$  \\frac{(\\bar{X} - \\mu)}{\\frac{\\sigma}{\\sqrt{n}}} \\approx {\\cal N}(0,1)$$\n",
    "\n",
    "y mas aún, del Teorema de Slutsky se tiene:\n",
    "\n",
    "$$ \\frac{(\\bar{X} - \\mu)}{\\frac{S}{\\sqrt{n}}} \\approx  {\\cal N}(0,1)$$.\n"
   ]
  },
  {
   "cell_type": "markdown",
   "metadata": {},
   "source": [
    "### Caso 3: Diferencia de Medias de dos distribuciones Normales con varianzas conocidas \n",
    "Sean $X_1,\\cdots,X_n$ v.a.i.i.d. ${\\cal N}(\\mu_1,\\sigma_1^2)$ y $Y_1,\\cdots,Y_m$ v.a.i.i.d. ${\\cal N}(\\mu_2,\\sigma_2^2)$\n",
    "Suponga además que ambas muestras aleatorias son independientes.\n",
    "En lo que sigue construiremos un intervalo de confianza para la diferencia de medias $\\mu_1-\\mu_2$\n",
    "\n",
    "del Teo de Fisher-Cochran se cumple:\n",
    "\n",
    "$$ \\bar{X} \\sim {\\cal N}(\\mu_1,\\frac{\\sigma_1^2}{n})$$\n",
    "\n",
    "$$ \\bar{Y} \\sim {\\cal N}(\\mu_2,\\frac{\\sigma_2^2}{m})$$\n",
    "\n",
    "Como $\\bar{X}$ es independiente de $\\bar{Y}$, ambas distribuidas normales, entonces \n",
    "\n",
    "$$ \\bar{X}- \\bar{Y} \\sim {\\cal N}(\\mu_1 - \\mu_2,\\frac{\\sigma_1^2}{n}+\\frac{\\sigma_2^2}{m})$$\n",
    "\n",
    "Asi\n",
    "\n",
    "$$Z = \\frac{\\bar{X}- \\bar{Y} - (\\mu_1 - \\mu_2)}{\\sqrt{\\frac{\\sigma_1^2}{n}+\\frac{\\sigma_2^2}{m}}}  \\sim {\\cal N}(0,1)$$\n",
    "\n",
    "\n",
    "\n",
    "Sea $z_{\\frac{\\alpha}{2}}$ tal que $$P(-z_{\\frac{\\alpha}{2}}\\leq Z \\leq z_{\\frac{\\alpha}{2}}) = 1-\\alpha$$\n",
    "\n",
    "Entonces se define el intervalo de confianza del $100(1-\\alpha)\\%$ para $\\mu_1 - \\mu_2$ como:\n",
    "$$\\left(\\bar{x}-\\bar{y} - z_{\\frac{\\alpha}{2}}{\\sqrt{\\frac{\\sigma_1^2}{n}+\\frac{\\sigma_2^2}{m}}}, \n",
    "\\bar{x}-\\bar{y} + z_{\\frac{\\alpha}{2}}{\\sqrt{\\frac{\\sigma_1^2}{n}+\\frac{\\sigma_2^2}{m}}}\\right )$$\n",
    "\n"
   ]
  }
 ],
 "metadata": {
  "kernelspec": {
   "display_name": "R",
   "language": "R",
   "name": "ir"
  },
  "language_info": {
   "codemirror_mode": "r",
   "file_extension": ".r",
   "mimetype": "text/x-r-source",
   "name": "R",
   "pygments_lexer": "r",
   "version": "4.0.5"
  }
 },
 "nbformat": 4,
 "nbformat_minor": 2
}
